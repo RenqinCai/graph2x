{
 "cells": [
  {
   "cell_type": "code",
   "execution_count": 1,
   "metadata": {},
   "outputs": [
    {
     "name": "stdout",
     "output_type": "stream",
     "text": [
      "/sw/centos/anaconda3/2019.10/bin/python\n"
     ]
    }
   ],
   "source": [
    "!which python"
   ]
  },
  {
   "cell_type": "code",
   "execution_count": 2,
   "metadata": {},
   "outputs": [],
   "source": [
    "import spacy\n",
    "import nltk\n",
    "import re\n",
    "import json\n",
    "import pandas as pd\n",
    "import os\n",
    "import numpy as np\n",
    "from nltk.tokenize import sent_tokenize"
   ]
  },
  {
   "cell_type": "markdown",
   "metadata": {},
   "source": [
    "# Load Data"
   ]
  },
  {
   "cell_type": "code",
   "execution_count": 4,
   "metadata": {},
   "outputs": [
    {
     "name": "stdout",
     "output_type": "stream",
     "text": [
      "100000 lines loaded.\n",
      "200000 lines loaded.\n",
      "300000 lines loaded.\n",
      "400000 lines loaded.\n",
      "500000 lines loaded.\n",
      "600000 lines loaded.\n",
      "700000 lines loaded.\n",
      "800000 lines loaded.\n",
      "900000 lines loaded.\n",
      "Finish loading train dataset, totally 939044 lines.\n",
      "10000 lines loaded.\n",
      "20000 lines loaded.\n",
      "30000 lines loaded.\n",
      "40000 lines loaded.\n",
      "50000 lines loaded.\n",
      "60000 lines loaded.\n",
      "70000 lines loaded.\n",
      "80000 lines loaded.\n",
      "90000 lines loaded.\n",
      "100000 lines loaded.\n",
      "110000 lines loaded.\n",
      "Finish loading test dataset, totally 119576 lines.\n"
     ]
    }
   ],
   "source": [
    "# Load Data from the original dataset\n",
    "dir_path = '../Dataset/ratebeer/original_dataset'\n",
    "# Load train dataset\n",
    "train_review = []\n",
    "cnt = 0\n",
    "file_path = os.path.join(dir_path, 'train.json')\n",
    "with open(file_path) as f:\n",
    "    for line in f:\n",
    "        line_data = json.loads(line)\n",
    "        user_id = line_data['user']\n",
    "        item_id = line_data['item']\n",
    "        rating = line_data['rating']\n",
    "        review = line_data['review']\n",
    "        train_review.append([item_id, user_id, rating, review])\n",
    "        cnt += 1\n",
    "        if cnt % 100000 == 0:\n",
    "            print('{} lines loaded.'.format(cnt))\n",
    "print('Finish loading train dataset, totally {} lines.'.format(len(train_review)))\n",
    "# Load test dataset\n",
    "test_review = []\n",
    "cnt = 0\n",
    "file_path = os.path.join(dir_path, 'test.json')\n",
    "with open(file_path) as f:\n",
    "    for line in f:\n",
    "        line_data = json.loads(line)\n",
    "        user_id = line_data['user']\n",
    "        item_id = line_data['item']\n",
    "        rating = line_data['rating']\n",
    "        review = line_data['review']\n",
    "        test_review.append([item_id, user_id, rating, review])\n",
    "        cnt += 1\n",
    "        if cnt % 10000 == 0:\n",
    "            print('{} lines loaded.'.format(cnt))\n",
    "print('Finish loading test dataset, totally {} lines.'.format(len(test_review)))"
   ]
  },
  {
   "cell_type": "markdown",
   "metadata": {},
   "source": [
    "# Check Review with 0 sentences"
   ]
  },
  {
   "cell_type": "code",
   "execution_count": 5,
   "metadata": {},
   "outputs": [],
   "source": [
    "cnt = 0\n",
    "for train_data_instance in train_review:\n",
    "    review_text = train_data_instance[-1]\n",
    "    review_sents = sent_tokenize(review_text)\n",
    "    if len(review_sents) == 0:\n",
    "        assert review_text == ''\n",
    "        cnt += 1"
   ]
  },
  {
   "cell_type": "code",
   "execution_count": 6,
   "metadata": {},
   "outputs": [
    {
     "data": {
      "text/plain": "0"
     },
     "execution_count": 6,
     "metadata": {},
     "output_type": "execute_result"
    }
   ],
   "source": [
    "cnt"
   ]
  },
  {
   "cell_type": "code",
   "execution_count": 9,
   "metadata": {},
   "outputs": [],
   "source": [
    "cnt = 0\n",
    "for test_data_instance in test_review:\n",
    "    review_text = test_data_instance[-1]\n",
    "    if review_text == '':\n",
    "        cnt += 1"
   ]
  },
  {
   "cell_type": "code",
   "execution_count": 10,
   "metadata": {},
   "outputs": [
    {
     "data": {
      "text/plain": "0"
     },
     "execution_count": 10,
     "metadata": {},
     "output_type": "execute_result"
    }
   ],
   "source": [
    "cnt"
   ]
  },
  {
   "cell_type": "markdown",
   "metadata": {},
   "source": [
    "# Check Duplicate Reviews"
   ]
  },
  {
   "cell_type": "code",
   "execution_count": 13,
   "metadata": {},
   "outputs": [
    {
     "name": "stdout",
     "output_type": "stream",
     "text": [
      "[Train] Number of duplicate reviews: 20579\n",
      "[Train] Number of unique reviews: 918465\n"
     ]
    }
   ],
   "source": [
    "# in train set\n",
    "trainset_user_item_set = set()\n",
    "cnt_duplicate_review = 0\n",
    "\n",
    "for train_data_chunk in train_review:\n",
    "    item_id = str(train_data_chunk[0])\n",
    "    user_id = str(train_data_chunk[1])\n",
    "    if (user_id, item_id) in trainset_user_item_set:\n",
    "        cnt_duplicate_review += 1\n",
    "    else:\n",
    "        trainset_user_item_set.add((user_id, item_id))\n",
    "\n",
    "print(\"[Train] Number of duplicate reviews: {}\".format(cnt_duplicate_review))\n",
    "print(\"[Train] Number of unique reviews: {}\".format(len(trainset_user_item_set)))"
   ]
  },
  {
   "cell_type": "code",
   "execution_count": 20,
   "metadata": {},
   "outputs": [
    {
     "name": "stdout",
     "output_type": "stream",
     "text": [
      "[Test] Number of duplicate reviews: 363\n",
      "[Test] Number of unique reviews: 119213\n"
     ]
    }
   ],
   "source": [
    "# in test set\n",
    "testset_user_item_set = set()\n",
    "cnt_duplicate_review = 0\n",
    "\n",
    "for test_data_chunk in test_review:\n",
    "    item_id = str(test_data_chunk[0])\n",
    "    user_id = str(test_data_chunk[1])\n",
    "    if (user_id, item_id) in testset_user_item_set:\n",
    "        cnt_duplicate_review += 1\n",
    "    else:\n",
    "        testset_user_item_set.add((user_id, item_id))\n",
    "\n",
    "print(\"[Test] Number of duplicate reviews: {}\".format(cnt_duplicate_review))\n",
    "print(\"[Test] Number of unique reviews: {}\".format(len(testset_user_item_set)))"
   ]
  },
  {
   "cell_type": "code",
   "execution_count": 12,
   "metadata": {},
   "outputs": [],
   "source": [
    "df_train_data = pd.DataFrame(train_review, columns=['item', 'user', 'rating', 'review'])\n",
    "df_test_data = pd.DataFrame(test_review, columns=['item', 'user', 'rating', 'review'])"
   ]
  },
  {
   "cell_type": "code",
   "execution_count": 17,
   "metadata": {},
   "outputs": [
    {
     "name": "stdout",
     "output_type": "stream",
     "text": [
      "        item user  rating                                             review\n",
      "324642  1637  103      14  good head , creamy , over copper - chestnut be...\n",
      "325261  1637  103      14  good head , creamy , over copper - chest nut b...\n",
      "       item  user  rating                                             review\n",
      "557159  361  1139      12  pours golden with fizzy white head that quickl...\n",
      "557181  361  1139      12  pours golden with fizzy white head that quickl...\n",
      "        item user  rating                                             review\n",
      "192136  2242  116      16  i have belgianprincess on ba to thank for this...\n",
      "192819  2242  116      16  i have belgianprincess on ba to thank for this...\n",
      "       item user  rating                                             review\n",
      "266823  520  167      14  updated : aug 30 , 2010 gabf 2009 , day 1 : da...\n",
      "267042  520  167      14  updated : aug 30 , 2010 gabf 2009 , day 1 : da...\n",
      "        item  user  rating                                             review\n",
      "820585  3029  1936      13  a new brew from high & mighty , contract brewe...\n",
      "820592  3029  1936      13  a new brew from high & mighty , contract brewe...\n",
      "       item user  rating                                             review\n",
      "166203  768   22      17  on tap in plantation , fl . no real hint of th...\n",
      "166264  768   22      17  on tap in plantation , fl. no real hint of the...\n",
      "        item user  rating                                             review\n",
      "118131  4321  224      15  11 / 30 / 2007 : moerlein christkindl winter w...\n",
      "118576  4321  224      15  11 / 30 / 2007 : moerlein christkindl winter w...\n",
      "        item user  rating                                             review\n",
      "704558  1283  250       3  tastes like total shite . is there no beer in ...\n",
      "704936  1283  250       3  tastes like total shite . is there no beer in ...\n",
      "       item  user  rating                                             review\n",
      "862517  520  2541      15  deep black with a tan fluffy head and nice lac...\n",
      "862544  520  2541      15  deep black with a tan fluffy head and nice lac...\n",
      "       item  user  rating                                             review\n",
      "766929  520  2636      14  aroma : a little thin on scent . smells of roa...\n",
      "766956  520  2636      14  aroma : a little thin on scent . smells of roa...\n",
      "        item user  rating                                             review\n",
      "147856  1487  272      13  courtesy of tytoanderso. fairly smoky aroma .....\n",
      "147931  1487  272      13  courtesy of tytoanderso . fairly smoky aroma ....\n",
      "       item user  rating                                             review\n",
      "871555  534  357      11  lone star brewing company - - lone star - - th...\n",
      "871692  534  357      11  lone star brewing company - - lone star - - th...\n",
      "        item user  rating                                             review\n",
      "359544  3183  387      15  i must have gotten a good bottle joe because t...\n",
      "359785  3183  387      15  i must have gotten a good bottle joe because t...\n",
      "       item user  rating                                             review\n",
      "504370  878  453      13  1 pint 6 fl. bottle shared by lubiere ( merci ...\n",
      "504803  878  453      13  1 pint 6 fl . bottle shared by lubiere ( merci...\n",
      "        item user  rating                                             review\n",
      "436598  1290  485      15  bottle from dasilky 1 . this pours a rustic am...\n",
      "436606  1290  485      15  bottle from dasilky1 . this pours a rustic amb...\n",
      "        item user  rating                                             review\n",
      "612928  4272  526      12  bottle - 500 ml. pours a dark brown body with ...\n",
      "613062  4272  526      12  bottle - 500 ml . pours a dark brown body with...\n",
      "        item user  rating                                             review\n",
      "612771  5103  526      14  bottle - 500 ml. hazy amber body with low carb...\n",
      "612932  5103  526      14  bottle - 500 ml . hazy amber body with low car...\n",
      "       item user  rating                                             review\n",
      "253446  505  671      15  on tap at 21a . pours a hazy gold with a pink ...\n",
      "253540  505  671      15  on tap at 21a. pours a hazy gold with a pink h...\n",
      "        item user  rating                                             review\n",
      "166891  2246   70      14  appearance : pours a hazy , orange body with a...\n",
      "167268  2246   70      14  appearance : pours a hazy , orange body with a...\n",
      "       item user  rating                                             review\n",
      "669450  482  701      16  crystal clear orange - brown color with a nice...\n",
      "669541  482  701      16  crystal clear orange - brown color with a nice...\n",
      "Total unique user-item pair: 918465\n",
      "Total duplicate reviews: 20579\n"
     ]
    }
   ],
   "source": [
    "# make sure that duplicate reviews has the same rating and review text\n",
    "# goupby multiple columns (user and item)\n",
    "groupby_user_item = df_train_data.groupby(['user', 'item'])\n",
    "cnt_duplicate_review = 0\n",
    "cnt_user_item_pair = 0\n",
    "for key, item in groupby_user_item:\n",
    "    cur_df_user_item = groupby_user_item.get_group(key)\n",
    "    cnt_user_item_pair += 1\n",
    "    if len(cur_df_user_item) > 1:\n",
    "        rating_list = list(cur_df_user_item['rating'])\n",
    "        review_text_list = list(cur_df_user_item['review'])\n",
    "        cnt_duplicate_review += len(cur_df_user_item) - 1\n",
    "        for i in range(len(cur_df_user_item)):\n",
    "            assert rating_list[i] == rating_list[0]\n",
    "            if review_text_list[i] == review_text_list[0]:\n",
    "                pass\n",
    "            else:\n",
    "                print(cur_df_user_item)\n",
    "print(\"Total unique user-item pair: {}\".format(cnt_user_item_pair))\n",
    "print(\"Total duplicate reviews: {}\".format(cnt_duplicate_review))"
   ]
  },
  {
   "cell_type": "markdown",
   "metadata": {},
   "source": [
    "# Filter those Data with 0 sentences\n",
    "Make sure that there are no review in training/testing set that contain an empty review text."
   ]
  },
  {
   "cell_type": "code",
   "execution_count": 18,
   "metadata": {},
   "outputs": [
    {
     "name": "stdout",
     "output_type": "stream",
     "text": [
      "[Train] number of reviews in train set: 918465\n"
     ]
    }
   ],
   "source": [
    "with open('../Dataset/ratebeer/original_dataset/train_no_duplicate.json', 'w') as f1:\n",
    "    user_item_set = set()\n",
    "    cnt_reviews = 0\n",
    "    for row in train_review:\n",
    "        text = row[-1]\n",
    "        user_id = row[1]\n",
    "        item_id = row[0]\n",
    "        if text == '':\n",
    "            continue\n",
    "        elif (user_id, item_id) in user_item_set:\n",
    "            continue\n",
    "        else:\n",
    "            user_item_set.add((user_id, item_id))\n",
    "            row_dict = {'user': row[1], 'item': row[0], 'rating': row[2], 'review': row[-1]}\n",
    "            cnt_reviews += 1\n",
    "            # dump this dict into file\n",
    "            json.dump(row_dict, f1)\n",
    "            f1.write(\"\\n\")\n",
    "print(\"[Train] number of reviews in train set: {}\".format(cnt_reviews))"
   ]
  },
  {
   "cell_type": "code",
   "execution_count": 21,
   "metadata": {},
   "outputs": [
    {
     "name": "stdout",
     "output_type": "stream",
     "text": [
      "[Test] number of reviews in train set: 119213\n"
     ]
    }
   ],
   "source": [
    "with open('../Dataset/ratebeer/original_dataset/test_no_duplicate.json', 'w') as f1:\n",
    "    user_item_set = set()\n",
    "    cnt_reviews = 0\n",
    "    for row in test_review:\n",
    "        text = row[-1]\n",
    "        user_id = row[1]\n",
    "        item_id = row[0]\n",
    "        if text == '':\n",
    "            continue\n",
    "        elif (user_id, item_id) in user_item_set:\n",
    "            continue\n",
    "        else:\n",
    "            user_item_set.add((user_id, item_id))\n",
    "            row_dict = {'user': row[1], 'item': row[0], 'rating': row[2], 'review': row[-1]}\n",
    "            # dump this dict into file\n",
    "            cnt_reviews += 1\n",
    "            json.dump(row_dict, f1)\n",
    "            f1.write(\"\\n\")\n",
    "print(\"[Test] number of reviews in train set: {}\".format(cnt_reviews))"
   ]
  }
 ],
 "metadata": {
  "kernelspec": {
   "display_name": "Python 3.7.4 64-bit ('2019.10': virtualenv)",
   "name": "python374jvsc74a57bd020bbdedb0079e23a85211f14a09dbcc829fefc965ff02508ebf68fe08b48d387"
  },
  "language_info": {
   "codemirror_mode": {
    "name": "ipython",
    "version": 3
   },
   "file_extension": ".py",
   "mimetype": "text/x-python",
   "name": "python",
   "nbconvert_exporter": "python",
   "pygments_lexer": "ipython3",
   "version": "3.7.4"
  },
  "metadata": {
   "interpreter": {
    "hash": "20bbdedb0079e23a85211f14a09dbcc829fefc965ff02508ebf68fe08b48d387"
   }
  },
  "orig_nbformat": 2
 },
 "nbformat": 4,
 "nbformat_minor": 2
}