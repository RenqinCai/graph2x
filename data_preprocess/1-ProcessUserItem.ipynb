{
 "cells": [
  {
   "cell_type": "code",
   "execution_count": 1,
   "metadata": {},
   "outputs": [
    {
     "name": "stdout",
     "output_type": "stream",
     "text": [
      "/sw/centos/anaconda3/2019.10/bin/python\n"
     ]
    }
   ],
   "source": [
    "!which python"
   ]
  },
  {
   "cell_type": "code",
   "execution_count": 2,
   "metadata": {},
   "outputs": [],
   "source": [
    "import spacy\n",
    "import nltk\n",
    "import re\n",
    "import json\n",
    "import pandas as pd\n",
    "import os\n",
    "import numpy as np"
   ]
  },
  {
   "cell_type": "markdown",
   "metadata": {},
   "source": [
    "# Read Data"
   ]
  },
  {
   "cell_type": "code",
   "execution_count": 3,
   "metadata": {},
   "outputs": [
    {
     "name": "stdout",
     "output_type": "stream",
     "text": [
      "100000 lines loaded.\n",
      "200000 lines loaded.\n",
      "300000 lines loaded.\n",
      "400000 lines loaded.\n",
      "500000 lines loaded.\n",
      "600000 lines loaded.\n",
      "700000 lines loaded.\n",
      "800000 lines loaded.\n",
      "900000 lines loaded.\n",
      "Finish loading train dataset, totally 918465 lines.\n",
      "10000 lines loaded.\n",
      "20000 lines loaded.\n",
      "30000 lines loaded.\n",
      "40000 lines loaded.\n",
      "50000 lines loaded.\n",
      "60000 lines loaded.\n",
      "70000 lines loaded.\n",
      "80000 lines loaded.\n",
      "90000 lines loaded.\n",
      "100000 lines loaded.\n",
      "110000 lines loaded.\n",
      "Finish loading test dataset, totally 119213 lines.\n"
     ]
    }
   ],
   "source": [
    "# Load original dataset\n",
    "dir_path = '../Dataset/ratebeer/original_dataset'\n",
    "# Load train dataset\n",
    "train_review = []\n",
    "cnt = 0\n",
    "file_path = os.path.join(dir_path, 'train_no_duplicate.json')\n",
    "with open(file_path) as f:\n",
    "    for line in f:\n",
    "        line_data = json.loads(line)\n",
    "        user_id = line_data['user']\n",
    "        item_id = line_data['item']\n",
    "        rating = line_data['rating']\n",
    "        review = line_data['review']\n",
    "        train_review.append([item_id, user_id, rating, review])\n",
    "        cnt += 1\n",
    "        if cnt % 100000 == 0:\n",
    "            print('{} lines loaded.'.format(cnt))\n",
    "print('Finish loading train dataset, totally {} lines.'.format(len(train_review)))\n",
    "# Load test dataset\n",
    "test_review = []\n",
    "cnt = 0\n",
    "file_path = os.path.join(dir_path, 'test_no_duplicate.json')\n",
    "with open(file_path) as f:\n",
    "    for line in f:\n",
    "        line_data = json.loads(line)\n",
    "        user_id = line_data['user']\n",
    "        item_id = line_data['item']\n",
    "        rating = line_data['rating']\n",
    "        review = line_data['review']\n",
    "        test_review.append([item_id, user_id, rating, review])\n",
    "        cnt += 1\n",
    "        if cnt % 10000 == 0:\n",
    "            print('{} lines loaded.'.format(cnt))\n",
    "print('Finish loading test dataset, totally {} lines.'.format(len(test_review)))"
   ]
  },
  {
   "cell_type": "markdown",
   "metadata": {},
   "source": [
    "## Convert list data to pandas dataframe"
   ]
  },
  {
   "cell_type": "code",
   "execution_count": 4,
   "metadata": {},
   "outputs": [],
   "source": [
    "df_train_data = pd.DataFrame(train_review, columns=['item', 'user', 'rating', 'review'])\n",
    "df_test_data = pd.DataFrame(test_review, columns=['item', 'user', 'rating', 'review'])"
   ]
  },
  {
   "cell_type": "code",
   "execution_count": 5,
   "metadata": {},
   "outputs": [
    {
     "data": {
      "text/html": "<div>\n<style scoped>\n    .dataframe tbody tr th:only-of-type {\n        vertical-align: middle;\n    }\n\n    .dataframe tbody tr th {\n        vertical-align: top;\n    }\n\n    .dataframe thead th {\n        text-align: right;\n    }\n</style>\n<table border=\"1\" class=\"dataframe\">\n  <thead>\n    <tr style=\"text-align: right;\">\n      <th></th>\n      <th>item</th>\n      <th>user</th>\n      <th>rating</th>\n      <th>review</th>\n    </tr>\n  </thead>\n  <tbody>\n    <tr>\n      <th>0</th>\n      <td>652</td>\n      <td>31</td>\n      <td>10</td>\n      <td>poured in a sn pint glass : small fizzy fading...</td>\n    </tr>\n    <tr>\n      <th>1</th>\n      <td>1248</td>\n      <td>31</td>\n      <td>16</td>\n      <td>clear ruby red hue with a fizzy and fully dimi...</td>\n    </tr>\n    <tr>\n      <th>2</th>\n      <td>726</td>\n      <td>31</td>\n      <td>17</td>\n      <td>copper hue with a light orange base and a smal...</td>\n    </tr>\n    <tr>\n      <th>3</th>\n      <td>1160</td>\n      <td>31</td>\n      <td>9</td>\n      <td>bottle and served in my expedition snifter : p...</td>\n    </tr>\n    <tr>\n      <th>4</th>\n      <td>564</td>\n      <td>31</td>\n      <td>8</td>\n      <td>clear straw hue with small head and no lacing ...</td>\n    </tr>\n    <tr>\n      <th>...</th>\n      <td>...</td>\n      <td>...</td>\n      <td>...</td>\n      <td>...</td>\n    </tr>\n    <tr>\n      <th>918460</th>\n      <td>20</td>\n      <td>3849</td>\n      <td>7</td>\n      <td>why do so many people like this beer ? i tried...</td>\n    </tr>\n    <tr>\n      <th>918461</th>\n      <td>269</td>\n      <td>3849</td>\n      <td>10</td>\n      <td>a good malt liquor , undeniably , but it was l...</td>\n    </tr>\n    <tr>\n      <th>918462</th>\n      <td>859</td>\n      <td>3849</td>\n      <td>2</td>\n      <td>how this beer is actually better than regular ...</td>\n    </tr>\n    <tr>\n      <th>918463</th>\n      <td>4545</td>\n      <td>3849</td>\n      <td>3</td>\n      <td>the only good thing about this beer is that it...</td>\n    </tr>\n    <tr>\n      <th>918464</th>\n      <td>779</td>\n      <td>3849</td>\n      <td>3</td>\n      <td>slightly better than the beast , but damn , ho...</td>\n    </tr>\n  </tbody>\n</table>\n<p>918465 rows × 4 columns</p>\n</div>",
      "text/plain": "        item  user  rating                                             review\n0        652    31      10  poured in a sn pint glass : small fizzy fading...\n1       1248    31      16  clear ruby red hue with a fizzy and fully dimi...\n2        726    31      17  copper hue with a light orange base and a smal...\n3       1160    31       9  bottle and served in my expedition snifter : p...\n4        564    31       8  clear straw hue with small head and no lacing ...\n...      ...   ...     ...                                                ...\n918460    20  3849       7  why do so many people like this beer ? i tried...\n918461   269  3849      10  a good malt liquor , undeniably , but it was l...\n918462   859  3849       2  how this beer is actually better than regular ...\n918463  4545  3849       3  the only good thing about this beer is that it...\n918464   779  3849       3  slightly better than the beast , but damn , ho...\n\n[918465 rows x 4 columns]"
     },
     "execution_count": 5,
     "metadata": {},
     "output_type": "execute_result"
    }
   ],
   "source": [
    "df_train_data"
   ]
  },
  {
   "cell_type": "code",
   "execution_count": 6,
   "metadata": {},
   "outputs": [
    {
     "data": {
      "text/plain": "'poured in a sn pint glass : small fizzy fading head with minimal lace , golden hue . the aroma has a nice lemony grain aspect with a touch of grassy hops , no notice of corn or butterscotch which is a good thing . the flavor is simple , a mild citric twang on top of some sweet and herbal character . the feel is lacking , should be crisper imo . while no noticeable flaws are present , it lacks any defining character on the palate .'"
     },
     "execution_count": 6,
     "metadata": {},
     "output_type": "execute_result"
    }
   ],
   "source": [
    "train_review[0][3]"
   ]
  },
  {
   "cell_type": "code",
   "execution_count": 7,
   "metadata": {},
   "outputs": [
    {
     "name": "stdout",
     "output_type": "stream",
     "text": [
      "652\n",
      "<class 'str'>\n"
     ]
    }
   ],
   "source": [
    "for idx, row in df_train_data.iterrows():\n",
    "    print(row['item'])\n",
    "    print(type(row['item']))\n",
    "    break"
   ]
  },
  {
   "cell_type": "markdown",
   "metadata": {},
   "source": [
    "## Aggregate all the relevant sentences for each user/item in the train dataset"
   ]
  },
  {
   "cell_type": "markdown",
   "metadata": {},
   "source": [
    "## Filter User/Item"
   ]
  },
  {
   "cell_type": "code",
   "execution_count": 8,
   "metadata": {},
   "outputs": [],
   "source": [
    "\"\"\"\n",
    "The requirement of being a satisfactory dataframe is that for each user / item in the dataset, \n",
    "there should be at least 20 reviews and no more than 500 reviews.\n",
    "\"\"\"\n",
    "lower_thres = 30\n",
    "upper_thres = 300\n",
    "def is_satisfy_df(df_review):\n",
    "    # group by user\n",
    "    group_by_user = df_review.groupby('user')\n",
    "    user_selected = set()\n",
    "    user_review_morethanupper = set()\n",
    "    user_review_lessthanlower = set()\n",
    "    for user_df_chunk in list(group_by_user):\n",
    "        user_id = int(user_df_chunk[0])\n",
    "        user_df = user_df_chunk[1]\n",
    "        if len(user_df) > upper_thres:\n",
    "            user_review_morethanupper.add(user_id)\n",
    "        elif len(user_df) < lower_thres:\n",
    "            user_review_lessthanlower.add(user_id)\n",
    "        else:\n",
    "            user_selected.add(user_id)\n",
    "    print(\"user_selected: {0} \\t user(>upper): {1} \\t user(<lower): {2}\".format(len(user_selected), len(user_review_morethanupper), len(user_review_lessthanlower)))\n",
    "    # group by item\n",
    "    group_by_item = df_review.groupby('item')\n",
    "    item_selected = set()\n",
    "    item_review_morethanupper = set()\n",
    "    item_review_lessthanlower = set()\n",
    "    for item_df_chunk in list(group_by_item):\n",
    "        item_id = int(item_df_chunk[0])\n",
    "        item_df = item_df_chunk[1]\n",
    "        if len(item_df) > upper_thres:\n",
    "            item_review_morethanupper.add(item_id)\n",
    "        elif len(item_df) < lower_thres:\n",
    "            item_review_lessthanlower.add(item_id)\n",
    "        else:\n",
    "            item_selected.add(item_id)\n",
    "    print(\"item_selected: {0} \\t item(>upper): {1} \\t item(<lower): {2}\".format(len(item_selected), len(item_review_morethanupper), len(item_review_lessthanlower)))\n",
    "    # whether this dataframe has rare/popular user/item\n",
    "    if len(user_review_morethanupper) == 0 and len(user_review_lessthanlower) == 0:\n",
    "        if len(item_review_morethanupper) == 0 and len(item_review_lessthanlower) == 0:\n",
    "            return True\n",
    "        else:\n",
    "            return False\n",
    "    else:\n",
    "        return False"
   ]
  },
  {
   "cell_type": "code",
   "execution_count": 9,
   "metadata": {},
   "outputs": [
    {
     "name": "stdout",
     "output_type": "stream",
     "text": [
      "Start Drop\n",
      "user_selected: 2728 \t user(>upper): 0 \t user(<lower): 0\n",
      "item_selected: 1704 \t item(>upper): 179 \t item(<lower): 5089\n",
      "Finish User\n",
      "Start Drop\n",
      "user_selected: 1719 \t user(>upper): 0 \t user(<lower): 1009\n",
      "item_selected: 1704 \t item(>upper): 0 \t item(<lower): 0\n",
      "Finish Item\n",
      "Start Drop\n",
      "user_selected: 1719 \t user(>upper): 0 \t user(<lower): 0\n",
      "item_selected: 1511 \t item(>upper): 0 \t item(<lower): 193\n",
      "Finish User\n",
      "Start Drop\n",
      "user_selected: 1671 \t user(>upper): 0 \t user(<lower): 48\n",
      "item_selected: 1511 \t item(>upper): 0 \t item(<lower): 0\n",
      "Finish Item\n",
      "Start Drop\n",
      "user_selected: 1671 \t user(>upper): 0 \t user(<lower): 0\n",
      "item_selected: 1493 \t item(>upper): 0 \t item(<lower): 18\n",
      "Finish User\n",
      "Start Drop\n",
      "user_selected: 1665 \t user(>upper): 0 \t user(<lower): 6\n",
      "item_selected: 1493 \t item(>upper): 0 \t item(<lower): 0\n",
      "Finish Item\n",
      "Start Drop\n",
      "user_selected: 1665 \t user(>upper): 0 \t user(<lower): 0\n",
      "item_selected: 1490 \t item(>upper): 0 \t item(<lower): 3\n",
      "Finish User\n",
      "Start Drop\n",
      "user_selected: 1664 \t user(>upper): 0 \t user(<lower): 1\n",
      "item_selected: 1490 \t item(>upper): 0 \t item(<lower): 0\n",
      "Finish Item\n",
      "Start Drop\n",
      "user_selected: 1664 \t user(>upper): 0 \t user(<lower): 0\n",
      "item_selected: 1490 \t item(>upper): 0 \t item(<lower): 0\n"
     ]
    }
   ],
   "source": [
    "iter_cnt = 0\n",
    "while True:\n",
    "    # group by user\n",
    "    group_by_user = df_train_data.groupby('user')\n",
    "    # Loop through all the dataframe for each user\n",
    "    user_selected = set()\n",
    "    user_review_morethan500 = set()\n",
    "    user_review_lessthan20 = set()\n",
    "    user_num_review = []\n",
    "    for user_df_chunk in list(group_by_user):\n",
    "        user_id = int(user_df_chunk[0])\n",
    "        user_df = user_df_chunk[1]\n",
    "        user_num_review.append(len(user_df))\n",
    "        if len(user_df) > upper_thres:\n",
    "            user_review_morethan500.add(user_id)\n",
    "        elif len(user_df) < lower_thres:\n",
    "            user_review_lessthan20.add(user_id)\n",
    "        else:\n",
    "            user_selected.add(user_id)\n",
    "    print(\"Start Drop\")\n",
    "    # Filter user\n",
    "    # for idx, row in df_train_data.iterrows():\n",
    "    #     if int(row['user']) not in user_selected:\n",
    "    #         df_train_data.drop(idx, inplace=True)\n",
    "    cur_train_review = []\n",
    "    for row_data in train_review:\n",
    "        # if the user_id is in the selected user set or not\n",
    "        if int(row_data[1]) in user_selected:\n",
    "            cur_train_review.append(row_data)\n",
    "    train_review = cur_train_review\n",
    "    # convert list to dataframe\n",
    "    df_train_data = pd.DataFrame(train_review, columns=['item', 'user', 'rating', 'review'])\n",
    "    # check whether this dataframe satisfies the requirement\n",
    "    if is_satisfy_df(df_train_data):\n",
    "        break\n",
    "    print('Finish User')\n",
    "    # else, keep going\n",
    "    # group by item\n",
    "    group_by_item = df_train_data.groupby('item')\n",
    "    # Loop through all the dataframe for each item\n",
    "    item_selected = set()\n",
    "    item_review_morethan500 = set()\n",
    "    item_review_lessthan20 = set()\n",
    "    item_num_review = []\n",
    "    for item_df_chunk in list(group_by_item):\n",
    "        item_id = int(item_df_chunk[0])\n",
    "        item_df = item_df_chunk[1]\n",
    "        item_num_review.append(len(item_df))\n",
    "        if len(item_df) > upper_thres:\n",
    "            item_review_morethan500.add(item_id)\n",
    "        elif len(item_df) < lower_thres:\n",
    "            item_review_lessthan20.add(item_id)\n",
    "        else:\n",
    "            item_selected.add(item_id)\n",
    "    print(\"Start Drop\")\n",
    "    # Filter item\n",
    "    # for idx, row in df_train_data.iterrows():\n",
    "    #     if int(row['item']) not in item_selected:\n",
    "    #         df_train_data.drop(idx, inplace=True)\n",
    "    cur_train_review = []\n",
    "    for row_data in train_review:\n",
    "        # if the item_id is in the selected user set or not\n",
    "        if int(row_data[0]) in item_selected:\n",
    "            cur_train_review.append(row_data)\n",
    "    train_review = cur_train_review\n",
    "    # convert list to dataframe\n",
    "    df_train_data = pd.DataFrame(train_review, columns=['item', 'user', 'rating', 'review'])\n",
    "    # check whether this dataframe satisfies the requirement\n",
    "    if is_satisfy_df(df_train_data):\n",
    "        break\n",
    "    print('Finish Item')\n",
    "    iter_cnt += 1\n",
    "    if iter_cnt % 10 == 0:\n",
    "        print(\"{} iterations of filter\".format(iter_cnt))\n"
   ]
  },
  {
   "cell_type": "code",
   "execution_count": 10,
   "metadata": {},
   "outputs": [
    {
     "data": {
      "text/html": "<div>\n<style scoped>\n    .dataframe tbody tr th:only-of-type {\n        vertical-align: middle;\n    }\n\n    .dataframe tbody tr th {\n        vertical-align: top;\n    }\n\n    .dataframe thead th {\n        text-align: right;\n    }\n</style>\n<table border=\"1\" class=\"dataframe\">\n  <thead>\n    <tr style=\"text-align: right;\">\n      <th></th>\n      <th>item</th>\n      <th>user</th>\n      <th>rating</th>\n      <th>review</th>\n    </tr>\n  </thead>\n  <tbody>\n    <tr>\n      <th>0</th>\n      <td>196</td>\n      <td>999</td>\n      <td>17</td>\n      <td>dark brown body with a light brown head . nutt...</td>\n    </tr>\n    <tr>\n      <th>1</th>\n      <td>1149</td>\n      <td>999</td>\n      <td>14</td>\n      <td>hazy orange / gold body is topped by a medium ...</td>\n    </tr>\n    <tr>\n      <th>2</th>\n      <td>236</td>\n      <td>999</td>\n      <td>16</td>\n      <td>12 oz bottle thanks to acknud . pours much dar...</td>\n    </tr>\n    <tr>\n      <th>3</th>\n      <td>634</td>\n      <td>999</td>\n      <td>15</td>\n      <td>clear and radiant mahogany body with a small b...</td>\n    </tr>\n    <tr>\n      <th>4</th>\n      <td>490</td>\n      <td>999</td>\n      <td>16</td>\n      <td>nice looker with tons of spiderweb lacing . bo...</td>\n    </tr>\n    <tr>\n      <th>...</th>\n      <td>...</td>\n      <td>...</td>\n      <td>...</td>\n      <td>...</td>\n    </tr>\n    <tr>\n      <th>117813</th>\n      <td>779</td>\n      <td>2624</td>\n      <td>17</td>\n      <td>i beer that you can sit outside , slap your wi...</td>\n    </tr>\n    <tr>\n      <th>117814</th>\n      <td>325</td>\n      <td>2624</td>\n      <td>18</td>\n      <td>updated : apr 14 , 2004 not bad to drink , i l...</td>\n    </tr>\n    <tr>\n      <th>117815</th>\n      <td>447</td>\n      <td>2624</td>\n      <td>18</td>\n      <td>updated : apr 14 , 2004 a good pale ale . i wa...</td>\n    </tr>\n    <tr>\n      <th>117816</th>\n      <td>444</td>\n      <td>2624</td>\n      <td>2</td>\n      <td>too lemony for my taste but lived near leinenk...</td>\n    </tr>\n    <tr>\n      <th>117817</th>\n      <td>1433</td>\n      <td>2624</td>\n      <td>18</td>\n      <td>updated : apr 14 , 2004 it has a nice color an...</td>\n    </tr>\n  </tbody>\n</table>\n<p>117818 rows × 4 columns</p>\n</div>",
      "text/plain": "        item  user  rating                                             review\n0        196   999      17  dark brown body with a light brown head . nutt...\n1       1149   999      14  hazy orange / gold body is topped by a medium ...\n2        236   999      16  12 oz bottle thanks to acknud . pours much dar...\n3        634   999      15  clear and radiant mahogany body with a small b...\n4        490   999      16  nice looker with tons of spiderweb lacing . bo...\n...      ...   ...     ...                                                ...\n117813   779  2624      17  i beer that you can sit outside , slap your wi...\n117814   325  2624      18  updated : apr 14 , 2004 not bad to drink , i l...\n117815   447  2624      18  updated : apr 14 , 2004 a good pale ale . i wa...\n117816   444  2624       2  too lemony for my taste but lived near leinenk...\n117817  1433  2624      18  updated : apr 14 , 2004 it has a nice color an...\n\n[117818 rows x 4 columns]"
     },
     "execution_count": 10,
     "metadata": {},
     "output_type": "execute_result"
    }
   ],
   "source": [
    "df_train_data"
   ]
  },
  {
   "cell_type": "markdown",
   "metadata": {},
   "source": [
    "### Check Whether the Filtered Dataframe Satisfies the Requirement"
   ]
  },
  {
   "cell_type": "code",
   "execution_count": 11,
   "metadata": {},
   "outputs": [],
   "source": [
    "# Check User\n",
    "# group by user\n",
    "group_by_user = df_train_data.groupby('user')\n",
    "user_selected = set()\n",
    "user_review_morethan500 = set()\n",
    "user_review_lessthan20 = set()\n",
    "user_num_reviews = []\n",
    "for user_df_chunk in list(group_by_user):\n",
    "    user_id = int(user_df_chunk[0])\n",
    "    user_df = user_df_chunk[1]\n",
    "    if len(user_df) > upper_thres:\n",
    "        user_review_morethan500.add(user_id)\n",
    "    elif len(user_df) < lower_thres:\n",
    "        user_review_lessthan20.add(user_id)\n",
    "    else:\n",
    "        user_selected.add(user_id)\n",
    "    user_num_reviews.append(len(user_df))\n"
   ]
  },
  {
   "cell_type": "code",
   "execution_count": 12,
   "metadata": {},
   "outputs": [
    {
     "name": "stdout",
     "output_type": "stream",
     "text": [
      "Number of user selected: 1664\n",
      "Number of user with more than upper reviews: 0\n",
      "Number of user with less than lower reviews: 0\n"
     ]
    }
   ],
   "source": [
    "print(\"Number of user selected: {}\".format(len(user_selected)))\n",
    "print(\"Number of user with more than upper reviews: {}\".format(len(user_review_morethan500)))\n",
    "print(\"Number of user with less than lower reviews: {}\".format(len(user_review_lessthan20)))"
   ]
  },
  {
   "cell_type": "code",
   "execution_count": 13,
   "metadata": {},
   "outputs": [
    {
     "name": "stdout",
     "output_type": "stream",
     "text": [
      "Mean number of reviews per user: 70.80408653846153\n",
      "Max number of reviews per user: 182\n",
      "Min number of reviews per user: 30\n"
     ]
    }
   ],
   "source": [
    "print(\"Mean number of reviews per user: {}\".format(np.mean(user_num_reviews)))\n",
    "print(\"Max number of reviews per user: {}\".format(np.max(user_num_reviews)))\n",
    "print(\"Min number of reviews per user: {}\".format(np.min(user_num_reviews)))"
   ]
  },
  {
   "cell_type": "code",
   "execution_count": 14,
   "metadata": {},
   "outputs": [],
   "source": [
    "# Check Item\n",
    "# group by item\n",
    "group_by_item = df_train_data.groupby('item')\n",
    "item_selected = set()\n",
    "item_review_morethan500 = set()\n",
    "item_review_lessthan20 = set()\n",
    "item_num_reviews = []\n",
    "for item_df_chunk in list(group_by_item):\n",
    "    item_id = int(item_df_chunk[0])\n",
    "    item_df = item_df_chunk[1]\n",
    "    if len(item_df) > upper_thres:\n",
    "        item_review_morethan500.add(item_id)\n",
    "    elif len(item_df) < lower_thres:\n",
    "        item_review_lessthan20.add(item_id)\n",
    "    else:\n",
    "        item_selected.add(item_id)\n",
    "    item_num_reviews.append(len(item_df))\n"
   ]
  },
  {
   "cell_type": "code",
   "execution_count": 15,
   "metadata": {},
   "outputs": [
    {
     "name": "stdout",
     "output_type": "stream",
     "text": [
      "Number of item selected: 1490\n",
      "Number of item with more than upper reviews: 0\n",
      "Number of item with less than lower reviews: 0\n"
     ]
    }
   ],
   "source": [
    "print(\"Number of item selected: {}\".format(len(item_selected)))\n",
    "print(\"Number of item with more than upper reviews: {}\".format(len(item_review_morethan500)))\n",
    "print(\"Number of item with less than lower reviews: {}\".format(len(item_review_lessthan20)))"
   ]
  },
  {
   "cell_type": "code",
   "execution_count": 16,
   "metadata": {},
   "outputs": [
    {
     "name": "stdout",
     "output_type": "stream",
     "text": [
      "Mean number of reviews per item: 79.0724832214765\n",
      "Max number of reviews per item: 263\n",
      "Min number of reviews per item: 30\n"
     ]
    }
   ],
   "source": [
    "print(\"Mean number of reviews per item: {}\".format(np.mean(item_num_reviews)))\n",
    "print(\"Max number of reviews per item: {}\".format(np.max(item_num_reviews)))\n",
    "print(\"Min number of reviews per item: {}\".format(np.min(item_num_reviews)))"
   ]
  },
  {
   "cell_type": "code",
   "execution_count": 17,
   "metadata": {},
   "outputs": [
    {
     "name": "stdout",
     "output_type": "stream",
     "text": [
      "user_selected: 1664 \t user(>upper): 0 \t user(<lower): 0\n",
      "item_selected: 1490 \t item(>upper): 0 \t item(<lower): 0\n"
     ]
    },
    {
     "data": {
      "text/plain": "True"
     },
     "execution_count": 17,
     "metadata": {},
     "output_type": "execute_result"
    }
   ],
   "source": [
    "is_satisfy_df(df_train_data)"
   ]
  },
  {
   "cell_type": "code",
   "execution_count": 18,
   "metadata": {},
   "outputs": [
    {
     "name": "stdout",
     "output_type": "stream",
     "text": [
      "item                                                    196\n",
      "user                                                    999\n",
      "rating                                                   17\n",
      "review    dark brown body with a light brown head . nutt...\n",
      "Name: 0, dtype: object\n",
      "196\n",
      "<class 'str'>\n",
      "<class 'str'>\n",
      "<class 'int'>\n",
      "<class 'str'>\n"
     ]
    }
   ],
   "source": [
    "for idx, row in df_train_data.iterrows():\n",
    "    print(row)\n",
    "    print(row['item'])\n",
    "    print(type(row['item']))\n",
    "    print(type(row['user']))\n",
    "    print(type(row['rating']))\n",
    "    print(type(row['review']))\n",
    "    break"
   ]
  },
  {
   "cell_type": "markdown",
   "metadata": {},
   "source": [
    "## Save the Filtered Train Set into Json File"
   ]
  },
  {
   "cell_type": "code",
   "execution_count": 20,
   "metadata": {},
   "outputs": [
    {
     "data": {
      "text/html": "<div>\n<style scoped>\n    .dataframe tbody tr th:only-of-type {\n        vertical-align: middle;\n    }\n\n    .dataframe tbody tr th {\n        vertical-align: top;\n    }\n\n    .dataframe thead th {\n        text-align: right;\n    }\n</style>\n<table border=\"1\" class=\"dataframe\">\n  <thead>\n    <tr style=\"text-align: right;\">\n      <th></th>\n      <th>item</th>\n      <th>user</th>\n      <th>rating</th>\n      <th>review</th>\n    </tr>\n  </thead>\n  <tbody>\n    <tr>\n      <th>0</th>\n      <td>196</td>\n      <td>999</td>\n      <td>17</td>\n      <td>dark brown body with a light brown head . nutt...</td>\n    </tr>\n    <tr>\n      <th>1</th>\n      <td>1149</td>\n      <td>999</td>\n      <td>14</td>\n      <td>hazy orange / gold body is topped by a medium ...</td>\n    </tr>\n    <tr>\n      <th>2</th>\n      <td>236</td>\n      <td>999</td>\n      <td>16</td>\n      <td>12 oz bottle thanks to acknud . pours much dar...</td>\n    </tr>\n    <tr>\n      <th>3</th>\n      <td>634</td>\n      <td>999</td>\n      <td>15</td>\n      <td>clear and radiant mahogany body with a small b...</td>\n    </tr>\n    <tr>\n      <th>4</th>\n      <td>490</td>\n      <td>999</td>\n      <td>16</td>\n      <td>nice looker with tons of spiderweb lacing . bo...</td>\n    </tr>\n    <tr>\n      <th>...</th>\n      <td>...</td>\n      <td>...</td>\n      <td>...</td>\n      <td>...</td>\n    </tr>\n    <tr>\n      <th>117813</th>\n      <td>779</td>\n      <td>2624</td>\n      <td>17</td>\n      <td>i beer that you can sit outside , slap your wi...</td>\n    </tr>\n    <tr>\n      <th>117814</th>\n      <td>325</td>\n      <td>2624</td>\n      <td>18</td>\n      <td>updated : apr 14 , 2004 not bad to drink , i l...</td>\n    </tr>\n    <tr>\n      <th>117815</th>\n      <td>447</td>\n      <td>2624</td>\n      <td>18</td>\n      <td>updated : apr 14 , 2004 a good pale ale . i wa...</td>\n    </tr>\n    <tr>\n      <th>117816</th>\n      <td>444</td>\n      <td>2624</td>\n      <td>2</td>\n      <td>too lemony for my taste but lived near leinenk...</td>\n    </tr>\n    <tr>\n      <th>117817</th>\n      <td>1433</td>\n      <td>2624</td>\n      <td>18</td>\n      <td>updated : apr 14 , 2004 it has a nice color an...</td>\n    </tr>\n  </tbody>\n</table>\n<p>117818 rows × 4 columns</p>\n</div>",
      "text/plain": "        item  user  rating                                             review\n0        196   999      17  dark brown body with a light brown head . nutt...\n1       1149   999      14  hazy orange / gold body is topped by a medium ...\n2        236   999      16  12 oz bottle thanks to acknud . pours much dar...\n3        634   999      15  clear and radiant mahogany body with a small b...\n4        490   999      16  nice looker with tons of spiderweb lacing . bo...\n...      ...   ...     ...                                                ...\n117813   779  2624      17  i beer that you can sit outside , slap your wi...\n117814   325  2624      18  updated : apr 14 , 2004 not bad to drink , i l...\n117815   447  2624      18  updated : apr 14 , 2004 a good pale ale . i wa...\n117816   444  2624       2  too lemony for my taste but lived near leinenk...\n117817  1433  2624      18  updated : apr 14 , 2004 it has a nice color an...\n\n[117818 rows x 4 columns]"
     },
     "execution_count": 20,
     "metadata": {},
     "output_type": "execute_result"
    }
   ],
   "source": [
    "df_train_data"
   ]
  },
  {
   "cell_type": "code",
   "execution_count": 21,
   "metadata": {},
   "outputs": [],
   "source": [
    "# Save the dataframe to json file\n",
    "with open('../Dataset/ratebeer/medium/train_review_filtered.json', 'w') as f1:\n",
    "    for idx, row in df_train_data.iterrows():\n",
    "        row_dict = {'user': row['user'], 'item': row['item'], 'rating': row['rating'], 'review': row['review']}\n",
    "        # dump this dict into file\n",
    "        json.dump(row_dict, f1)\n",
    "        f1.write(\"\\n\")"
   ]
  },
  {
   "cell_type": "markdown",
   "metadata": {},
   "source": [
    "## Filter Test set"
   ]
  },
  {
   "cell_type": "code",
   "execution_count": 22,
   "metadata": {},
   "outputs": [
    {
     "data": {
      "text/html": "<div>\n<style scoped>\n    .dataframe tbody tr th:only-of-type {\n        vertical-align: middle;\n    }\n\n    .dataframe tbody tr th {\n        vertical-align: top;\n    }\n\n    .dataframe thead th {\n        text-align: right;\n    }\n</style>\n<table border=\"1\" class=\"dataframe\">\n  <thead>\n    <tr style=\"text-align: right;\">\n      <th></th>\n      <th>item</th>\n      <th>user</th>\n      <th>rating</th>\n      <th>review</th>\n    </tr>\n  </thead>\n  <tbody>\n    <tr>\n      <th>0</th>\n      <td>922</td>\n      <td>31</td>\n      <td>11</td>\n      <td>bottle : clean yellow hue topped by a lasting ...</td>\n    </tr>\n    <tr>\n      <th>1</th>\n      <td>736</td>\n      <td>31</td>\n      <td>15</td>\n      <td>bottle and served in my big ole karmeliet glas...</td>\n    </tr>\n    <tr>\n      <th>2</th>\n      <td>65</td>\n      <td>31</td>\n      <td>12</td>\n      <td>cloudy orange hue , almost no head . hoppy nos...</td>\n    </tr>\n    <tr>\n      <th>3</th>\n      <td>2175</td>\n      <td>31</td>\n      <td>15</td>\n      <td>bottle and served in my stone irs snifter : in...</td>\n    </tr>\n    <tr>\n      <th>4</th>\n      <td>3929</td>\n      <td>31</td>\n      <td>15</td>\n      <td>deep brown hue with fizzy off - white head and...</td>\n    </tr>\n    <tr>\n      <th>...</th>\n      <td>...</td>\n      <td>...</td>\n      <td>...</td>\n      <td>...</td>\n    </tr>\n    <tr>\n      <th>119208</th>\n      <td>538</td>\n      <td>3849</td>\n      <td>12</td>\n      <td>now this shit here is my bread and butter . ol...</td>\n    </tr>\n    <tr>\n      <th>119209</th>\n      <td>571</td>\n      <td>3849</td>\n      <td>2</td>\n      <td>well , colt 45 earns credit for at least one t...</td>\n    </tr>\n    <tr>\n      <th>119210</th>\n      <td>21</td>\n      <td>3849</td>\n      <td>3</td>\n      <td>i ca nt believe i was this generous to this be...</td>\n    </tr>\n    <tr>\n      <th>119211</th>\n      <td>2156</td>\n      <td>3849</td>\n      <td>7</td>\n      <td>the thing about stock though , i think it is a...</td>\n    </tr>\n    <tr>\n      <th>119212</th>\n      <td>71</td>\n      <td>3849</td>\n      <td>10</td>\n      <td>a pretty damn good beer . this was my bread an...</td>\n    </tr>\n  </tbody>\n</table>\n<p>119213 rows × 4 columns</p>\n</div>",
      "text/plain": "        item  user  rating                                             review\n0        922    31      11  bottle : clean yellow hue topped by a lasting ...\n1        736    31      15  bottle and served in my big ole karmeliet glas...\n2         65    31      12  cloudy orange hue , almost no head . hoppy nos...\n3       2175    31      15  bottle and served in my stone irs snifter : in...\n4       3929    31      15  deep brown hue with fizzy off - white head and...\n...      ...   ...     ...                                                ...\n119208   538  3849      12  now this shit here is my bread and butter . ol...\n119209   571  3849       2  well , colt 45 earns credit for at least one t...\n119210    21  3849       3  i ca nt believe i was this generous to this be...\n119211  2156  3849       7  the thing about stock though , i think it is a...\n119212    71  3849      10  a pretty damn good beer . this was my bread an...\n\n[119213 rows x 4 columns]"
     },
     "execution_count": 22,
     "metadata": {},
     "output_type": "execute_result"
    }
   ],
   "source": [
    "df_test_data"
   ]
  },
  {
   "cell_type": "code",
   "execution_count": 23,
   "metadata": {},
   "outputs": [
    {
     "data": {
      "text/plain": "119213"
     },
     "execution_count": 23,
     "metadata": {},
     "output_type": "execute_result"
    }
   ],
   "source": [
    "len(test_review)"
   ]
  },
  {
   "cell_type": "code",
   "execution_count": 24,
   "metadata": {},
   "outputs": [],
   "source": [
    "test_review_filter = []\n",
    "for test_data in test_review:\n",
    "    item_id = int(test_data[0])\n",
    "    user_id = int(test_data[1])\n",
    "    if user_id in user_selected and item_id in item_selected:\n",
    "        # add this into the filtered test set\n",
    "        test_review_filter.append(test_data)"
   ]
  },
  {
   "cell_type": "code",
   "execution_count": 25,
   "metadata": {},
   "outputs": [
    {
     "data": {
      "text/plain": "14677"
     },
     "execution_count": 25,
     "metadata": {},
     "output_type": "execute_result"
    }
   ],
   "source": [
    "len(test_review_filter)"
   ]
  },
  {
   "cell_type": "code",
   "execution_count": 26,
   "metadata": {},
   "outputs": [],
   "source": [
    "df_test_data_filter = pd.DataFrame(test_review_filter, columns=['item', 'user', 'rating', 'review'])"
   ]
  },
  {
   "cell_type": "code",
   "execution_count": 27,
   "metadata": {},
   "outputs": [
    {
     "data": {
      "text/html": "<div>\n<style scoped>\n    .dataframe tbody tr th:only-of-type {\n        vertical-align: middle;\n    }\n\n    .dataframe tbody tr th {\n        vertical-align: top;\n    }\n\n    .dataframe thead th {\n        text-align: right;\n    }\n</style>\n<table border=\"1\" class=\"dataframe\">\n  <thead>\n    <tr style=\"text-align: right;\">\n      <th></th>\n      <th>item</th>\n      <th>user</th>\n      <th>rating</th>\n      <th>review</th>\n    </tr>\n  </thead>\n  <tbody>\n    <tr>\n      <th>0</th>\n      <td>760</td>\n      <td>999</td>\n      <td>14</td>\n      <td>bomber pours a hazy caramel hued body with a s...</td>\n    </tr>\n    <tr>\n      <th>1</th>\n      <td>842</td>\n      <td>999</td>\n      <td>14</td>\n      <td>bottle pours ahazy apricot body with a small o...</td>\n    </tr>\n    <tr>\n      <th>2</th>\n      <td>442</td>\n      <td>999</td>\n      <td>16</td>\n      <td>pours a hazy , dark caramel body with no head ...</td>\n    </tr>\n    <tr>\n      <th>3</th>\n      <td>274</td>\n      <td>999</td>\n      <td>16</td>\n      <td>hazed peach body supports a small offwhite hea...</td>\n    </tr>\n    <tr>\n      <th>4</th>\n      <td>476</td>\n      <td>999</td>\n      <td>15</td>\n      <td>picked up a couple bottles of these at a local...</td>\n    </tr>\n    <tr>\n      <th>...</th>\n      <td>...</td>\n      <td>...</td>\n      <td>...</td>\n      <td>...</td>\n    </tr>\n    <tr>\n      <th>14672</th>\n      <td>1860</td>\n      <td>2624</td>\n      <td>7</td>\n      <td>sour apple taste that left a terrbile aftermath .</td>\n    </tr>\n    <tr>\n      <th>14673</th>\n      <td>630</td>\n      <td>2624</td>\n      <td>18</td>\n      <td>great tasting beer . goes with any type of foo...</td>\n    </tr>\n    <tr>\n      <th>14674</th>\n      <td>729</td>\n      <td>2624</td>\n      <td>16</td>\n      <td>has a red looking appearance that has a taste ...</td>\n    </tr>\n    <tr>\n      <th>14675</th>\n      <td>1553</td>\n      <td>2624</td>\n      <td>9</td>\n      <td>i have tasted worse , so this beer is nt too b...</td>\n    </tr>\n    <tr>\n      <th>14676</th>\n      <td>893</td>\n      <td>2624</td>\n      <td>15</td>\n      <td>good beer to have with some old timers in a du...</td>\n    </tr>\n  </tbody>\n</table>\n<p>14677 rows × 4 columns</p>\n</div>",
      "text/plain": "       item  user  rating                                             review\n0       760   999      14  bomber pours a hazy caramel hued body with a s...\n1       842   999      14  bottle pours ahazy apricot body with a small o...\n2       442   999      16  pours a hazy , dark caramel body with no head ...\n3       274   999      16  hazed peach body supports a small offwhite hea...\n4       476   999      15  picked up a couple bottles of these at a local...\n...     ...   ...     ...                                                ...\n14672  1860  2624       7  sour apple taste that left a terrbile aftermath .\n14673   630  2624      18  great tasting beer . goes with any type of foo...\n14674   729  2624      16  has a red looking appearance that has a taste ...\n14675  1553  2624       9  i have tasted worse , so this beer is nt too b...\n14676   893  2624      15  good beer to have with some old timers in a du...\n\n[14677 rows x 4 columns]"
     },
     "execution_count": 27,
     "metadata": {},
     "output_type": "execute_result"
    }
   ],
   "source": [
    "df_test_data_filter"
   ]
  },
  {
   "cell_type": "markdown",
   "metadata": {},
   "source": [
    "### Save Filtered Test Set into Json File"
   ]
  },
  {
   "cell_type": "code",
   "execution_count": 28,
   "metadata": {},
   "outputs": [],
   "source": [
    "# Save the dataframe to json file\n",
    "with open('../Dataset/ratebeer/medium/test_review_filtered.json', 'w') as f1:\n",
    "    for idx, row in df_test_data_filter.iterrows():\n",
    "        row_dict = {'user': row['user'], 'item': row['item'], 'rating': row['rating'], 'review': row['review']}\n",
    "        # dump this dict into file\n",
    "        json.dump(row_dict, f1)\n",
    "        f1.write(\"\\n\")"
   ]
  }
 ],
 "metadata": {
  "kernelspec": {
   "display_name": "Python 3.7.4 64-bit ('2019.10': virtualenv)",
   "name": "python374jvsc74a57bd020bbdedb0079e23a85211f14a09dbcc829fefc965ff02508ebf68fe08b48d387"
  },
  "language_info": {
   "codemirror_mode": {
    "name": "ipython",
    "version": 3
   },
   "file_extension": ".py",
   "mimetype": "text/x-python",
   "name": "python",
   "nbconvert_exporter": "python",
   "pygments_lexer": "ipython3",
   "version": "3.7.4"
  },
  "metadata": {
   "interpreter": {
    "hash": "20bbdedb0079e23a85211f14a09dbcc829fefc965ff02508ebf68fe08b48d387"
   }
  },
  "orig_nbformat": 2
 },
 "nbformat": 4,
 "nbformat_minor": 2
}