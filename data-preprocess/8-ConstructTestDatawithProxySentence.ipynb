{
 "cells": [
  {
   "cell_type": "code",
   "execution_count": 35,
   "metadata": {},
   "outputs": [
    {
     "name": "stdout",
     "output_type": "stream",
     "text": [
      "/sw/centos/anaconda3/2019.10/bin/python\n"
     ]
    }
   ],
   "source": [
    "!which python"
   ]
  },
  {
   "cell_type": "code",
   "execution_count": 36,
   "metadata": {},
   "outputs": [],
   "source": [
    "import json\n",
    "import pandas as pd\n",
    "import os\n",
    "import numpy as np"
   ]
  },
  {
   "cell_type": "code",
   "execution_count": 145,
   "metadata": {},
   "outputs": [
    {
     "name": "stdout",
     "output_type": "stream",
     "text": [
      "Finish loading train dataset, totally 17690 lines.\n",
      "Finish loading test dataset, totally 2761 lines.\n"
     ]
    }
   ],
   "source": [
    "dir_path = '../Dataset/ratebeer/small_500'\n",
    "# Load train dataset\n",
    "train_review = []\n",
    "cnt = 0\n",
    "file_path = os.path.join(dir_path, 'train_review_filtered.json')\n",
    "with open(file_path) as f:\n",
    "    for line in f:\n",
    "        line_data = json.loads(line)\n",
    "        user_id = line_data['user']\n",
    "        item_id = line_data['item']\n",
    "        rating = line_data['rating']\n",
    "        review = line_data['review']\n",
    "        train_review.append([item_id, user_id, rating, review])\n",
    "        cnt += 1\n",
    "        if cnt % 100000 == 0:\n",
    "            print('{} lines loaded.'.format(cnt))\n",
    "print('Finish loading train dataset, totally {} lines.'.format(len(train_review)))\n",
    "# Load test dataset\n",
    "test_review = []\n",
    "cnt = 0\n",
    "file_path = os.path.join(dir_path, 'test_review_filtered.json')\n",
    "with open(file_path) as f:\n",
    "    for line in f:\n",
    "        line_data = json.loads(line)\n",
    "        user_id = line_data['user']\n",
    "        item_id = line_data['item']\n",
    "        rating = line_data['rating']\n",
    "        review = line_data['review']\n",
    "        test_review.append([item_id, user_id, rating, review])\n",
    "        cnt += 1\n",
    "        if cnt % 10000 == 0:\n",
    "            print('{} lines loaded.'.format(cnt))\n",
    "print('Finish loading test dataset, totally {} lines.'.format(len(test_review)))"
   ]
  },
  {
   "cell_type": "code",
   "execution_count": 146,
   "metadata": {},
   "outputs": [],
   "source": [
    "df_train_data = pd.DataFrame(train_review, columns=['item', 'user', 'rating', 'review'])\n",
    "df_test_data = pd.DataFrame(test_review, columns=['item', 'user', 'rating', 'review'])"
   ]
  },
  {
   "cell_type": "code",
   "execution_count": 147,
   "metadata": {},
   "outputs": [],
   "source": [
    "train_user_id_set = set(df_train_data['user'].unique())\n",
    "train_item_id_set = set(df_train_data['item'].unique())"
   ]
  },
  {
   "cell_type": "code",
   "execution_count": 180,
   "metadata": {},
   "outputs": [
    {
     "name": "stdout",
     "output_type": "stream",
     "text": [
      "number of user on train set: 611\n",
      "number of item on train set: 492\n"
     ]
    }
   ],
   "source": [
    "print(\"number of user on train set: {}\".format(len(train_user_id_set)))\n",
    "print(\"number of item on train set: {}\".format(len(train_item_id_set)))"
   ]
  },
  {
   "cell_type": "code",
   "execution_count": 148,
   "metadata": {},
   "outputs": [],
   "source": [
    "# Sentence2id and id2sentence\n",
    "with open('../Dataset/ratebeer/small_500/train/sentence/sentence2id.json', 'r') as f:\n",
    "    sent_to_id = json.load(f)\n",
    "with open('../Dataset/ratebeer/small_500/train/sentence/id2sentence.json', 'r') as f:\n",
    "    id_to_sent = json.load(f)"
   ]
  },
  {
   "cell_type": "code",
   "execution_count": 149,
   "metadata": {},
   "outputs": [
    {
     "data": {
      "text/plain": "74954"
     },
     "execution_count": 149,
     "metadata": {},
     "output_type": "execute_result"
    }
   ],
   "source": [
    "len(id_to_sent)"
   ]
  },
  {
   "cell_type": "code",
   "execution_count": 151,
   "metadata": {},
   "outputs": [],
   "source": [
    "# Sentence2id and id2sentence\n",
    "with open('../Dataset/ratebeer/small_500/test/sentence/sentence2id.json', 'r') as f:\n",
    "    testset_sent_to_id = json.load(f)\n",
    "with open('../Dataset/ratebeer/small_500/test/sentence/id2sentence.json', 'r') as f:\n",
    "    testset_id_to_sent = json.load(f)\n",
    "\n",
    "# validset Sentence2id and id2sentence\n",
    "with open('../Dataset/ratebeer/small_500/valid/sentence/sentence2id.json', 'r') as f:\n",
    "    validset_sent_to_id = json.load(f)\n",
    "with open('../Dataset/ratebeer/small_500/valid/sentence/id2sentence.json', 'r') as f:\n",
    "    validset_id_to_sent = json.load(f)"
   ]
  },
  {
   "cell_type": "code",
   "execution_count": 152,
   "metadata": {},
   "outputs": [
    {
     "data": {
      "text/plain": "'bottle .'"
     },
     "execution_count": 152,
     "metadata": {},
     "output_type": "execute_result"
    }
   ],
   "source": [
    "testset_id_to_sent['0']"
   ]
  },
  {
   "cell_type": "code",
   "execution_count": 153,
   "metadata": {},
   "outputs": [
    {
     "data": {
      "text/plain": "12327"
     },
     "execution_count": 153,
     "metadata": {},
     "output_type": "execute_result"
    }
   ],
   "source": [
    "len(testset_id_to_sent)"
   ]
  },
  {
   "cell_type": "code",
   "execution_count": 154,
   "metadata": {},
   "outputs": [
    {
     "data": {
      "text/plain": "'bottle .'"
     },
     "execution_count": 154,
     "metadata": {},
     "output_type": "execute_result"
    }
   ],
   "source": [
    "validset_id_to_sent['0']"
   ]
  },
  {
   "cell_type": "code",
   "execution_count": 155,
   "metadata": {},
   "outputs": [
    {
     "data": {
      "text/plain": "12327"
     },
     "execution_count": 155,
     "metadata": {},
     "output_type": "execute_result"
    }
   ],
   "source": [
    "len(validset_id_to_sent)"
   ]
  },
  {
   "cell_type": "code",
   "execution_count": 156,
   "metadata": {},
   "outputs": [],
   "source": [
    "# Feature2id and id2feature\n",
    "with open('../Dataset/ratebeer/small_500/train/feature/feature2id.json', 'r') as f:\n",
    "    feature_to_id = json.load(f)\n",
    "with open('../Dataset/ratebeer/small_500/train/feature/id2feature.json', 'r') as f:\n",
    "    id_to_feature = json.load(f)"
   ]
  },
  {
   "cell_type": "code",
   "execution_count": 157,
   "metadata": {},
   "outputs": [],
   "source": [
    "# user2feature\n",
    "with open('../Dataset/ratebeer/small_500/train/user/user2feature.json', 'r') as f:\n",
    "    user_to_feature = json.load(f)"
   ]
  },
  {
   "cell_type": "code",
   "execution_count": 183,
   "metadata": {},
   "outputs": [
    {
     "name": "stdout",
     "output_type": "stream",
     "text": [
      "Total number of user on TRAIN set: 611\n",
      "Mean number of feature per user on train set: 273.328968903437\n",
      "Max number of feature per user on train set: 520\n",
      "Min number of feature per user on train set: 34\n"
     ]
    }
   ],
   "source": [
    "user_feature_cnt = []\n",
    "for key,value in user_to_feature.items():\n",
    "    user_feature_cnt.append(len(value))\n",
    "print(\"Total number of user on TRAIN set: {}\".format(len(user_feature_cnt)))\n",
    "print(\"Mean number of feature per user on train set: {}\".format(np.mean(user_feature_cnt)))\n",
    "print(\"Max number of feature per user on train set: {}\".format(np.max(user_feature_cnt)))\n",
    "print(\"Min number of feature per user on train set: {}\".format(np.min(user_feature_cnt)))"
   ]
  },
  {
   "cell_type": "code",
   "execution_count": 158,
   "metadata": {},
   "outputs": [],
   "source": [
    "# item2feature\n",
    "with open('../Dataset/ratebeer/small_500/train/item/item2feature.json', 'r') as f:\n",
    "    item_to_feature = json.load(f)"
   ]
  },
  {
   "cell_type": "code",
   "execution_count": 184,
   "metadata": {},
   "outputs": [
    {
     "name": "stdout",
     "output_type": "stream",
     "text": [
      "Total number of item on TRAIN set: 492\n",
      "Mean number of feature per item on train set: 332.9207317073171\n",
      "Max number of feature per item on train set: 537\n",
      "Min number of feature per item on train set: 141\n"
     ]
    }
   ],
   "source": [
    "item_feature_cnt = []\n",
    "for key,value in item_to_feature.items():\n",
    "    item_feature_cnt.append(len(value))\n",
    "print(\"Total number of item on TRAIN set: {}\".format(len(item_feature_cnt)))\n",
    "print(\"Mean number of feature per item on train set: {}\".format(np.mean(item_feature_cnt)))\n",
    "print(\"Max number of feature per item on train set: {}\".format(np.max(item_feature_cnt)))\n",
    "print(\"Min number of feature per item on train set: {}\".format(np.min(item_feature_cnt)))"
   ]
  },
  {
   "cell_type": "code",
   "execution_count": 159,
   "metadata": {},
   "outputs": [],
   "source": [
    "# sentence2feature\n",
    "with open('../Dataset/ratebeer/small_500/train/sentence/sentence2feature.json', 'r') as f:\n",
    "    sentence_to_feature = json.load(f)"
   ]
  },
  {
   "cell_type": "code",
   "execution_count": 185,
   "metadata": {},
   "outputs": [
    {
     "name": "stdout",
     "output_type": "stream",
     "text": [
      "Total number of sentence on TRAIN set: 74954\n",
      "Mean number of feature per sentence on train set: 8.634309042879632\n",
      "Max number of feature per sentence on train set: 49\n",
      "Min number of feature per sentence on train set: 1\n"
     ]
    }
   ],
   "source": [
    "sentence_feature_cnt = []\n",
    "for key,value in sentence_to_feature.items():\n",
    "    sentence_feature_cnt.append(len(value))\n",
    "print(\"Total number of sentence on TRAIN set: {}\".format(len(sentence_feature_cnt)))\n",
    "print(\"Mean number of feature per sentence on train set: {}\".format(np.mean(sentence_feature_cnt)))\n",
    "print(\"Max number of feature per sentence on train set: {}\".format(np.max(sentence_feature_cnt)))\n",
    "print(\"Min number of feature per sentence on train set: {}\".format(np.min(sentence_feature_cnt)))"
   ]
  },
  {
   "cell_type": "code",
   "execution_count": 160,
   "metadata": {},
   "outputs": [],
   "source": [
    "# useritem2sentenceids - TRAIN\n",
    "with open('../Dataset/ratebeer/small_500/train/useritem2sentids.json', 'r') as f:\n",
    "    useritem_to_sentids = json.load(f)"
   ]
  },
  {
   "cell_type": "code",
   "execution_count": 161,
   "metadata": {},
   "outputs": [
    {
     "name": "stdout",
     "output_type": "stream",
     "text": [
      "Number of user in test set: 606\n"
     ]
    }
   ],
   "source": [
    "# useritem2sentids - TEST\n",
    "with open('../Dataset/ratebeer/small_500/test/useritem2sentids_test.json', 'r') as f:\n",
    "    testset_useritem_to_sentids = json.load(f)\n",
    "print(\"Number of user in test set: {}\".format(len(testset_useritem_to_sentids)))"
   ]
  },
  {
   "cell_type": "code",
   "execution_count": 162,
   "metadata": {},
   "outputs": [
    {
     "name": "stdout",
     "output_type": "stream",
     "text": [
      "Number of user in valid set: 606\n"
     ]
    }
   ],
   "source": [
    "# useritem2sentids - VALID\n",
    "with open('../Dataset/ratebeer/small_500/valid/useritem2sentids_test.json', 'r') as f:\n",
    "    validset_useritem_to_sentids = json.load(f)\n",
    "print(\"Number of user in valid set: {}\".format(len(validset_useritem_to_sentids)))"
   ]
  },
  {
   "cell_type": "code",
   "execution_count": 163,
   "metadata": {},
   "outputs": [
    {
     "name": "stdout",
     "output_type": "stream",
     "text": [
      "On TEST set:\n",
      "Number of reviews with empty true label sentences: 0\n",
      "Max number of candidate sentence: 804\n",
      "Min number of candidate sentence: 90\n",
      "Mean number of candidate sentence: 309.21115537848607\n"
     ]
    }
   ],
   "source": [
    "empty_label = 0\n",
    "candidate_sent_ids_cnt = []\n",
    "for user_chunk in list(testset_useritem_to_sentids.items()):\n",
    "    user_id_str = str(user_chunk[0])\n",
    "    # print(user_id_str)\n",
    "    user_item_chunks = list(user_chunk[1].items())\n",
    "    for item_chunk in user_item_chunks:\n",
    "        item_id_str = str(item_chunk[0])\n",
    "        # print(item_id_str)\n",
    "        # candidate_true_sent_ids = item_chunk[1]\n",
    "        candidate_sent_ids = item_chunk[1][0]\n",
    "        true_sent_ids = item_chunk[1][1]\n",
    "        candidate_sent_ids_cnt.append(len(candidate_sent_ids))\n",
    "        if len(true_sent_ids) == 0:\n",
    "            # print(item_chunk)\n",
    "            empty_label += 1\n",
    "print(\"On TEST set:\")\n",
    "print(\"Number of reviews with empty true label sentences: {}\".format(empty_label))\n",
    "print(\"Max number of candidate sentence: {}\".format(np.max(candidate_sent_ids_cnt)))\n",
    "print(\"Min number of candidate sentence: {}\".format(np.min(candidate_sent_ids_cnt)))\n",
    "print(\"Mean number of candidate sentence: {}\".format(np.mean(candidate_sent_ids_cnt)))"
   ]
  },
  {
   "cell_type": "code",
   "execution_count": 164,
   "metadata": {},
   "outputs": [
    {
     "name": "stdout",
     "output_type": "stream",
     "text": [
      "On VALID set:\n",
      "Number of reviews with empty true label sentences: 0\n",
      "Max number of candidate sentence: 500\n",
      "Min number of candidate sentence: 90\n",
      "Mean number of candidate sentence: 306.6682361463238\n"
     ]
    }
   ],
   "source": [
    "empty_label = 0\n",
    "candidate_sent_ids_cnt = []\n",
    "for user_chunk in list(validset_useritem_to_sentids.items()):\n",
    "    user_id_str = str(user_chunk[0])\n",
    "    # print(user_id_str)\n",
    "    user_item_chunks = list(user_chunk[1].items())\n",
    "    for item_chunk in user_item_chunks:\n",
    "        item_id_str = str(item_chunk[0])\n",
    "        # print(item_id_str)\n",
    "        # candidate_true_sent_ids = item_chunk[1]\n",
    "        candidate_sent_ids = item_chunk[1][0]\n",
    "        true_sent_ids = item_chunk[1][1]\n",
    "        candidate_sent_ids_cnt.append(len(candidate_sent_ids))\n",
    "        if len(true_sent_ids) == 0:\n",
    "            # print(item_chunk)\n",
    "            empty_label += 1\n",
    "print(\"On VALID set:\")\n",
    "print(\"Number of reviews with empty true label sentences: {}\".format(empty_label))\n",
    "print(\"Max number of candidate sentence: {}\".format(np.max(candidate_sent_ids_cnt)))\n",
    "print(\"Min number of candidate sentence: {}\".format(np.min(candidate_sent_ids_cnt)))\n",
    "print(\"Mean number of candidate sentence: {}\".format(np.mean(candidate_sent_ids_cnt)))"
   ]
  },
  {
   "cell_type": "markdown",
   "metadata": {},
   "source": [
    "# Combine Proxy Ids"
   ]
  },
  {
   "cell_type": "code",
   "execution_count": 165,
   "metadata": {},
   "outputs": [
    {
     "name": "stdout",
     "output_type": "stream",
     "text": [
      "Number of reviews in test set: 2761\n"
     ]
    }
   ],
   "source": [
    "test_review_proxy_results = []\n",
    "with open('../Dataset/ratebeer/small_500/test/useritem2sentids_withproxy_multilines.json', 'w') as fw:\n",
    "    for i in range(28):\n",
    "        file_path = './result_small_500_test/{}.json'.format(i)\n",
    "        # print(file_path)\n",
    "        with open(file_path) as f:\n",
    "            for line in f:\n",
    "                line_data = json.loads(line)\n",
    "                # print(line_data)\n",
    "                user_id = str(line_data['user'])\n",
    "                item_id = str(line_data['item'])\n",
    "                candidate_ids = line_data[\"candidate_ids\"]\n",
    "                review_ids = line_data[\"review_ids\"]\n",
    "                proxy_ids = line_data[\"proxy_ids\"]\n",
    "                test_review_proxy_results.append([user_id, item_id, candidate_ids, review_ids, proxy_ids])\n",
    "                json.dump(line_data, fw)\n",
    "                fw.write('\\n')\n",
    "print(\"Number of reviews in test set: {}\".format(len(test_review_proxy_results)))"
   ]
  },
  {
   "cell_type": "code",
   "execution_count": 167,
   "metadata": {},
   "outputs": [
    {
     "name": "stdout",
     "output_type": "stream",
     "text": [
      "Number of reviews in valid set: 2761\n"
     ]
    }
   ],
   "source": [
    "valid_review_proxy_results = []\n",
    "with open('../Dataset/ratebeer/small_500/valid/useritem2sentids_withproxy_multilines.json', 'w') as fw:\n",
    "    for i in range(28):\n",
    "        file_path = './result_small_500_valid/{}.json'.format(i)\n",
    "        # print(file_path)\n",
    "        with open(file_path) as f:\n",
    "            for line in f:\n",
    "                line_data = json.loads(line)\n",
    "                # print(line_data)\n",
    "                user_id = str(line_data['user'])\n",
    "                item_id = str(line_data['item'])\n",
    "                candidate_ids = line_data[\"candidate_ids\"]\n",
    "                review_ids = line_data[\"review_ids\"]\n",
    "                proxy_ids = line_data[\"proxy_ids\"]\n",
    "                valid_review_proxy_results.append([user_id, item_id, candidate_ids, review_ids, proxy_ids])\n",
    "                json.dump(line_data, fw)\n",
    "                fw.write('\\n')\n",
    "print(\"Number of reviews in valid set: {}\".format(len(valid_review_proxy_results)))"
   ]
  },
  {
   "cell_type": "code",
   "execution_count": 168,
   "metadata": {},
   "outputs": [],
   "source": [
    "df_test_result = pd.DataFrame(test_review_proxy_results, columns=['user', 'item', 'cdd', 'review', 'proxy'])\n",
    "df_valid_result = pd.DataFrame(valid_review_proxy_results, columns=['user', 'item', 'cdd', 'review', 'proxy'])"
   ]
  },
  {
   "cell_type": "code",
   "execution_count": 169,
   "metadata": {},
   "outputs": [
    {
     "data": {
      "text/html": "<div>\n<style scoped>\n    .dataframe tbody tr th:only-of-type {\n        vertical-align: middle;\n    }\n\n    .dataframe tbody tr th {\n        vertical-align: top;\n    }\n\n    .dataframe thead th {\n        text-align: right;\n    }\n</style>\n<table border=\"1\" class=\"dataframe\">\n  <thead>\n    <tr style=\"text-align: right;\">\n      <th></th>\n      <th>user</th>\n      <th>item</th>\n      <th>cdd</th>\n      <th>review</th>\n      <th>proxy</th>\n    </tr>\n  </thead>\n  <tbody>\n    <tr>\n      <th>0</th>\n      <td>2202</td>\n      <td>207</td>\n      <td>[4670, 30, 17966, 67969, 56327, 74253, 17927, ...</td>\n      <td>[2855, 2856, 2854, 2857, 2858]</td>\n      <td>[17925, 17961, 74255, 17926, 6563, 61]</td>\n    </tr>\n    <tr>\n      <th>1</th>\n      <td>1925</td>\n      <td>517</td>\n      <td>[65382, 65370, 65408, 65435, 65397, 65359, 392...</td>\n      <td>[10765, 10764, 10763, 10762, 10761, 10760, 10759]</td>\n      <td>[65399, 53797, 65382, 24113, 39245, 68763, 653...</td>\n    </tr>\n    <tr>\n      <th>2</th>\n      <td>2020</td>\n      <td>316</td>\n      <td>[17574, 9012, 17614, 35386, 29445, 66511, 4387...</td>\n      <td>[2785, 2787, 2786]</td>\n      <td>[17642, 28445, 17595, 43450, 29444, 33585]</td>\n    </tr>\n    <tr>\n      <th>3</th>\n      <td>1986</td>\n      <td>237</td>\n      <td>[74127, 14886, 40843, 45135, 74122, 12762, 400...</td>\n      <td>[7169, 7168, 7170]</td>\n      <td>[53838, 96, 50650, 43089, 346]</td>\n    </tr>\n    <tr>\n      <th>4</th>\n      <td>2488</td>\n      <td>530</td>\n      <td>[55319, 44025, 44068, 44122, 44107, 44066, 283...</td>\n      <td>[7191, 7190, 7193, 7195, 7192, 7194]</td>\n      <td>[44057, 44066, 44071, 28338, 15087, 96, 44043]</td>\n    </tr>\n    <tr>\n      <th>...</th>\n      <td>...</td>\n      <td>...</td>\n      <td>...</td>\n      <td>...</td>\n      <td>...</td>\n    </tr>\n    <tr>\n      <th>2756</th>\n      <td>2020</td>\n      <td>506</td>\n      <td>[17574, 48737, 17614, 67185, 11620, 17596, 692...</td>\n      <td>[2790, 2789, 2788]</td>\n      <td>[17583, 45593, 17593, 17576, 29578, 40383, 31987]</td>\n    </tr>\n    <tr>\n      <th>2757</th>\n      <td>2241</td>\n      <td>322</td>\n      <td>[50193, 24187, 2009, 54880, 54851, 54899, 2946...</td>\n      <td>[9009, 9005, 9008, 9006, 9007]</td>\n      <td>[8771, 8768, 50435, 852, 318, 40917, 36409, 41...</td>\n    </tr>\n    <tr>\n      <th>2758</th>\n      <td>2060</td>\n      <td>213</td>\n      <td>[51696, 55371, 5098, 50645, 73507, 50649, 2638...</td>\n      <td>[4241, 4240, 4242, 4243]</td>\n      <td>[3051, 5095, 26457, 26334]</td>\n    </tr>\n    <tr>\n      <th>2759</th>\n      <td>1851</td>\n      <td>724</td>\n      <td>[13020, 13029, 12891, 12962, 12934, 12995, 129...</td>\n      <td>[2064, 2062, 2063]</td>\n      <td>[69831, 12930, 12937, 42985, 19]</td>\n    </tr>\n    <tr>\n      <th>2760</th>\n      <td>2044</td>\n      <td>365</td>\n      <td>[61324, 7472, 63707, 61383, 573, 23005, 61362,...</td>\n      <td>[10049, 10047, 46, 10051, 10048, 10052, 10050]</td>\n      <td>[47512, 61467, 10177, 28196, 9626, 61386]</td>\n    </tr>\n  </tbody>\n</table>\n<p>2761 rows × 5 columns</p>\n</div>",
      "text/plain": "      user item                                                cdd  \\\n0     2202  207  [4670, 30, 17966, 67969, 56327, 74253, 17927, ...   \n1     1925  517  [65382, 65370, 65408, 65435, 65397, 65359, 392...   \n2     2020  316  [17574, 9012, 17614, 35386, 29445, 66511, 4387...   \n3     1986  237  [74127, 14886, 40843, 45135, 74122, 12762, 400...   \n4     2488  530  [55319, 44025, 44068, 44122, 44107, 44066, 283...   \n...    ...  ...                                                ...   \n2756  2020  506  [17574, 48737, 17614, 67185, 11620, 17596, 692...   \n2757  2241  322  [50193, 24187, 2009, 54880, 54851, 54899, 2946...   \n2758  2060  213  [51696, 55371, 5098, 50645, 73507, 50649, 2638...   \n2759  1851  724  [13020, 13029, 12891, 12962, 12934, 12995, 129...   \n2760  2044  365  [61324, 7472, 63707, 61383, 573, 23005, 61362,...   \n\n                                                 review  \\\n0                        [2855, 2856, 2854, 2857, 2858]   \n1     [10765, 10764, 10763, 10762, 10761, 10760, 10759]   \n2                                    [2785, 2787, 2786]   \n3                                    [7169, 7168, 7170]   \n4                  [7191, 7190, 7193, 7195, 7192, 7194]   \n...                                                 ...   \n2756                                 [2790, 2789, 2788]   \n2757                     [9009, 9005, 9008, 9006, 9007]   \n2758                           [4241, 4240, 4242, 4243]   \n2759                                 [2064, 2062, 2063]   \n2760     [10049, 10047, 46, 10051, 10048, 10052, 10050]   \n\n                                                  proxy  \n0                [17925, 17961, 74255, 17926, 6563, 61]  \n1     [65399, 53797, 65382, 24113, 39245, 68763, 653...  \n2            [17642, 28445, 17595, 43450, 29444, 33585]  \n3                        [53838, 96, 50650, 43089, 346]  \n4        [44057, 44066, 44071, 28338, 15087, 96, 44043]  \n...                                                 ...  \n2756  [17583, 45593, 17593, 17576, 29578, 40383, 31987]  \n2757  [8771, 8768, 50435, 852, 318, 40917, 36409, 41...  \n2758                         [3051, 5095, 26457, 26334]  \n2759                   [69831, 12930, 12937, 42985, 19]  \n2760          [47512, 61467, 10177, 28196, 9626, 61386]  \n\n[2761 rows x 5 columns]"
     },
     "execution_count": 169,
     "metadata": {},
     "output_type": "execute_result"
    }
   ],
   "source": [
    "df_test_result"
   ]
  },
  {
   "cell_type": "code",
   "execution_count": 170,
   "metadata": {},
   "outputs": [
    {
     "data": {
      "text/html": "<div>\n<style scoped>\n    .dataframe tbody tr th:only-of-type {\n        vertical-align: middle;\n    }\n\n    .dataframe tbody tr th {\n        vertical-align: top;\n    }\n\n    .dataframe thead th {\n        text-align: right;\n    }\n</style>\n<table border=\"1\" class=\"dataframe\">\n  <thead>\n    <tr style=\"text-align: right;\">\n      <th></th>\n      <th>user</th>\n      <th>item</th>\n      <th>cdd</th>\n      <th>review</th>\n      <th>proxy</th>\n    </tr>\n  </thead>\n  <tbody>\n    <tr>\n      <th>0</th>\n      <td>2030</td>\n      <td>548</td>\n      <td>[22604, 13020, 39100, 33185, 16724, 48013, 167...</td>\n      <td>[2642, 2646, 2647, 2645, 2643, 2644]</td>\n      <td>[16639, 39100, 16774, 48005, 3543, 16688, 30488]</td>\n    </tr>\n    <tr>\n      <th>1</th>\n      <td>2138</td>\n      <td>750</td>\n      <td>[39240, 29108, 30931, 2919, 39245, 71388, 3922...</td>\n      <td>[6315, 6314]</td>\n      <td>[39244]</td>\n    </tr>\n    <tr>\n      <th>2</th>\n      <td>2536</td>\n      <td>476</td>\n      <td>[25896, 23945, 62082, 23894, 60299, 23922, 526...</td>\n      <td>[3797, 3798, 3799]</td>\n      <td>[10884, 23943, 23889, 47304]</td>\n    </tr>\n    <tr>\n      <th>3</th>\n      <td>2681</td>\n      <td>321</td>\n      <td>[63370, 49814, 30232, 61302, 61264, 30003, 708...</td>\n      <td>[10011, 10009, 10012, 10010]</td>\n      <td>[54432, 70761, 61306]</td>\n    </tr>\n    <tr>\n      <th>4</th>\n      <td>2869</td>\n      <td>623</td>\n      <td>[67033, 67039, 51371, 66993, 37164, 67043, 669...</td>\n      <td>[10964, 10968, 10966, 10963, 10967, 10965]</td>\n      <td>[25417, 47, 55906, 51214, 73337, 14, 36388]</td>\n    </tr>\n    <tr>\n      <th>...</th>\n      <td>...</td>\n      <td>...</td>\n      <td>...</td>\n      <td>...</td>\n      <td>...</td>\n    </tr>\n    <tr>\n      <th>2756</th>\n      <td>2028</td>\n      <td>502</td>\n      <td>[58591, 23712, 53320, 23187, 53972, 49171, 196...</td>\n      <td>[3778]</td>\n      <td>[50239, 24681]</td>\n    </tr>\n    <tr>\n      <th>2757</th>\n      <td>2346</td>\n      <td>509</td>\n      <td>[73381, 49564, 49410, 49429, 49503, 55493, 494...</td>\n      <td>[8039, 8037, 8034, 8033, 8035, 8038, 8036]</td>\n      <td>[49459, 49479, 49488, 24285, 58016, 49410, 495...</td>\n    </tr>\n    <tr>\n      <th>2758</th>\n      <td>2538</td>\n      <td>156</td>\n      <td>[14809, 14862, 69800, 69802, 14886, 69798, 277...</td>\n      <td>[2353, 63, 2352, 2355, 2354, 0]</td>\n      <td>[14864, 2600, 62, 1300]</td>\n    </tr>\n    <tr>\n      <th>2759</th>\n      <td>1873</td>\n      <td>303</td>\n      <td>[69943, 4984, 27605, 69083, 39297, 42882, 4945...</td>\n      <td>[11252, 11251, 11253]</td>\n      <td>[37823, 54640, 18181]</td>\n    </tr>\n    <tr>\n      <th>2760</th>\n      <td>2632</td>\n      <td>267</td>\n      <td>[30830, 24997, 24992, 24930, 25054, 25036, 536...</td>\n      <td>[3984, 3983, 3988, 3987, 3989, 3992, 3990, 398...</td>\n      <td>[18762, 25008, 38318, 20520, 25082, 8061, 2508...</td>\n    </tr>\n  </tbody>\n</table>\n<p>2761 rows × 5 columns</p>\n</div>",
      "text/plain": "      user item                                                cdd  \\\n0     2030  548  [22604, 13020, 39100, 33185, 16724, 48013, 167...   \n1     2138  750  [39240, 29108, 30931, 2919, 39245, 71388, 3922...   \n2     2536  476  [25896, 23945, 62082, 23894, 60299, 23922, 526...   \n3     2681  321  [63370, 49814, 30232, 61302, 61264, 30003, 708...   \n4     2869  623  [67033, 67039, 51371, 66993, 37164, 67043, 669...   \n...    ...  ...                                                ...   \n2756  2028  502  [58591, 23712, 53320, 23187, 53972, 49171, 196...   \n2757  2346  509  [73381, 49564, 49410, 49429, 49503, 55493, 494...   \n2758  2538  156  [14809, 14862, 69800, 69802, 14886, 69798, 277...   \n2759  1873  303  [69943, 4984, 27605, 69083, 39297, 42882, 4945...   \n2760  2632  267  [30830, 24997, 24992, 24930, 25054, 25036, 536...   \n\n                                                 review  \\\n0                  [2642, 2646, 2647, 2645, 2643, 2644]   \n1                                          [6315, 6314]   \n2                                    [3797, 3798, 3799]   \n3                          [10011, 10009, 10012, 10010]   \n4            [10964, 10968, 10966, 10963, 10967, 10965]   \n...                                                 ...   \n2756                                             [3778]   \n2757         [8039, 8037, 8034, 8033, 8035, 8038, 8036]   \n2758                    [2353, 63, 2352, 2355, 2354, 0]   \n2759                              [11252, 11251, 11253]   \n2760  [3984, 3983, 3988, 3987, 3989, 3992, 3990, 398...   \n\n                                                  proxy  \n0      [16639, 39100, 16774, 48005, 3543, 16688, 30488]  \n1                                               [39244]  \n2                          [10884, 23943, 23889, 47304]  \n3                                 [54432, 70761, 61306]  \n4           [25417, 47, 55906, 51214, 73337, 14, 36388]  \n...                                                 ...  \n2756                                     [50239, 24681]  \n2757  [49459, 49479, 49488, 24285, 58016, 49410, 495...  \n2758                            [14864, 2600, 62, 1300]  \n2759                              [37823, 54640, 18181]  \n2760  [18762, 25008, 38318, 20520, 25082, 8061, 2508...  \n\n[2761 rows x 5 columns]"
     },
     "execution_count": 170,
     "metadata": {},
     "output_type": "execute_result"
    }
   ],
   "source": [
    "df_valid_result"
   ]
  },
  {
   "cell_type": "code",
   "execution_count": 171,
   "metadata": {},
   "outputs": [],
   "source": [
    "group_by_user_test_result = df_test_result.groupby('user')\n",
    "group_by_user_valid_result = df_valid_result.groupby('user')"
   ]
  },
  {
   "cell_type": "code",
   "execution_count": 172,
   "metadata": {},
   "outputs": [
    {
     "name": "stdout",
     "output_type": "stream",
     "text": [
      "number of user on test set: 606\n",
      "number of user on valid set: 606\n"
     ]
    }
   ],
   "source": [
    "print(\"number of user on test set: {}\".format(len(group_by_user_test_result)))\n",
    "print(\"number of user on valid set: {}\".format(len(group_by_user_valid_result)))"
   ]
  },
  {
   "cell_type": "code",
   "execution_count": 173,
   "metadata": {},
   "outputs": [],
   "source": [
    "user_cnt = 0\n",
    "user_item_testset_result = dict()\n",
    "for user_df_chunk in list(group_by_user_test_result):\n",
    "    user_id = int(user_df_chunk[0])\n",
    "    user_id_str = str(user_df_chunk[0])\n",
    "    user_df = user_df_chunk[1]\n",
    "    # item-level dict\n",
    "    item_level_dict = dict()\n",
    "    for idx, row in user_df.iterrows():\n",
    "        item_id = int(row['item'])\n",
    "        item_id_str = str(row['item'])\n",
    "        cdd_ids = row['cdd']\n",
    "        review_ids = row['review']\n",
    "        proxy_ids = row['proxy']\n",
    "        assert isinstance(cdd_ids[0], str)\n",
    "        assert isinstance(review_ids[0], str)\n",
    "        assert isinstance(proxy_ids[0], str)\n",
    "        # add this into the dict\n",
    "        item_level_dict[item_id_str] = [cdd_ids, review_ids, proxy_ids]\n",
    "    # add item-level dict to user-level dict\n",
    "    user_item_testset_result[user_id_str] = item_level_dict\n",
    "    user_cnt += 1"
   ]
  },
  {
   "cell_type": "code",
   "execution_count": 174,
   "metadata": {},
   "outputs": [],
   "source": [
    "user_cnt = 0\n",
    "user_item_validset_result = dict()\n",
    "for user_df_chunk in list(group_by_user_valid_result):\n",
    "    user_id = int(user_df_chunk[0])\n",
    "    user_id_str = str(user_df_chunk[0])\n",
    "    user_df = user_df_chunk[1]\n",
    "    # item-level dict\n",
    "    item_level_dict = dict()\n",
    "    for idx, row in user_df.iterrows():\n",
    "        item_id = int(row['item'])\n",
    "        item_id_str = str(row['item'])\n",
    "        cdd_ids = row['cdd']\n",
    "        review_ids = row['review']\n",
    "        proxy_ids = row['proxy']\n",
    "        assert isinstance(cdd_ids[0], str)\n",
    "        assert isinstance(review_ids[0], str)\n",
    "        assert isinstance(proxy_ids[0], str)\n",
    "        # add this into the dict\n",
    "        item_level_dict[item_id_str] = [cdd_ids, review_ids, proxy_ids]\n",
    "    # add item-level dict to user-level dict\n",
    "    user_item_validset_result[user_id_str] = item_level_dict\n",
    "    user_cnt += 1"
   ]
  },
  {
   "cell_type": "code",
   "execution_count": 175,
   "metadata": {},
   "outputs": [
    {
     "name": "stdout",
     "output_type": "stream",
     "text": [
      "On TEST set:\n",
      "user: 2165 \t item: 377\n",
      "Number of candidate sentence: 209 \n",
      "Number of true review sentence: 5\n",
      "Number of proxy review sentence: 6\n"
     ]
    }
   ],
   "source": [
    "# user_item_testset_result['2165']['377']\n",
    "example_user_id = \"2165\"\n",
    "example_item_id = \"377\"\n",
    "print('On TEST set:')\n",
    "print(\"user: {0} \\t item: {1}\".format(example_user_id, example_item_id))\n",
    "print(\"Number of candidate sentence: {0} \\nNumber of true review sentence: {1}\\nNumber of proxy review sentence: {2}\".format(\n",
    "    len(user_item_testset_result[example_user_id][example_item_id][0]),\n",
    "    len(user_item_testset_result[example_user_id][example_item_id][1]),\n",
    "    len(user_item_testset_result[example_user_id][example_item_id][2])))\n",
    "# user_item_validset_result['2165']['377']\n",
    "print('On VALID set:')\n",
    "print(\"user: {0} \\t item: {1}\".format(example_user_id, example_item_id))\n",
    "print(\"Number of candidate sentence: {0} \\nNumber of true review sentence: {1}\\nNumber of proxy review sentence: {2}\".format(\n",
    "    len(user_item_validset_result[example_user_id][example_item_id][0]),\n",
    "    len(user_item_validset_result[example_user_id][example_item_id][1]),\n",
    "    len(user_item_validset_result[example_user_id][example_item_id][2])))"
   ]
  },
  {
   "cell_type": "code",
   "execution_count": 177,
   "metadata": {},
   "outputs": [
    {
     "name": "stdout",
     "output_type": "stream",
     "text": [
      "On TEST set:\n",
      "user: 2030 \t item: 548\n",
      "Number of candidate sentence: 326 \n",
      "Number of true review sentence: 6\n",
      "Number of proxy review sentence: 7\n",
      "On VALID set:\n",
      "user: 2030 \t item: 548\n",
      "Number of candidate sentence: 326 \n",
      "Number of true review sentence: 6\n",
      "Number of proxy review sentence: 7\n"
     ]
    }
   ],
   "source": [
    "# user_item_testset_result['2165']['377']\n",
    "example_user_id = \"2030\"\n",
    "example_item_id = \"548\"\n",
    "print('On TEST set:')\n",
    "print(\"user: {0} \\t item: {1}\".format(example_user_id, example_item_id))\n",
    "print(\"Number of candidate sentence: {0} \\nNumber of true review sentence: {1}\\nNumber of proxy review sentence: {2}\".format(\n",
    "    len(user_item_testset_result[example_user_id][example_item_id][0]),\n",
    "    len(user_item_testset_result[example_user_id][example_item_id][1]),\n",
    "    len(user_item_testset_result[example_user_id][example_item_id][2])))\n",
    "# user_item_validset_result['2165']['377']\n",
    "print('On VALID set:')\n",
    "print(\"user: {0} \\t item: {1}\".format(example_user_id, example_item_id))\n",
    "print(\"Number of candidate sentence: {0} \\nNumber of true review sentence: {1}\\nNumber of proxy review sentence: {2}\".format(\n",
    "    len(user_item_validset_result[example_user_id][example_item_id][0]),\n",
    "    len(user_item_validset_result[example_user_id][example_item_id][1]),\n",
    "    len(user_item_validset_result[example_user_id][example_item_id][2])))"
   ]
  },
  {
   "cell_type": "code",
   "execution_count": 178,
   "metadata": {},
   "outputs": [],
   "source": [
    "# save this into json file\n",
    "with open('../Dataset/ratebeer/small_500/test/useritem2sentids_withproxy.json', 'w') as f:\n",
    "    json.dump(user_item_testset_result, f)"
   ]
  },
  {
   "cell_type": "code",
   "execution_count": 179,
   "metadata": {},
   "outputs": [],
   "source": [
    "# save this into json file\n",
    "with open('../Dataset/ratebeer/small_500/valid/useritem2sentids_withproxy.json', 'w') as f:\n",
    "    json.dump(user_item_validset_result, f)"
   ]
  },
  {
   "cell_type": "code",
   "execution_count": null,
   "metadata": {},
   "outputs": [],
   "source": []
  }
 ],
 "metadata": {
  "kernelspec": {
   "display_name": "Python 3.7.4 64-bit ('2019.10': virtualenv)",
   "name": "python374jvsc74a57bd020bbdedb0079e23a85211f14a09dbcc829fefc965ff02508ebf68fe08b48d387"
  },
  "language_info": {
   "codemirror_mode": {
    "name": "ipython",
    "version": 3
   },
   "file_extension": ".py",
   "mimetype": "text/x-python",
   "name": "python",
   "nbconvert_exporter": "python",
   "pygments_lexer": "ipython3",
   "version": "3.7.4"
  },
  "metadata": {
   "interpreter": {
    "hash": "20bbdedb0079e23a85211f14a09dbcc829fefc965ff02508ebf68fe08b48d387"
   }
  },
  "orig_nbformat": 2
 },
 "nbformat": 4,
 "nbformat_minor": 2
}