{
 "cells": [
  {
   "cell_type": "code",
   "execution_count": 1,
   "metadata": {},
   "outputs": [
    {
     "name": "stderr",
     "output_type": "stream",
     "text": [
      "[nltk_data] Downloading package punkt to /u/pw7nc/nltk_data...\n",
      "[nltk_data]   Package punkt is already up-to-date!\n"
     ]
    },
    {
     "data": {
      "text/plain": "True"
     },
     "execution_count": 1,
     "metadata": {},
     "output_type": "execute_result"
    }
   ],
   "source": [
    "import nltk\n",
    "nltk.download('punkt')"
   ]
  },
  {
   "cell_type": "code",
   "execution_count": 2,
   "metadata": {},
   "outputs": [],
   "source": [
    "from nltk.translate import bleu_score\n",
    "\n",
    "def compute_bleu(gts_data, gene_data, bleu_totals, length):\n",
    "    type_weights = [\n",
    "        [1., 0, 0, 0],\n",
    "        [.5, .5, 0, 0],\n",
    "        [1 / 3, 1 / 3, 1 / 3, 0],\n",
    "        [.25, .25, .25, .25]\n",
    "    ]\n",
    "    sf = bleu_score.SmoothingFunction()\n",
    "    refs = gts_data\n",
    "    sample = gene_data\n",
    "    if len(refs) == 0:\n",
    "        return bleu_totals, length\n",
    "    length += 1\n",
    "    for j in range(4):\n",
    "        weights = type_weights[j]\n",
    "        bleu_totals[j] += bleu_score.sentence_bleu([refs], sample, smoothing_function=sf.method1, weights=weights)\n",
    "\n",
    "    return bleu_totals, length"
   ]
  }
 ],
 "metadata": {
  "kernelspec": {
   "display_name": "Python 3.7.4 64-bit ('2019.10': virtualenv)",
   "name": "python374jvsc74a57bd020bbdedb0079e23a85211f14a09dbcc829fefc965ff02508ebf68fe08b48d387"
  },
  "language_info": {
   "codemirror_mode": {
    "name": "ipython",
    "version": 3
   },
   "file_extension": ".py",
   "mimetype": "text/x-python",
   "name": "python",
   "nbconvert_exporter": "python",
   "pygments_lexer": "ipython3",
   "version": "3.7.4"
  },
  "metadata": {
   "interpreter": {
    "hash": "20bbdedb0079e23a85211f14a09dbcc829fefc965ff02508ebf68fe08b48d387"
   }
  },
  "orig_nbformat": 2
 },
 "nbformat": 4,
 "nbformat_minor": 2
}