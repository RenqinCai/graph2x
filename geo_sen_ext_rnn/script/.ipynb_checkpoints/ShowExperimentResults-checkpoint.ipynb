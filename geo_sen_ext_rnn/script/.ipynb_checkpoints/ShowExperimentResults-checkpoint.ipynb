{
 "cells": [
  {
   "cell_type": "code",
   "execution_count": 2,
   "metadata": {},
   "outputs": [],
   "source": [
    "from IPython.display import display, HTML\n",
    "import json\n",
    "import pandas as pd"
   ]
  },
  {
   "cell_type": "code",
   "execution_count": 3,
   "metadata": {},
   "outputs": [],
   "source": [
    "# Load Data from different model's hypothesis\n",
    "\n",
    "# Graph\n",
    "hyps_file_graph = \"/u/pw7nc/experiments/graph2x/result/feature_purify/lr0.0005_06_22/feature_lambda_1.0_feature_finetune/3gram/hypothesis.txt\"\n",
    "refs_file_graph = \"/u/pw7nc/experiments/graph2x/result/feature_purify/lr0.0005_06_22/feature_lambda_1.0_feature_finetune/3gram/reference.txt\"\n",
    "hyps_file_graph_json = \"/u/pw7nc/experiments/graph2x/result/feature_purify/lr0.0005_06_22/feature_lambda_1.0_feature_finetune/3gram/hyps.json\"\n",
    "refs_file_graph_json = \"/u/pw7nc/experiments/graph2x/result/feature_purify/lr0.0005_06_22/feature_lambda_1.0_feature_finetune/3gram/refs.json\"\n",
    "\n",
    "# Att2Seq\n",
    "hyps_file_att2seq = \"/u/pw7nc/experiments/graph2x/result/feature_purify/att2seq/lr0.002_07_07/hypothesis.txt\"\n",
    "refs_file_att2seq = \"/u/pw7nc/experiments/graph2x/result/feature_purify/att2seq/lr0.002_07_07/reference.txt\"\n",
    "hyps_file_att2seq_json = \"/u/pw7nc/experiments/graph2x/result/feature_purify/att2seq/lr0.002_07_07/hyps.json\"\n",
    "refs_file_att2seq_json = \"/u/pw7nc/experiments/graph2x/result/feature_purify/att2seq/lr0.002_07_07/refs.json\"\n",
    "\n",
    "# NRT\n",
    "\n",
    "# NARRE"
   ]
  },
  {
   "cell_type": "code",
   "execution_count": 10,
   "metadata": {},
   "outputs": [],
   "source": [
    "def load_json_files(hyps_file_json, refs_file_json, model_name='graph'):\n",
    "    # Load hyps and refs\n",
    "    # this dict stores the hypothesis of a user-item pair. hyps_ui[userid][itemid] = \"xxx\"\n",
    "    # Hyps\n",
    "    hyps_ui = dict()\n",
    "    cnt_line = 0\n",
    "    with open(hyps_file_json, 'r') as f:\n",
    "        for line in f:\n",
    "            line_data = json.loads(line)\n",
    "            user_id = line_data['user']\n",
    "            item_id = line_data['item']\n",
    "            hyps_text = line_data['text']\n",
    "            if user_id not in hyps_ui:\n",
    "                hyps_ui[user_id] = dict()\n",
    "                hyps_ui[user_id][item_id] = hyps_text\n",
    "            else:\n",
    "                assert item_id not in hyps_ui[user_id]\n",
    "                hyps_ui[user_id][item_id] = hyps_text\n",
    "            cnt_line += 1\n",
    "    print(\"[{}] Finished! Totally {} lines of hyps data loaded.\".format(model_name, cnt_line))\n",
    "    # Refs\n",
    "    refs_ui = dict()\n",
    "    cnt_line = 0\n",
    "    with open(refs_file_json, 'r') as f:\n",
    "        for line in f:\n",
    "            line_data = json.loads(line)\n",
    "            user_id = line_data['user']\n",
    "            item_id = line_data['item']\n",
    "            refs_text = line_data['text']\n",
    "            if user_id not in refs_ui:\n",
    "                refs_ui[user_id] = dict()\n",
    "                refs_ui[user_id][item_id] = refs_text\n",
    "            else:\n",
    "                assert item_id not in refs_ui[user_id]\n",
    "                refs_ui[user_id][item_id] = refs_text\n",
    "            cnt_line += 1\n",
    "    print(\"[{}] Finished! Totally {} lines of refs data loaded.\".format(model_name, cnt_line))\n",
    "\n",
    "    return hyps_ui, refs_ui"
   ]
  },
  {
   "cell_type": "code",
   "execution_count": 12,
   "metadata": {},
   "outputs": [
    {
     "name": "stdout",
     "output_type": "stream",
     "text": [
      "[graph] Finished! Totally 13835 lines of hyps data loaded.\n",
      "[graph] Finished! Totally 13835 lines of refs data loaded.\n",
      "[att2seq] Finished! Totally 13835 lines of hyps data loaded.\n",
      "[att2seq] Finished! Totally 13835 lines of refs data loaded.\n"
     ]
    }
   ],
   "source": [
    "# Load Graph Model's hyps and refs\n",
    "hyps_graph_ui, refs_graph_ui = load_json_files(hyps_file_graph_json, refs_file_graph_json, 'graph')\n",
    "# Load Att2Seq Model's hyps and refs. NOTE: att2seq's refs contains <unk> token\n",
    "hyps_att2seq_ui, refs_att2seq_ui = load_json_files(hyps_file_att2seq_json, refs_file_att2seq_json, 'att2seq')"
   ]
  },
  {
   "cell_type": "code",
   "execution_count": 11,
   "metadata": {},
   "outputs": [
    {
     "name": "stdout",
     "output_type": "stream",
     "text": [
      "Load file: /u/pw7nc/experiments/Dataset/ratebeer/medium_500_pure/train/feature/feature2id.json\n",
      "Load file: /u/pw7nc/experiments/Dataset/ratebeer/medium_500_pure/train/feature/id2feature.json\n",
      "There are 575 features\n"
     ]
    }
   ],
   "source": [
    "# Load feature words\n",
    "dataset_name = 'medium_500_pure'\n",
    "feature2id_filepath = '/u/pw7nc/experiments/Dataset/ratebeer/{}/train/feature/feature2id.json'.format(dataset_name)\n",
    "with open(feature2id_filepath, 'r') as f:\n",
    "    print(\"Load file: {}\".format(feature2id_filepath))\n",
    "    feature2id = json.load(f)\n",
    "id2feature_filepath = '/u/pw7nc/experiments/Dataset/ratebeer/{}/train/feature/id2feature.json'.format(dataset_name)\n",
    "with open(id2feature_filepath, 'r') as f:\n",
    "    print(\"Load file: {}\".format(id2feature_filepath))\n",
    "    id2feature = json.load(f)\n",
    "assert len(feature2id) == len(id2feature)\n",
    "print(\"There are {} features\".format(len(feature2id)))"
   ]
  },
  {
   "cell_type": "code",
   "execution_count": 15,
   "metadata": {},
   "outputs": [],
   "source": [
    "# review_list = [['The aroma is sweet taste . the taste is a little bitter .'],['the beer has a beige head .']]\n",
    "# feature_list = [['aroma', 'taste', 'sweet', 'bitter'], ['beige', 'head']]\n",
    "\n",
    "# for rvw, fea_words in zip(review_list, feature_list):\n",
    "#     current_rvw = rvw[0]\n",
    "#     current_rvw = ' ' + current_rvw + ' '\n",
    "#     formated_rvw = current_rvw\n",
    "#     for fea_word in fea_words:\n",
    "#         formated_fea_word = \" <strong><font color=\\\"green\\\">{}</font></strong> \".format(fea_word)\n",
    "#         formated_rvw = formated_rvw.replace(' '+fea_word+' ', formated_fea_word)\n",
    "#     # print(formated_rvw)\n",
    "#     display(HTML(formated_rvw))"
   ]
  },
  {
   "cell_type": "code",
   "execution_count": 14,
   "metadata": {},
   "outputs": [
    {
     "data": {
      "text/html": [
       "<p>User: 1000 Item: 1109</p>"
      ],
      "text/plain": [
       "<IPython.core.display.HTML object>"
      ]
     },
     "metadata": {},
     "output_type": "display_data"
    },
    {
     "data": {
      "text/html": [
       "<strong>Refs:</strong>"
      ],
      "text/plain": [
       "<IPython.core.display.HTML object>"
      ]
     },
     "metadata": {},
     "output_type": "display_data"
    },
    {
     "data": {
      "text/html": [
       " nice <strong><font color=\"green\">hazy</font></strong> <strong><font color=\"green\">orangish</font></strong> <strong><font color=\"green\">yellow</font></strong> <strong><font color=\"green\">color</font></strong> . definite <strong><font color=\"green\">spiced</font></strong> <strong><font color=\"green\">taste</font></strong> . the <strong><font color=\"green\">clove</font></strong> is very prominant in the initital <strong><font color=\"green\">tasting</font></strong> and the <strong><font color=\"green\">banana</font></strong> really comes out in the <strong><font color=\"green\">aftertaste</font></strong> . "
      ],
      "text/plain": [
       "<IPython.core.display.HTML object>"
      ]
     },
     "metadata": {},
     "output_type": "display_data"
    },
    {
     "data": {
      "text/html": [
       "<strong>Our Model (multi-task + feature finetune + 3gram):</strong>"
      ],
      "text/plain": [
       "<IPython.core.display.HTML object>"
      ]
     },
     "metadata": {},
     "output_type": "display_data"
    },
    {
     "data": {
      "text/html": [
       " <strong><font color=\"green\">taste</font></strong> is of <strong><font color=\"green\">bubble</font></strong> <strong><font color=\"green\">gum</font></strong> and some <strong><font color=\"green\">banana</font></strong> . as the beer <strong><font color=\"green\">warmed</font></strong> , the <strong><font color=\"green\">flavors</font></strong> became diminished and although it still remained within the realm of a hefeweizen , it lost some its clout . <strong><font color=\"green\">ice</font></strong> <strong><font color=\"green\">cold</font></strong> <strong><font color=\"green\">brew</font></strong> is the only way to enjoy this one ! "
      ],
      "text/plain": [
       "<IPython.core.display.HTML object>"
      ]
     },
     "metadata": {},
     "output_type": "display_data"
    },
    {
     "data": {
      "text/html": [
       "<strong>Att2Seq:</strong>"
      ],
      "text/plain": [
       "<IPython.core.display.HTML object>"
      ]
     },
     "metadata": {},
     "output_type": "display_data"
    },
    {
     "data": {
      "text/html": [
       " <strong><font color=\"green\">bottle</font></strong> from a six pack . <strong><font color=\"green\">pours</font></strong> a <strong><font color=\"green\">cloudy</font></strong> <strong><font color=\"green\">golden</font></strong> <strong><font color=\"green\">color</font></strong> with a <strong><font color=\"green\">foamy</font></strong> <strong><font color=\"green\">white</font></strong> <strong><font color=\"green\">head</font></strong> . <strong><font color=\"green\">aroma</font></strong> is <strong><font color=\"green\">wheat</font></strong> and <strong><font color=\"green\">yeast</font></strong> . <strong><font color=\"green\">taste</font></strong> is slightly <strong><font color=\"green\">sour</font></strong> with a <strong><font color=\"green\">hint</font></strong> of <strong><font color=\"green\">wheat</font></strong> . "
      ],
      "text/plain": [
       "<IPython.core.display.HTML object>"
      ]
     },
     "metadata": {},
     "output_type": "display_data"
    },
    {
     "data": {
      "text/html": [
       "<p>User: 1000 Item: 657</p>"
      ],
      "text/plain": [
       "<IPython.core.display.HTML object>"
      ]
     },
     "metadata": {},
     "output_type": "display_data"
    },
    {
     "data": {
      "text/html": [
       "<strong>Refs:</strong>"
      ],
      "text/plain": [
       "<IPython.core.display.HTML object>"
      ]
     },
     "metadata": {},
     "output_type": "display_data"
    },
    {
     "data": {
      "text/html": [
       " <strong><font color=\"green\">cool</font></strong> stubby <strong><font color=\"green\">style</font></strong> <strong><font color=\"green\">bottle</font></strong> <strong><font color=\"green\">pours</font></strong> a <strong><font color=\"green\">clear</font></strong> <strong><font color=\"green\">yellow</font></strong> <strong><font color=\"green\">color</font></strong> , very easy to drink . "
      ],
      "text/plain": [
       "<IPython.core.display.HTML object>"
      ]
     },
     "metadata": {},
     "output_type": "display_data"
    },
    {
     "data": {
      "text/html": [
       "<strong>Our Model (multi-task + feature finetune + 3gram):</strong>"
      ],
      "text/plain": [
       "<IPython.core.display.HTML object>"
      ]
     },
     "metadata": {},
     "output_type": "display_data"
    },
    {
     "data": {
      "text/html": [
       " updated : <strong><font color=\"green\">jun</font></strong> 26 , 2008 <strong><font color=\"green\">bottle</font></strong> , not a bad beer , <strong><font color=\"green\">pours</font></strong> a brilliant purple . very <strong><font color=\"green\">cool</font></strong> <strong><font color=\"green\">bottle</font></strong> with a hawaiian word and translation under the <strong><font color=\"green\">cap</font></strong> . very <strong><font color=\"green\">cool</font></strong> logo on the <strong><font color=\"green\">bottle</font></strong> . "
      ],
      "text/plain": [
       "<IPython.core.display.HTML object>"
      ]
     },
     "metadata": {},
     "output_type": "display_data"
    },
    {
     "data": {
      "text/html": [
       "<strong>Att2Seq:</strong>"
      ],
      "text/plain": [
       "<IPython.core.display.HTML object>"
      ]
     },
     "metadata": {},
     "output_type": "display_data"
    },
    {
     "data": {
      "text/html": [
       " <strong><font color=\"green\">pours</font></strong> a <strong><font color=\"green\">clear</font></strong> <strong><font color=\"green\">gold</font></strong> with a <strong><font color=\"green\">foamy</font></strong> <strong><font color=\"green\">head</font></strong> . <strong><font color=\"green\">aroma</font></strong> is slightly <strong><font color=\"green\">sweet</font></strong> with a <strong><font color=\"green\">hint</font></strong> of <strong><font color=\"green\">hops</font></strong> . <strong><font color=\"green\">taste</font></strong> is slightly <strong><font color=\"green\">sweet</font></strong> and <strong><font color=\"green\">malty</font></strong> . "
      ],
      "text/plain": [
       "<IPython.core.display.HTML object>"
      ]
     },
     "metadata": {},
     "output_type": "display_data"
    }
   ],
   "source": [
    "sample_user_ids = ['1000', '1000']\n",
    "sample_item_ids = ['1109', '657']\n",
    "\n",
    "for u_id, i_id in zip(sample_user_ids, sample_item_ids):\n",
    "    # get the reference (from the graph model)\n",
    "    ref_text = refs_graph_ui[u_id][i_id]\n",
    "    ref_text = ' ' + ref_text + ' '\n",
    "    # get the hypothesis from the graph model\n",
    "    hyps_text_graph = hyps_graph_ui[u_id][i_id]\n",
    "    hyps_text_graph = ' ' + hyps_text_graph + ' '\n",
    "    # get the hypothesis from the att2seq model\n",
    "    hyps_text_att2seq = hyps_att2seq_ui[u_id][i_id]\n",
    "    hyps_text_att2seq = ' ' + hyps_text_att2seq + ' '\n",
    "    # add bold and color from the feature words\n",
    "    for fea_word in feature2id.keys():\n",
    "        formated_fea_word = \" <strong><font color=\\\"green\\\">{}</font></strong> \".format(fea_word)\n",
    "        ref_text = ref_text.replace(' '+fea_word+' ', formated_fea_word)\n",
    "        hyps_text_graph = hyps_text_graph.replace(' '+fea_word+' ', formated_fea_word)\n",
    "        hyps_text_att2seq = hyps_text_att2seq.replace(' '+fea_word+' ', formated_fea_word)\n",
    "    # print user-id and item-id\n",
    "    display(HTML(\"<p>User: {} Item: {}</p>\".format(u_id, i_id)))\n",
    "    display(HTML(\"<strong>Refs:</strong>\"))\n",
    "    display(HTML(ref_text))\n",
    "    display(HTML(\"<strong>Our Model (multi-task + feature finetune + 3gram):</strong>\"))\n",
    "    display(HTML(hyps_text_graph))\n",
    "    display(HTML(\"<strong>Att2Seq:</strong>\"))\n",
    "    display(HTML(hyps_text_att2seq))\n",
    "    display(HTML(\"<hr>\"))\n"
   ]
  },
  {
   "cell_type": "code",
   "execution_count": null,
   "metadata": {},
   "outputs": [],
   "source": []
  }
 ],
 "metadata": {
  "kernelspec": {
   "display_name": "Python 3",
   "language": "python",
   "name": "python3"
  },
  "language_info": {
   "codemirror_mode": {
    "name": "ipython",
    "version": 3
   },
   "file_extension": ".py",
   "mimetype": "text/x-python",
   "name": "python",
   "nbconvert_exporter": "python",
   "pygments_lexer": "ipython3",
   "version": "3.7.3"
  }
 },
 "nbformat": 4,
 "nbformat_minor": 2
}
