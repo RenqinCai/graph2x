{
 "cells": [
  {
   "cell_type": "code",
   "execution_count": 1,
   "metadata": {},
   "outputs": [],
   "source": []
  },
  {
   "cell_type": "code",
   "execution_count": 2,
   "metadata": {},
   "outputs": [],
   "source": [
    "import numpy as np\n",
    "import torch"
   ]
  },
  {
   "cell_type": "code",
   "execution_count": 3,
   "metadata": {},
   "outputs": [],
   "source": [
    "f = 1347"
   ]
  },
  {
   "cell_type": "code",
   "execution_count": 4,
   "metadata": {},
   "outputs": [
    {
     "data": {
      "text/plain": [
       "0.0"
      ]
     },
     "execution_count": 4,
     "metadata": {},
     "output_type": "execute_result"
    }
   ],
   "source": [
    "np.exp(-f)"
   ]
  },
  {
   "cell_type": "code",
   "execution_count": 96,
   "metadata": {},
   "outputs": [
    {
     "name": "stdout",
     "output_type": "stream",
     "text": [
      "yes\n"
     ]
    }
   ],
   "source": [
    "a = 1\n",
    "b = 1\n",
    "if a==b==1:\n",
    "    print(\"yes\")"
   ]
  },
  {
   "cell_type": "code",
   "execution_count": 99,
   "metadata": {},
   "outputs": [
    {
     "name": "stdout",
     "output_type": "stream",
     "text": [
      "[1, 2, 3]\n"
     ]
    }
   ],
   "source": [
    "a = [1, 2, 3]\n",
    "print(a[:])"
   ]
  },
  {
   "cell_type": "code",
   "execution_count": 98,
   "metadata": {},
   "outputs": [],
   "source": [
    "for i in range(2, 2):\n",
    "    print(i)"
   ]
  },
  {
   "cell_type": "code",
   "execution_count": 64,
   "metadata": {},
   "outputs": [],
   "source": [
    "def quick_sort(nums, left, right):\n",
    "#     print(\"--\", left, right)\n",
    "    if left >= right:\n",
    "        return\n",
    "    else:\n",
    "        pivot = nums[right]\n",
    "        partition = quick_partition(nums, left, right, right)\n",
    "#         print(nums, pivot, partition)\n",
    "        quick_sort(nums, left, partition-1)\n",
    "        quick_sort(nums, partition+1, right)"
   ]
  },
  {
   "cell_type": "code",
   "execution_count": 65,
   "metadata": {},
   "outputs": [],
   "source": [
    "def quick_partition(nums, left, right, pivot):\n",
    "    print(\"pivot\", pivot)\n",
    "    pivot_val = nums[pivot]\n",
    "\n",
    "    \n",
    "    while left < right:\n",
    "        while left<right and nums[left]<pivot_val:\n",
    "            left += 1\n",
    "        \n",
    "        while left<right and nums[right]>=pivot_val:\n",
    "            right -= 1\n",
    "        \n",
    "#         if i < j:\n",
    "        swap(left, right, nums)\n",
    "        \n",
    "    swap(left, pivot, nums)\n",
    "    \n",
    "    return left"
   ]
  },
  {
   "cell_type": "code",
   "execution_count": 66,
   "metadata": {},
   "outputs": [],
   "source": [
    "def swap(i, j, nums):\n",
    "    tmp = nums[i]\n",
    "    nums[i] = nums[j]\n",
    "    nums[j] = tmp"
   ]
  },
  {
   "cell_type": "code",
   "execution_count": 67,
   "metadata": {},
   "outputs": [],
   "source": [
    "def sort_array(nums):\n",
    "    print(\"before\")\n",
    "    print(nums)\n",
    "    quick_sort(nums, 0, len(nums)-1)\n",
    "    print(\"after\")\n",
    "    print(nums)"
   ]
  },
  {
   "cell_type": "code",
   "execution_count": 68,
   "metadata": {},
   "outputs": [
    {
     "name": "stdout",
     "output_type": "stream",
     "text": [
      "90\n",
      "before\n",
      "[100, 2, 5, 3, 200, 90]\n",
      "pivot 5\n",
      "pivot 2\n",
      "pivot 1\n",
      "pivot 5\n",
      "after\n",
      "[2, 3, 5, 90, 100, 200]\n"
     ]
    }
   ],
   "source": [
    "a = [100, 2, 5, 3, 200, 90]\n",
    "print(a[5])\n",
    "sort_array(a)"
   ]
  },
  {
   "cell_type": "code",
   "execution_count": 77,
   "metadata": {},
   "outputs": [],
   "source": [
    "feature_word_str = \"head, aroma, flavor, taste, sweet, light, malt, hops \\\n",
    "bottle, pours, white, finish, dark,, brown, caramel, color, bitter \\\n",
    ", chocolate, malty,, amber, citrus, body, hop \\\n",
    "coffee, malts, alcohol, notes, golden, orange, nose, carbonation, roasted, hoppy \\\n",
    ", bitterness, clear, dry,, fruit, smooth, palate,, \\\n",
    "fruity, yellow, black, lacing, tan, slight, flavors,, strong, ale \\\n",
    "sweetness, creamy,, sour, mouthfeel, poured, yeast, hazy,, pour \\\n",
    "pale, mild, pretty, brew, balanced,,, hint, floral, tastes \\\n",
    ", flavour, aftertaste, wheat, spicy, spice, deep, red, bodied, pine \\\n",
    "cloudy, ipa, hints, copper, colour,,, smell, style, \\\n",
    "vanilla,, fruits, aromas, honey, gold, crisp,, smells, lemon, touch, rich, watery, balance, stout, sugar,, clean, \\\n",
    "grapefruit, lager,, spices,, toffee,,, banana, tart,, grassy, bread,,, refreshing, end, earthy, \\\n",
    "yeasty,,, heavy,,, roasty, appearance, drinkable, belgian \\\n",
    "foamy, lightly,, fresh, complex, frothy,,, porter, oak \\\n",
    "apple, nutty,, solid,, huge,, grass, reddish, carbonated \\\n",
    "bready, moderate, faint, beige, lasting,, finishes, soft, bourbon, texture \\\n",
    "tasting,, burnt, weak, large,, fizzy, cherry, citrusy, \\\n",
    ", molasses, grain, wine, bite, lingering,,,, \\\n",
    "leaves, high, straw,, toasted, colored, low, piney, lace, smoke \\\n",
    "roast,,, corn, pumpkin, tongue, wood, ruby,, fluffy \\\n",
    "tasty, metallic,, grainy,, nuts, cherries, sticky, foam, \\\n",
    ", raisins, abv, draft,, tasted, clove,, herbal, note \\\n",
    ",, brewery,,,, warming, candy, short, cocoa \\\n",
    ", american,,, maltiness, sourness,, oily,, \\\n",
    "bubbles,, background, cinnamon,,, apricot, cream, retention, licorice \\\n",
    ", bright, bland,, pepper, bubbly,,, water, coriander \\\n",
    ",, hay, flavours, hoppiness, apples, fades,, bomber, \\\n",
    ", sized,, mildly, quality, sharp, mix, profile,, \\\n",
    ", dried,,,, opaque, pint, hidden,, \\\n",
    ", syrupy,,, grains,, ginger, pilsner,, murky \\\n",
    "complexity, hue,,,,, backbone,,, \\\n",
    "raisin,, milk,, acidic,,,,, english \\\n",
    "skunky, warm, toasty, hard, flat,, green, overpowering, scent, \\\n",
    "woody, funky, syrup, far, warms, smoky, delicious, tartness,, raspberry \\\n",
    "lingers,, winter, price, lighter, smokey,, rye,, \\\n",
    "fruitiness, ales,, tones, ipas,, hot, dominated,, nutmeg \\\n",
    "cider, peel, mellow, peach, juice,, alcoholic,, peppery, \\\n",
    "carmel,, cloves,,,,,, brownish, \\\n",
    "spiciness, dissipates, resin,, mahogany,,,,, blend \\\n",
    "fair, cold, worth,, dense,,, hopped, soapy, sugary \\\n",
    ", citric, cereal,, lemony, berries,, pineapple,, intense \\\n",
    "brews, diminishing,, tiny, german,, cask, tea,, wheaty \\\n",
    "grape, draught,, pils, toast,, nut,, vintage, \\\n",
    ", bittersweet, tangy,,,, booze,,, \\\n",
    ",, flowery, flowers, astringent,, pear, coloured,, \\\n",
    "lime,,, saison, courtesy,, drinkability, crystal, ring, half \\\n",
    ",,,, grapes,,, musty, lasts, smoked \\\n",
    "darker, dough, zest,, plum, bananas, chewy, sweetish, espresso, ripe \\\n",
    ", barleywine, oatmeal, rocky, cola,,, strawberry,, herbs \\\n",
    "mocha, earth,, pilsener, bud,,, esters,, wet \\\n",
    "harsh,, tropical, plums,,,, age,, burn \\\n",
    "maple, date, biscuity, roastiness,, watered,, slick,, pink \\\n",
    "oranges, aged,, stouts, tripel, macro, classic, smelled, bubblegum, brett \\\n",
    ",, liquor, cloying, flavorful, boozy, buttery,, pitch, \\\n",
    ", silky,,, bottles, tulip,,, bock, \\\n",
    "stone, sweeter,,,, flavored, spicey, sediment,, \\\n",
    "vinegar,, candied, nuttiness, butterscotch, stale,,, blonde, combination \\\n",
    ",, raspberries, warmth, spiced, barrel, berry,,, \\\n",
    ", robust, acidity,,, med, liquid,,, bold \\\n",
    ",,,, resinous,, base,,, \\\n",
    ", tall, dryness,, resiny,, ending, content,, chocolatey \\\n",
    ", pa, bar, wish, round,, true,, snifter, dissipating \\\n",
    "edge, impressive, butter, fading,, relatively,, cap,, completely \\\n",
    "jan,, finishing, tobacco,, stronger, massive,,, apricots \\\n",
    "bittering, edges,,, translucent, pie,, rounded,, ,, qualities,,, anise, rated, poor, layer, skunk \\\n",
    "scotch,, depth,, tinge, , powerful, cool, mid, \\\n",
    ",,, vinous, straight,,, smokiness,, \\\n",
    ", soda, dominant, higher,,,,,, heat \\\n",
    "faded,, stand, juicy,, blond, oct, coconut, mar, haze \\\n",
    ", sep,, ice, hefe, dominates,, prominent, whiskey, \\\n",
    "lite, reminiscent,, carb,,, linger, port,, \\\n",
    "lived,,,,,, doughy,,, dates \\\n",
    "scents,, champagne,, local,,, malted,, liquorice \\\n",
    "sparkling, dirty, normal, dull, apr, lagers, nov, pure, orangish, tight \\\n",
    "coast, modest,, peaches,, heavily, pears,,, \\\n",
    "artificial,, couple,, ish, throat, gentle, sugars, ive, metal \\\n",
    "noble, bubble,, offwhite,,, worst, salty, pub, leather \\\n",
    ", spruce, warmed,,,,, yellowish,, ,, earthiness, brewing,,, mango,, rind, pillowy \\\n",
    "ill,, aromatic, lemons, smelling, dose,, dusty,, ,,,, variety, goodness,, aging, smallish, fl \\\n",
    "en, milky, punch, thinner, sampler,, firm, plain,, basic \\\n",
    "velvety,, caramelly, wit, satisfying, available,, dipa, jun, \\\n",
    "khaki,, oaky, effervescent,, glad,, belgium,, festival \\\n",
    "delicate,,, growler, elements,,,, \\\n",
    "offensive, blueberry, tint, coppery, generous, tangerine, bronze, hell,, \\\n",
    "gum,, minor,,,, turns, tang,, apa \\\n",
    "lasted, choice,, dimensional, medicinal,,, fig,, \\\n",
    "balancing, orangey,, cheese, sense, oats, muddy, filled, dissipated, west \\\n",
    ", chestnut, drunk, sessionable,,,, acid, transparent, chocolaty \\\n",
    "shaker,,, peat,,, fingers, rum, zesty, beans \\\n",
    ",,,,, rest,, overtones, gave, cellar \\\n",
    ", soy, pungent, chalky, addition,,, brandy, fest, \\\n",
    "redish, original,,,,,, soap, rom, beverage \\\n",
    "dominating,, laces, trace,, face,, single, oil, \\\n",
    "piss,, ample, touches,, coffe,,, lambic, stick \\\n",
    "hues,,, candi,, cookie, craft, crazy,, \""
   ]
  },
  {
   "cell_type": "code",
   "execution_count": 89,
   "metadata": {},
   "outputs": [],
   "source": [
    "feature_word_list = feature_word_str.strip().split(\" \")"
   ]
  },
  {
   "cell_type": "code",
   "execution_count": 92,
   "metadata": {},
   "outputs": [],
   "source": [
    "feature_word_list = [word.strip(\",\") for word in feature_word_list]"
   ]
  },
  {
   "cell_type": "code",
   "execution_count": 95,
   "metadata": {},
   "outputs": [
    {
     "data": {
      "text/plain": [
       "649"
      ]
     },
     "execution_count": 95,
     "metadata": {},
     "output_type": "execute_result"
    }
   ],
   "source": [
    "len(feature_word_list)"
   ]
  },
  {
   "cell_type": "code",
   "execution_count": 94,
   "metadata": {},
   "outputs": [
    {
     "name": "stdout",
     "output_type": "stream",
     "text": [
      "head aroma flavor taste sweet light malt hops bottle pours white finish dark brown caramel color bitter  chocolate malty amber citrus body hop coffee malts alcohol notes golden orange nose carbonation roasted hoppy  bitterness clear dry fruit smooth palate fruity yellow black lacing tan slight flavors strong ale sweetness creamy sour mouthfeel poured yeast hazy pour pale mild pretty brew balanced hint floral tastes  flavour aftertaste wheat spicy spice deep red bodied pine cloudy ipa hints copper colour smell style vanilla fruits aromas honey gold crisp smells lemon touch rich watery balance stout sugar clean grapefruit lager spices toffee banana tart grassy bread refreshing end earthy yeasty heavy roasty appearance drinkable belgian foamy lightly fresh complex frothy porter oak apple nutty solid huge grass reddish carbonated bready moderate faint beige lasting finishes soft bourbon texture tasting burnt weak large fizzy cherry citrusy  molasses grain wine bite lingering leaves high straw toasted colored low piney lace smoke roast corn pumpkin tongue wood ruby fluffy tasty metallic grainy nuts cherries sticky foam  raisins abv draft tasted clove herbal note  brewery warming candy short cocoa  american maltiness sourness oily bubbles background cinnamon apricot cream retention licorice  bright bland pepper bubbly water coriander  hay flavours hoppiness apples fades bomber  sized mildly quality sharp mix profile  dried opaque pint hidden  syrupy grains ginger pilsner murky complexity hue backbone raisin milk acidic english skunky warm toasty hard flat green overpowering scent woody funky syrup far warms smoky delicious tartness raspberry lingers winter price lighter smokey rye fruitiness ales tones ipas hot dominated nutmeg cider peel mellow peach juice alcoholic peppery carmel cloves brownish spiciness dissipates resin mahogany blend fair cold worth dense hopped soapy sugary  citric cereal lemony berries pineapple intense brews diminishing tiny german cask tea wheaty grape draught pils toast nut vintage  bittersweet tangy booze  flowery flowers astringent pear coloured lime saison courtesy drinkability crystal ring half  grapes musty lasts smoked darker dough zest plum bananas chewy sweetish espresso ripe  barleywine oatmeal rocky cola strawberry herbs mocha earth pilsener bud esters wet harsh tropical plums age burn maple date biscuity roastiness watered slick pink oranges aged stouts tripel macro classic smelled bubblegum brett  liquor cloying flavorful boozy buttery pitch  silky bottles tulip bock stone sweeter flavored spicey sediment vinegar candied nuttiness butterscotch stale blonde combination  raspberries warmth spiced barrel berry  robust acidity med liquid bold  resinous base  tall dryness resiny ending content chocolatey  pa bar wish round true snifter dissipating edge impressive butter fading relatively cap completely jan finishing tobacco stronger massive apricots bittering edges translucent pie rounded  qualities anise rated poor layer skunk scotch depth tinge  powerful cool mid  vinous straight smokiness  soda dominant higher heat faded stand juicy blond oct coconut mar haze  sep ice hefe dominates prominent whiskey lite reminiscent carb linger port lived doughy dates scents champagne local malted liquorice sparkling dirty normal dull apr lagers nov pure orangish tight coast modest peaches heavily pears artificial couple ish throat gentle sugars ive metal noble bubble offwhite worst salty pub leather  spruce warmed yellowish  earthiness brewing mango rind pillowy ill aromatic lemons smelling dose dusty  variety goodness aging smallish fl en milky punch thinner sampler firm plain basic velvety caramelly wit satisfying available dipa jun khaki oaky effervescent glad belgium festival delicate growler elements offensive blueberry tint coppery generous tangerine bronze hell gum minor turns tang apa lasted choice dimensional medicinal fig balancing orangey cheese sense oats muddy filled dissipated west  chestnut drunk sessionable acid transparent chocolaty shaker peat fingers rum zesty beans  rest overtones gave cellar  soy pungent chalky addition brandy fest redish original soap rom beverage dominating laces trace face single oil piss ample touches coffe lambic stick hues candi cookie craft crazy "
     ]
    }
   ],
   "source": [
    "for word in feature_word_list:\n",
    "    print(word, end=\" \")"
   ]
  },
  {
   "cell_type": "code",
   "execution_count": 85,
   "metadata": {},
   "outputs": [
    {
     "name": "stdout",
     "output_type": "stream",
     "text": [
      "head\n",
      "aroma\n",
      "flavor\n",
      "taste\n",
      "sweet\n",
      "light\n",
      "malt\n",
      "hops\n",
      "bottle\n",
      "pours\n"
     ]
    }
   ],
   "source": [
    "# for word in feature_word_list[:10]:\n",
    "#     print(word.strip(\",\"))"
   ]
  },
  {
   "cell_type": "code",
   "execution_count": null,
   "metadata": {},
   "outputs": [],
   "source": []
  }
 ],
 "metadata": {
  "kernelspec": {
   "display_name": "Python 3",
   "language": "python",
   "name": "python3"
  },
  "language_info": {
   "codemirror_mode": {
    "name": "ipython",
    "version": 3
   },
   "file_extension": ".py",
   "mimetype": "text/x-python",
   "name": "python",
   "nbconvert_exporter": "python",
   "pygments_lexer": "ipython3",
   "version": "3.7.3"
  }
 },
 "nbformat": 4,
 "nbformat_minor": 2
}
