{
 "cells": [
  {
   "cell_type": "code",
   "execution_count": 1,
   "metadata": {},
   "outputs": [
    {
     "name": "stderr",
     "output_type": "stream",
     "text": [
      "Using backend: pytorch\n"
     ]
    }
   ],
   "source": [
    "import dgl\n",
    "from dgl.data.utils import save_graphs, load_graphs"
   ]
  },
  {
   "cell_type": "code",
   "execution_count": 2,
   "metadata": {},
   "outputs": [],
   "source": [
    "import pickle\n",
    "import numpy as np"
   ]
  },
  {
   "cell_type": "code",
   "execution_count": 131,
   "metadata": {},
   "outputs": [
    {
     "name": "stdout",
     "output_type": "stream",
     "text": [
      "user num 1664\n"
     ]
    }
   ],
   "source": [
    "\n",
    "graph_path = \"/p/reviewde/data/ratebeer/graph/medium_30/graph_batch/\"\n",
    "\n",
    "vocab_file = graph_path+\"vocab.pickle\"\n",
    "vocab = None\n",
    "with open(vocab_file, \"rb\") as f:\n",
    "    vocab = pickle.load(f)\n",
    "vocab_obj = vocab[\"vocab\"]\n",
    "print(\"user num\", len(vocab_obj.m_user2uid))"
   ]
  },
  {
   "cell_type": "code",
   "execution_count": null,
   "metadata": {},
   "outputs": [],
   "source": []
  },
  {
   "cell_type": "code",
   "execution_count": 136,
   "metadata": {},
   "outputs": [],
   "source": [
    "graph_path = \"/p/reviewde/data/ratebeer/graph/medium_30/graph_batch/train/\"\n",
    "\n",
    "i = 100\n",
    "\n",
    "g_file_i = graph_path+str(i)+\".bin\"\n",
    "\n",
    "g_i, gt_label_i = load_graphs(g_file_i)"
   ]
  },
  {
   "cell_type": "code",
   "execution_count": 137,
   "metadata": {},
   "outputs": [],
   "source": [
    "g_i = g_i[0]"
   ]
  },
  {
   "cell_type": "code",
   "execution_count": 138,
   "metadata": {},
   "outputs": [],
   "source": [
    "snode_id = g_i.filter_nodes(lambda nodes: nodes.data[\"dtype\"] == 1)"
   ]
  },
  {
   "cell_type": "code",
   "execution_count": 139,
   "metadata": {},
   "outputs": [
    {
     "data": {
      "text/plain": [
       "tensor([118, 119, 120, 121, 122, 123, 124, 125, 126, 127, 128, 129, 130, 131,\n",
       "        132, 133, 134, 135, 136, 137, 138, 139, 140, 141, 142, 143, 144, 145,\n",
       "        146, 147, 148, 149])"
      ]
     },
     "execution_count": 139,
     "metadata": {},
     "output_type": "execute_result"
    }
   ],
   "source": [
    "snode_id"
   ]
  },
  {
   "cell_type": "code",
   "execution_count": 140,
   "metadata": {},
   "outputs": [],
   "source": [
    "labels = g_i.ndata[\"label\"][snode_id]\n",
    "labels = labels.view(-1)"
   ]
  },
  {
   "cell_type": "code",
   "execution_count": 141,
   "metadata": {},
   "outputs": [],
   "source": [
    "raw_sent_id = g_i.ndata[\"raw_id\"][snode_id]"
   ]
  },
  {
   "cell_type": "code",
   "execution_count": 142,
   "metadata": {},
   "outputs": [
    {
     "name": "stdout",
     "output_type": "stream",
     "text": [
      "----------\n",
      "tensor(130)\n",
      "tensor(102881)\n",
      "good hoppy aroma nice dark reddish pour .\n",
      "tensor(1)\n",
      "----------\n",
      "tensor(137)\n",
      "tensor(102882)\n",
      "good hops taste a bit bitter but very tasty i like this one and woudl buy again\n",
      "tensor(1)\n"
     ]
    }
   ],
   "source": [
    "label_num = len(labels)\n",
    "\n",
    "for i in range(label_num):\n",
    "    s_i = snode_id[i]\n",
    "    raw_s_i = raw_sent_id[i]\n",
    "    label_i = labels[i]\n",
    "    if label_i.item() == 1:\n",
    "        print(\"--\"*5)\n",
    "        s_content_i = vocab_obj.m_sid2swords[raw_s_i.item()]\n",
    "        print(s_i)\n",
    "        print(raw_s_i)\n",
    "        print(s_content_i)\n",
    "        print(label_i)"
   ]
  },
  {
   "cell_type": "code",
   "execution_count": 143,
   "metadata": {},
   "outputs": [
    {
     "data": {
      "text/plain": [
       "tensor([0, 0, 0, 0, 0, 0, 0, 0, 0, 0, 0, 0, 1, 0, 0, 0, 0, 0, 0, 1, 0, 0, 0, 0,\n",
       "        0, 0, 0, 0, 0, 0, 0, 0])"
      ]
     },
     "execution_count": 143,
     "metadata": {},
     "output_type": "execute_result"
    }
   ],
   "source": [
    "labels"
   ]
  },
  {
   "cell_type": "code",
   "execution_count": null,
   "metadata": {},
   "outputs": [],
   "source": []
  },
  {
   "cell_type": "code",
   "execution_count": 144,
   "metadata": {},
   "outputs": [
    {
     "data": {
      "text/plain": [
       "torch.Size([32])"
      ]
     },
     "execution_count": 144,
     "metadata": {},
     "output_type": "execute_result"
    }
   ],
   "source": [
    "labels.size()"
   ]
  },
  {
   "cell_type": "code",
   "execution_count": 145,
   "metadata": {},
   "outputs": [
    {
     "name": "stdout",
     "output_type": "stream",
     "text": [
      "tensor(1)\n",
      "tensor(1)\n"
     ]
    }
   ],
   "source": [
    "for i in labels:\n",
    "    if i.item() == 1:\n",
    "        print(i)"
   ]
  },
  {
   "cell_type": "code",
   "execution_count": 146,
   "metadata": {},
   "outputs": [],
   "source": [
    "raw_sent_id = g_i.ndata[\"raw_id\"][snode_id]"
   ]
  },
  {
   "cell_type": "code",
   "execution_count": 147,
   "metadata": {},
   "outputs": [
    {
     "data": {
      "text/plain": [
       "tensor([463441, 102766,  29608,  32219, 102748, 117868, 429146,  38190, 431311,\n",
       "        463663, 102929, 408434, 102881, 407937, 102639,  25309, 333113, 116233,\n",
       "        481006, 102882, 131342, 180362,  85643, 481005, 104355, 298031, 308598,\n",
       "        102893, 274285, 102702, 480291, 290330])"
      ]
     },
     "execution_count": 147,
     "metadata": {},
     "output_type": "execute_result"
    }
   ],
   "source": [
    "raw_sent_id"
   ]
  },
  {
   "cell_type": "code",
   "execution_count": 148,
   "metadata": {},
   "outputs": [
    {
     "name": "stdout",
     "output_type": "stream",
     "text": [
      "mouthfeel is medium with some prickly feeling and a nice , crisp finish .\n",
      "an unremarkable beer at best .\n",
      "a sticky brew and i loved it .\n",
      "i love me a good ol fashioned hop whompin and furious delivers .\n",
      "i would nt buy again but do nt mind that i have 5 more to drink\n",
      "i was surprised that this was an ipa and not a double .\n",
      "kind of like the abrasive that i had earlier in the day , it was a good mixture of dark ( chocolate , caramel , malty ) and citrus ( pine , grapefruit ) .\n",
      "pours murky brown with foamy beige head .\n",
      "flavor is grapefruit hops with a nice malty finish to balance the beer .\n",
      "the taste is bitter but with a little sweetness that is also there .\n",
      "the best part of this beer is the blonde on the bottle .\n",
      "looks like a long - aged bourbon in the glass .\n",
      "good hoppy aroma nice dark reddish pour .\n",
      "my my my ... a top 5 beer i say myself .\n",
      "a good balance of hops and malt .\n",
      "the citrus - juiced hops follow through into the flavor , yet there s a danish - like malt center that give startling balance to this 100 ibu behemoth .\n",
      "aroma is sweet with citrus notes and pine .\n",
      "wow i popped open the can ( thanks muenchenerkindl ) and the floral aroma just filled the room poured into my pint glass a nice cloudy orange brown with a full two fingers worth of head the flavors in this one really surprised me it was nicely balance for an ipa the sweetness of the malts start off then the hops , pine , citrus , kicks in wonderful mouth feel creamy start , nice and crisp finish .\n",
      "the taste matches the nose ... hoppy but not hot ... the malts mellow things out and make for a very mellow , hoppy ipa ... wish i had more ...\n",
      "good hops taste a bit bitter but very tasty i like this one and woudl buy again\n",
      "nice and thick ipa , good mouthfeel .\n",
      "more malty than most , but very tasty\n",
      "super nice beer ...\n",
      "pop the top and you smell the hoppiness right away ... not a sharp , astringent nose ... just sweet hops without the sting !\n",
      "citrus , pine , and floral hops aroma .\n",
      "pours a amber color with a nice white head to it .\n",
      "poured a gorgeous deep amber / copper color with some chill haze and nice white foam , lasting with some lace .\n",
      "nice orangish citrus aroma .\n",
      "drinkability : the well balanced palate combined with the thin mouthfeel make surly furious extremely drinkable .\n",
      "i am drinking it with grilled cheese and it is a phenomenal combination .\n",
      "great aroma of citrus , some pine , just a hint of sweet caramel .\n",
      "i can tell that there are some caramel malt notes in there , but just when they come forward , the hops leapfrog right over them and attack your pallette .\n"
     ]
    }
   ],
   "source": [
    "for sid_k in raw_sent_id:\n",
    "    \n",
    "    \n",
    "    print(vocab_obj.m_sid2swords[sid_k.item()])"
   ]
  },
  {
   "cell_type": "code",
   "execution_count": 149,
   "metadata": {},
   "outputs": [],
   "source": [
    "unode_id_j = g_i.filter_nodes(lambda nodes: nodes.data[\"dtype\"]==2)\n",
    "uid_j = g_i.nodes[unode_id_j].data[\"raw_id\"]\n",
    "\n",
    "inode_id_j = g_i.filter_nodes(lambda nodes: nodes.data[\"dtype\"]==3)\n",
    "iid_j = g_i.nodes[inode_id_j].data[\"raw_id\"]"
   ]
  },
  {
   "cell_type": "code",
   "execution_count": 150,
   "metadata": {},
   "outputs": [
    {
     "name": "stdout",
     "output_type": "stream",
     "text": [
      "==============================\n",
      "user id 0\n",
      "item id 700\n"
     ]
    }
   ],
   "source": [
    "print(\"===\"*10)\n",
    "print(\"user id\", uid_j.item())\n",
    "print(\"item id\", iid_j.item())"
   ]
  },
  {
   "cell_type": "code",
   "execution_count": 151,
   "metadata": {},
   "outputs": [],
   "source": [
    "user2uid = vocab_obj.m_user2uid\n",
    "item2iid = vocab_obj.m_item2iid\n"
   ]
  },
  {
   "cell_type": "code",
   "execution_count": 152,
   "metadata": {},
   "outputs": [],
   "source": [
    "uid2user = {}\n",
    "iid2item = {}\n",
    "\n",
    "for user in user2uid:\n",
    "    uid2user[user2uid[user]] = user\n",
    "\n",
    "for item in item2iid:\n",
    "    iid2item[item2iid[item]] = item\n"
   ]
  },
  {
   "cell_type": "code",
   "execution_count": 153,
   "metadata": {},
   "outputs": [
    {
     "data": {
      "text/plain": [
       "('1000', '227')"
      ]
     },
     "execution_count": 153,
     "metadata": {},
     "output_type": "execute_result"
    }
   ],
   "source": [
    "uid2user[uid_j.item()], iid2item[iid_j.item()]"
   ]
  },
  {
   "cell_type": "code",
   "execution_count": 154,
   "metadata": {},
   "outputs": [],
   "source": [
    "label_sid_list_j = gt_label_i[\"gt_label\"]\n",
    "refs_j = []\n",
    "for sid_k in label_sid_list_j:\n",
    "    refs_j.append(vocab_obj.m_sid2swords[sid_k.item()])"
   ]
  },
  {
   "cell_type": "code",
   "execution_count": 155,
   "metadata": {},
   "outputs": [
    {
     "name": "stdout",
     "output_type": "stream",
     "text": [
      "refs_j good hops taste a bit bitter but very tasty i like this one and woudl buy again good hoppy aroma nice dark reddish pour .\n"
     ]
    }
   ],
   "source": [
    "# hyps_j = \" \".join(hyps_j)\n",
    "refs_j = \" \".join(refs_j)\n",
    "\n",
    "# print(\"hyps_j\", hyps_j)\n",
    "print(\"refs_j\", refs_j)"
   ]
  },
  {
   "cell_type": "code",
   "execution_count": null,
   "metadata": {},
   "outputs": [],
   "source": []
  },
  {
   "cell_type": "code",
   "execution_count": 158,
   "metadata": {},
   "outputs": [],
   "source": [
    "def sigmoid(x):\n",
    "    return 1.0/(1.0+np.exp(-x))"
   ]
  },
  {
   "cell_type": "code",
   "execution_count": 161,
   "metadata": {},
   "outputs": [
    {
     "name": "stdout",
     "output_type": "stream",
     "text": [
      "0.5820756532067559\n"
     ]
    }
   ],
   "source": [
    "x = 0.3313\n",
    "print(sigmoid(x))"
   ]
  },
  {
   "cell_type": "code",
   "execution_count": null,
   "metadata": {},
   "outputs": [],
   "source": []
  },
  {
   "cell_type": "code",
   "execution_count": 31,
   "metadata": {},
   "outputs": [],
   "source": [
    "graph_path = \"/p/reviewde/data/ratebeer/graph/small_500_v2/graph_batch/valid/\"\n",
    "\n",
    "i = 10\n",
    "\n",
    "g_file_i = graph_path+str(i)+\".bin\"\n",
    "\n",
    "g_i, label_i = load_graphs(g_file_i)\n",
    "\n",
    "g_i = g_i[0]"
   ]
  },
  {
   "cell_type": "code",
   "execution_count": 32,
   "metadata": {},
   "outputs": [],
   "source": [
    "snode_id = g_i.filter_nodes(lambda nodes: nodes.data[\"dtype\"] == 1)\n",
    "labels = g_i.ndata[\"label\"][snode_id]\n",
    "labels = labels.view(-1)"
   ]
  },
  {
   "cell_type": "code",
   "execution_count": 33,
   "metadata": {},
   "outputs": [],
   "source": [
    "for i in labels:\n",
    "    if i.item() == 1:\n",
    "        print(i)"
   ]
  },
  {
   "cell_type": "code",
   "execution_count": 34,
   "metadata": {},
   "outputs": [
    {
     "name": "stdout",
     "output_type": "stream",
     "text": [
      "torch.Size([291])\n"
     ]
    }
   ],
   "source": [
    "print(labels.size())"
   ]
  },
  {
   "cell_type": "code",
   "execution_count": 35,
   "metadata": {},
   "outputs": [
    {
     "data": {
      "text/plain": [
       "tensor([0, 0, 0, 0, 0, 0, 0, 0, 0, 0, 0, 0, 0, 0, 0, 0, 0, 0, 0, 0, 0, 0, 0, 0,\n",
       "        0, 0, 0, 0, 0, 0, 0, 0, 0, 0, 0, 0, 0, 0, 0, 0, 0, 0, 0, 0, 0, 0, 0, 0,\n",
       "        0, 0, 0, 0, 0, 0, 0, 0, 0, 0, 0, 0, 0, 0, 0, 0, 0, 0, 0, 0, 0, 0, 0, 0,\n",
       "        0, 0, 0, 0, 0, 0, 0, 0, 0, 0, 0, 0, 0, 0, 0, 0, 0, 0, 0, 0, 0, 0, 0, 0,\n",
       "        0, 0, 0, 0, 0, 0, 0, 0, 0, 0, 0, 0, 0, 0, 0, 0, 0, 0, 0, 0, 0, 0, 0, 0,\n",
       "        0, 0, 0, 0, 0, 0, 0, 0, 0, 0, 0, 0, 0, 0, 0, 0, 0, 0, 0, 0, 0, 0, 0, 0,\n",
       "        0, 0, 0, 0, 0, 0, 0, 0, 0, 0, 0, 0, 0, 0, 0, 0, 0, 0, 0, 0, 0, 0, 0, 0,\n",
       "        0, 0, 0, 0, 0, 0, 0, 0, 0, 0, 0, 0, 0, 0, 0, 0, 0, 0, 0, 0, 0, 0, 0, 0,\n",
       "        0, 0, 0, 0, 0, 0, 0, 0, 0, 0, 0, 0, 0, 0, 0, 0, 0, 0, 0, 0, 0, 0, 0, 0,\n",
       "        0, 0, 0, 0, 0, 0, 0, 0, 0, 0, 0, 0, 0, 0, 0, 0, 0, 0, 0, 0, 0, 0, 0, 0,\n",
       "        0, 0, 0, 0, 0, 0, 0, 0, 0, 0, 0, 0, 0, 0, 0, 0, 0, 0, 0, 0, 0, 0, 0, 0,\n",
       "        0, 0, 0, 0, 0, 0, 0, 0, 0, 0, 0, 0, 0, 0, 0, 0, 0, 0, 0, 0, 0, 0, 0, 0,\n",
       "        0, 0, 0])"
      ]
     },
     "execution_count": 35,
     "metadata": {},
     "output_type": "execute_result"
    }
   ],
   "source": [
    "labels"
   ]
  },
  {
   "cell_type": "markdown",
   "metadata": {},
   "source": [
    "### check item clustering"
   ]
  },
  {
   "cell_type": "code",
   "execution_count": 19,
   "metadata": {},
   "outputs": [],
   "source": [
    "data_dir = \"/p/reviewde/data/ratebeer/graph/small_30/\"\n",
    "item_feature_file = data_dir+\"train/item/item2feature.json\""
   ]
  },
  {
   "cell_type": "code",
   "execution_count": 24,
   "metadata": {},
   "outputs": [],
   "source": [
    "def readJson(fname):\n",
    "    data = []\n",
    "    line_num = 0\n",
    "    with open(fname, encoding=\"utf-8\") as f:\n",
    "        for line in f:\n",
    "#             print(\"line\", line)\n",
    "            try:\n",
    "                data.append(json.loads(line))\n",
    "            except:\n",
    "                print(\"error\", line_num)\n",
    "    return data"
   ]
  },
  {
   "cell_type": "code",
   "execution_count": 25,
   "metadata": {},
   "outputs": [
    {
     "name": "stdout",
     "output_type": "stream",
     "text": [
      "1\n",
      "error 1\n"
     ]
    },
    {
     "ename": "IndexError",
     "evalue": "list index out of range",
     "output_type": "error",
     "traceback": [
      "\u001b[0;31m---------------------------------------------------------------------------\u001b[0m",
      "\u001b[0;31mIndexError\u001b[0m                                Traceback (most recent call last)",
      "\u001b[0;32m<ipython-input-25-3a7142145726>\u001b[0m in \u001b[0;36m<module>\u001b[0;34m\u001b[0m\n\u001b[1;32m      1\u001b[0m \u001b[0miid2fid2tfidf_dict\u001b[0m \u001b[0;34m=\u001b[0m \u001b[0;34m{\u001b[0m\u001b[0;34m}\u001b[0m\u001b[0;34m\u001b[0m\u001b[0;34m\u001b[0m\u001b[0m\n\u001b[1;32m      2\u001b[0m \u001b[0;34m\u001b[0m\u001b[0m\n\u001b[0;32m----> 3\u001b[0;31m \u001b[0mitemid2fid2tfidf\u001b[0m \u001b[0;34m=\u001b[0m \u001b[0mreadJson\u001b[0m\u001b[0;34m(\u001b[0m\u001b[0mitem_feature_file\u001b[0m\u001b[0;34m)\u001b[0m\u001b[0;34m[\u001b[0m\u001b[0;36m0\u001b[0m\u001b[0;34m]\u001b[0m\u001b[0;34m\u001b[0m\u001b[0;34m\u001b[0m\u001b[0m\n\u001b[0m\u001b[1;32m      4\u001b[0m \u001b[0mitem_num\u001b[0m \u001b[0;34m=\u001b[0m \u001b[0mlen\u001b[0m\u001b[0;34m(\u001b[0m\u001b[0mitemid2fid2tfidf\u001b[0m\u001b[0;34m)\u001b[0m\u001b[0;34m\u001b[0m\u001b[0;34m\u001b[0m\u001b[0m\n\u001b[1;32m      5\u001b[0m \u001b[0mprint\u001b[0m\u001b[0;34m(\u001b[0m\u001b[0;34m\"item_num\"\u001b[0m\u001b[0;34m,\u001b[0m \u001b[0mitem_num\u001b[0m\u001b[0;34m)\u001b[0m\u001b[0;34m\u001b[0m\u001b[0;34m\u001b[0m\u001b[0m\n",
      "\u001b[0;31mIndexError\u001b[0m: list index out of range"
     ]
    }
   ],
   "source": [
    "iid2fid2tfidf_dict = {}\n",
    "\n",
    "itemid2fid2tfidf = readJson(item_feature_file)[0]\n",
    "item_num = len(itemid2fid2tfidf)\n",
    "print(\"item_num\", item_num)\n",
    "   "
   ]
  },
  {
   "cell_type": "code",
   "execution_count": null,
   "metadata": {},
   "outputs": [],
   "source": []
  }
 ],
 "metadata": {
  "kernelspec": {
   "display_name": "Python 3",
   "language": "python",
   "name": "python3"
  },
  "language_info": {
   "codemirror_mode": {
    "name": "ipython",
    "version": 3
   },
   "file_extension": ".py",
   "mimetype": "text/x-python",
   "name": "python",
   "nbconvert_exporter": "python",
   "pygments_lexer": "ipython3",
   "version": "3.7.3"
  }
 },
 "nbformat": 4,
 "nbformat_minor": 2
}
