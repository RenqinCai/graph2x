{
    "cells": [
        {
            "cell_type": "code",
            "execution_count": 1,
            "source": [
                "import pickle\n",
                "import pandas as pd\n",
                "\n",
                "testset_file = \"/p/reviewde/data/yelp_aobo_small/test.pickle\"\n",
                "df_testset = pd.read_pickle(testset_file)"
            ],
            "outputs": [],
            "metadata": {}
        },
        {
            "cell_type": "code",
            "execution_count": 52,
            "source": [
                "# Load train/valid/test\n",
                "trainset_file = \"/p/reviewde/data/yelp_aobo_small/train.pickle\"\n",
                "validset_file = \"/p/reviewde/data/yelp_aobo_small/valid.pickle\"\n",
                "testset_file = \"/p/reviewde/data/yelp_aobo_small/test.pickle\"\n",
                "df_trainset = pd.read_pickle(trainset_file)\n",
                "df_validset = pd.read_pickle(validset_file)\n",
                "df_testset = pd.read_pickle(testset_file)"
            ],
            "outputs": [],
            "metadata": {}
        },
        {
            "cell_type": "code",
            "execution_count": 53,
            "source": [
                "df_trainset"
            ],
            "outputs": [
                {
                    "output_type": "execute_result",
                    "data": {
                        "text/plain": [
                            "        userid  itemid                                             review  \\\n",
                            "0            0       0  the staff is extremely nice and helpful and th...   \n",
                            "1            0       1  this restaurant has great views of the strip a...   \n",
                            "2            0       2  they have an extensive cocktail , beer and win...   \n",
                            "3            0       3  the atmosphere was nice , but nothing special ...   \n",
                            "4            0       4  the service was fantastic - our server had a g...   \n",
                            "...        ...     ...                                                ...   \n",
                            "740712   17062    2005  the buffet has a large variety of sushi , meat...   \n",
                            "740713   17062    5591  indoor tables are open to all guests , just gr...   \n",
                            "740714   17062    1523  i got to say the steak is just as good as i im...   \n",
                            "740716   17062     251  the waffles with banana were great , it was li...   \n",
                            "740717   17062    1552  the crepes here are also delicious , but they ...   \n",
                            "\n",
                            "                                               token_idxs  \n",
                            "0       [4, 56, 9, 329, 50, 6, 272, 6, 63, 18, 262, 27...  \n",
                            "1       [37, 60, 110, 25, 2015, 16, 4, 401, 6, 4, 1987...  \n",
                            "2       [39, 43, 99, 833, 753, 7, 184, 6, 411, 694, 6,...  \n",
                            "3       [4, 98, 8, 50, 7, 17, 202, 237, 248, 4, 20, 8,...  \n",
                            "4       [4, 20, 8, 224, 29, 54, 118, 47, 10, 25, 2906,...  \n",
                            "...                                                   ...  \n",
                            "740712  [4, 353, 110, 10, 181, 373, 16, 157, 7, 602, 7...  \n",
                            "740713  [1609, 244, 18, 382, 12, 51, 1436, 7, 53, 1100...  \n",
                            "740714  [11, 189, 12, 229, 4, 225, 9, 53, 38, 14, 38, ...  \n",
                            "740716  [4, 801, 26, 1007, 19, 25, 7, 13, 8, 381, 6, 1...  \n",
                            "740717  [4, 1156, 58, 18, 70, 57, 7, 17, 39, 18, 10, 8...  \n",
                            "\n",
                            "[677027 rows x 4 columns]"
                        ],
                        "text/html": [
                            "<div>\n",
                            "<style scoped>\n",
                            "    .dataframe tbody tr th:only-of-type {\n",
                            "        vertical-align: middle;\n",
                            "    }\n",
                            "\n",
                            "    .dataframe tbody tr th {\n",
                            "        vertical-align: top;\n",
                            "    }\n",
                            "\n",
                            "    .dataframe thead th {\n",
                            "        text-align: right;\n",
                            "    }\n",
                            "</style>\n",
                            "<table border=\"1\" class=\"dataframe\">\n",
                            "  <thead>\n",
                            "    <tr style=\"text-align: right;\">\n",
                            "      <th></th>\n",
                            "      <th>userid</th>\n",
                            "      <th>itemid</th>\n",
                            "      <th>review</th>\n",
                            "      <th>token_idxs</th>\n",
                            "    </tr>\n",
                            "  </thead>\n",
                            "  <tbody>\n",
                            "    <tr>\n",
                            "      <th>0</th>\n",
                            "      <td>0</td>\n",
                            "      <td>0</td>\n",
                            "      <td>the staff is extremely nice and helpful and th...</td>\n",
                            "      <td>[4, 56, 9, 329, 50, 6, 272, 6, 63, 18, 262, 27...</td>\n",
                            "    </tr>\n",
                            "    <tr>\n",
                            "      <th>1</th>\n",
                            "      <td>0</td>\n",
                            "      <td>1</td>\n",
                            "      <td>this restaurant has great views of the strip a...</td>\n",
                            "      <td>[37, 60, 110, 25, 2015, 16, 4, 401, 6, 4, 1987...</td>\n",
                            "    </tr>\n",
                            "    <tr>\n",
                            "      <th>2</th>\n",
                            "      <td>0</td>\n",
                            "      <td>2</td>\n",
                            "      <td>they have an extensive cocktail , beer and win...</td>\n",
                            "      <td>[39, 43, 99, 833, 753, 7, 184, 6, 411, 694, 6,...</td>\n",
                            "    </tr>\n",
                            "    <tr>\n",
                            "      <th>3</th>\n",
                            "      <td>0</td>\n",
                            "      <td>3</td>\n",
                            "      <td>the atmosphere was nice , but nothing special ...</td>\n",
                            "      <td>[4, 98, 8, 50, 7, 17, 202, 237, 248, 4, 20, 8,...</td>\n",
                            "    </tr>\n",
                            "    <tr>\n",
                            "      <th>4</th>\n",
                            "      <td>0</td>\n",
                            "      <td>4</td>\n",
                            "      <td>the service was fantastic - our server had a g...</td>\n",
                            "      <td>[4, 20, 8, 224, 29, 54, 118, 47, 10, 25, 2906,...</td>\n",
                            "    </tr>\n",
                            "    <tr>\n",
                            "      <th>...</th>\n",
                            "      <td>...</td>\n",
                            "      <td>...</td>\n",
                            "      <td>...</td>\n",
                            "      <td>...</td>\n",
                            "    </tr>\n",
                            "    <tr>\n",
                            "      <th>740712</th>\n",
                            "      <td>17062</td>\n",
                            "      <td>2005</td>\n",
                            "      <td>the buffet has a large variety of sushi , meat...</td>\n",
                            "      <td>[4, 353, 110, 10, 181, 373, 16, 157, 7, 602, 7...</td>\n",
                            "    </tr>\n",
                            "    <tr>\n",
                            "      <th>740713</th>\n",
                            "      <td>17062</td>\n",
                            "      <td>5591</td>\n",
                            "      <td>indoor tables are open to all guests , just gr...</td>\n",
                            "      <td>[1609, 244, 18, 382, 12, 51, 1436, 7, 53, 1100...</td>\n",
                            "    </tr>\n",
                            "    <tr>\n",
                            "      <th>740714</th>\n",
                            "      <td>17062</td>\n",
                            "      <td>1523</td>\n",
                            "      <td>i got to say the steak is just as good as i im...</td>\n",
                            "      <td>[11, 189, 12, 229, 4, 225, 9, 53, 38, 14, 38, ...</td>\n",
                            "    </tr>\n",
                            "    <tr>\n",
                            "      <th>740716</th>\n",
                            "      <td>17062</td>\n",
                            "      <td>251</td>\n",
                            "      <td>the waffles with banana were great , it was li...</td>\n",
                            "      <td>[4, 801, 26, 1007, 19, 25, 7, 13, 8, 381, 6, 1...</td>\n",
                            "    </tr>\n",
                            "    <tr>\n",
                            "      <th>740717</th>\n",
                            "      <td>17062</td>\n",
                            "      <td>1552</td>\n",
                            "      <td>the crepes here are also delicious , but they ...</td>\n",
                            "      <td>[4, 1156, 58, 18, 70, 57, 7, 17, 39, 18, 10, 8...</td>\n",
                            "    </tr>\n",
                            "  </tbody>\n",
                            "</table>\n",
                            "<p>677027 rows × 4 columns</p>\n",
                            "</div>"
                        ]
                    },
                    "metadata": {},
                    "execution_count": 53
                }
            ],
            "metadata": {}
        },
        {
            "cell_type": "code",
            "execution_count": 54,
            "source": [
                "list(df_trainset['review'])[0]"
            ],
            "outputs": [
                {
                    "output_type": "execute_result",
                    "data": {
                        "text/plain": [
                            "'the staff is extremely nice and helpful and there are many options to choose from here .'"
                        ]
                    },
                    "metadata": {},
                    "execution_count": 54
                }
            ],
            "metadata": {}
        },
        {
            "cell_type": "code",
            "execution_count": 55,
            "source": [
                "len(df_trainset.index)"
            ],
            "outputs": [
                {
                    "output_type": "execute_result",
                    "data": {
                        "text/plain": [
                            "677027"
                        ]
                    },
                    "metadata": {},
                    "execution_count": 55
                }
            ],
            "metadata": {}
        },
        {
            "cell_type": "code",
            "execution_count": 64,
            "source": [
                "num_tokens_list = []\n",
                "for rvw in list(df_trainset['review']):\n",
                "    num_tokens_list.append(len(rvw.split(' ')))"
            ],
            "outputs": [],
            "metadata": {}
        },
        {
            "cell_type": "code",
            "execution_count": 65,
            "source": [
                "len(num_tokens_list)"
            ],
            "outputs": [
                {
                    "output_type": "execute_result",
                    "data": {
                        "text/plain": [
                            "677027"
                        ]
                    },
                    "metadata": {},
                    "execution_count": 65
                }
            ],
            "metadata": {}
        },
        {
            "cell_type": "code",
            "execution_count": 66,
            "source": [
                "import numpy as np\n",
                "np.mean(num_tokens_list)"
            ],
            "outputs": [
                {
                    "output_type": "execute_result",
                    "data": {
                        "text/plain": [
                            "35.739765179232144"
                        ]
                    },
                    "metadata": {},
                    "execution_count": 66
                }
            ],
            "metadata": {}
        },
        {
            "cell_type": "code",
            "execution_count": 56,
            "source": [
                "df_validset"
            ],
            "outputs": [
                {
                    "output_type": "execute_result",
                    "data": {
                        "text/plain": [
                            "       userid  itemid                                             review  \\\n",
                            "0           0    2659  great service , great location in the biltmore...   \n",
                            "1           1    5798  not a bad turkey wrap and plenty of tv sets fo...   \n",
                            "2           2     222  they serve intelligentsia , the table bread is...   \n",
                            "3           3    8109               the free wifi is a big plus for me .   \n",
                            "4           4    3154  service was very friendly and attentive . the ...   \n",
                            "...       ...     ...                                                ...   \n",
                            "17056   17056     697  this place is a high quality french style bake...   \n",
                            "17057   17057    2832  this is the biggest f 21 i 've ever been too a...   \n",
                            "17058   17058    2236  my favorite dish is their mi xa xiu kho . the ...   \n",
                            "17060   17060     148  super groovy bar - stop for a drink , conversa...   \n",
                            "17061   17061    3809  the oysters were fresh , but i 've had better ...   \n",
                            "\n",
                            "                                              token_idxs  \n",
                            "0      [25, 20, 7, 25, 100, 24, 4, 4433, 7, 50, 165, ...  \n",
                            "1      [30, 10, 155, 1062, 1006, 6, 524, 16, 1507, 32...  \n",
                            "2      [39, 606, 14953, 7, 4, 173, 154, 9, 1144, 6, 1...  \n",
                            "3             [4, 297, 1282, 9, 10, 166, 464, 23, 87, 5]  \n",
                            "4      [20, 8, 27, 46, 6, 156, 5, 4, 105, 8, 10, 71, ...  \n",
                            "...                                                  ...  \n",
                            "17056  [37, 64, 9, 10, 252, 169, 394, 355, 907, 124, ...  \n",
                            "17057  [37, 9, 4, 1316, 2877, 3370, 11, 22, 102, 206,...  \n",
                            "17058  [32, 151, 162, 9, 40, 2025, 1, 1, 19574, 5, 4,...  \n",
                            "17060  [123, 8738, 93, 29, 916, 23, 10, 196, 7, 1497,...  \n",
                            "17061  [4, 848, 19, 68, 7, 17, 11, 22, 102, 47, 120, ...  \n",
                            "\n",
                            "[15794 rows x 4 columns]"
                        ],
                        "text/html": [
                            "<div>\n",
                            "<style scoped>\n",
                            "    .dataframe tbody tr th:only-of-type {\n",
                            "        vertical-align: middle;\n",
                            "    }\n",
                            "\n",
                            "    .dataframe tbody tr th {\n",
                            "        vertical-align: top;\n",
                            "    }\n",
                            "\n",
                            "    .dataframe thead th {\n",
                            "        text-align: right;\n",
                            "    }\n",
                            "</style>\n",
                            "<table border=\"1\" class=\"dataframe\">\n",
                            "  <thead>\n",
                            "    <tr style=\"text-align: right;\">\n",
                            "      <th></th>\n",
                            "      <th>userid</th>\n",
                            "      <th>itemid</th>\n",
                            "      <th>review</th>\n",
                            "      <th>token_idxs</th>\n",
                            "    </tr>\n",
                            "  </thead>\n",
                            "  <tbody>\n",
                            "    <tr>\n",
                            "      <th>0</th>\n",
                            "      <td>0</td>\n",
                            "      <td>2659</td>\n",
                            "      <td>great service , great location in the biltmore...</td>\n",
                            "      <td>[25, 20, 7, 25, 100, 24, 4, 4433, 7, 50, 165, ...</td>\n",
                            "    </tr>\n",
                            "    <tr>\n",
                            "      <th>1</th>\n",
                            "      <td>1</td>\n",
                            "      <td>5798</td>\n",
                            "      <td>not a bad turkey wrap and plenty of tv sets fo...</td>\n",
                            "      <td>[30, 10, 155, 1062, 1006, 6, 524, 16, 1507, 32...</td>\n",
                            "    </tr>\n",
                            "    <tr>\n",
                            "      <th>2</th>\n",
                            "      <td>2</td>\n",
                            "      <td>222</td>\n",
                            "      <td>they serve intelligentsia , the table bread is...</td>\n",
                            "      <td>[39, 606, 14953, 7, 4, 173, 154, 9, 1144, 6, 1...</td>\n",
                            "    </tr>\n",
                            "    <tr>\n",
                            "      <th>3</th>\n",
                            "      <td>3</td>\n",
                            "      <td>8109</td>\n",
                            "      <td>the free wifi is a big plus for me .</td>\n",
                            "      <td>[4, 297, 1282, 9, 10, 166, 464, 23, 87, 5]</td>\n",
                            "    </tr>\n",
                            "    <tr>\n",
                            "      <th>4</th>\n",
                            "      <td>4</td>\n",
                            "      <td>3154</td>\n",
                            "      <td>service was very friendly and attentive . the ...</td>\n",
                            "      <td>[20, 8, 27, 46, 6, 156, 5, 4, 105, 8, 10, 71, ...</td>\n",
                            "    </tr>\n",
                            "    <tr>\n",
                            "      <th>...</th>\n",
                            "      <td>...</td>\n",
                            "      <td>...</td>\n",
                            "      <td>...</td>\n",
                            "      <td>...</td>\n",
                            "    </tr>\n",
                            "    <tr>\n",
                            "      <th>17056</th>\n",
                            "      <td>17056</td>\n",
                            "      <td>697</td>\n",
                            "      <td>this place is a high quality french style bake...</td>\n",
                            "      <td>[37, 64, 9, 10, 252, 169, 394, 355, 907, 124, ...</td>\n",
                            "    </tr>\n",
                            "    <tr>\n",
                            "      <th>17057</th>\n",
                            "      <td>17057</td>\n",
                            "      <td>2832</td>\n",
                            "      <td>this is the biggest f 21 i 've ever been too a...</td>\n",
                            "      <td>[37, 9, 4, 1316, 2877, 3370, 11, 22, 102, 206,...</td>\n",
                            "    </tr>\n",
                            "    <tr>\n",
                            "      <th>17058</th>\n",
                            "      <td>17058</td>\n",
                            "      <td>2236</td>\n",
                            "      <td>my favorite dish is their mi xa xiu kho . the ...</td>\n",
                            "      <td>[32, 151, 162, 9, 40, 2025, 1, 1, 19574, 5, 4,...</td>\n",
                            "    </tr>\n",
                            "    <tr>\n",
                            "      <th>17060</th>\n",
                            "      <td>17060</td>\n",
                            "      <td>148</td>\n",
                            "      <td>super groovy bar - stop for a drink , conversa...</td>\n",
                            "      <td>[123, 8738, 93, 29, 916, 23, 10, 196, 7, 1497,...</td>\n",
                            "    </tr>\n",
                            "    <tr>\n",
                            "      <th>17061</th>\n",
                            "      <td>17061</td>\n",
                            "      <td>3809</td>\n",
                            "      <td>the oysters were fresh , but i 've had better ...</td>\n",
                            "      <td>[4, 848, 19, 68, 7, 17, 11, 22, 102, 47, 120, ...</td>\n",
                            "    </tr>\n",
                            "  </tbody>\n",
                            "</table>\n",
                            "<p>15794 rows × 4 columns</p>\n",
                            "</div>"
                        ]
                    },
                    "metadata": {},
                    "execution_count": 56
                }
            ],
            "metadata": {}
        },
        {
            "cell_type": "code",
            "execution_count": 57,
            "source": [
                "list(df_validset['review'])[0]"
            ],
            "outputs": [
                {
                    "output_type": "execute_result",
                    "data": {
                        "text/plain": [
                            "'great service , great location in the biltmore , nice decor and yummy food !'"
                        ]
                    },
                    "metadata": {},
                    "execution_count": 57
                }
            ],
            "metadata": {}
        },
        {
            "cell_type": "code",
            "execution_count": 58,
            "source": [
                "df_testset"
            ],
            "outputs": [
                {
                    "output_type": "execute_result",
                    "data": {
                        "text/plain": [
                            "       userid  itemid                                             review  \\\n",
                            "0           0   10711  extremely friendly staff , very comfortable de...   \n",
                            "3           3    9574  the sandwich is ok , not great . tip - the sho...   \n",
                            "4           4    4562  three fabulous locations in vegas ! my favorit...   \n",
                            "5           5    5203  it was very awesome seats . friendly staff to ...   \n",
                            "7           7       8  the name \" snooze , \" may conjure up the image...   \n",
                            "...       ...     ...                                                ...   \n",
                            "17058   17058    2325  ( also called banh mi xiu mai ) sometimes thei...   \n",
                            "17059   17059   10219  between the yummy sounding food menu ( omg all...   \n",
                            "17060   17060    1410  the shrimp scampi with spaghatenni / angel hai...   \n",
                            "17061   17061    1389  really sweet bartenders ( paul : you 're aweso...   \n",
                            "17062   17062    2065  the filling is not too sweet and has good flav...   \n",
                            "\n",
                            "                                              token_idxs  \n",
                            "0       [329, 46, 56, 7, 27, 488, 165, 7, 6, 57, 15, 21]  \n",
                            "3      [4, 188, 9, 130, 7, 30, 25, 5, 671, 29, 4, 100...  \n",
                            "4      [587, 814, 877, 24, 296, 21, 32, 151, 105, 24,...  \n",
                            "5      [13, 8, 27, 133, 475, 5, 46, 56, 12, 5344, 35,...  \n",
                            "7      [4, 748, 79, 7165, 7, 79, 509, 1, 104, 4, 8421...  \n",
                            "...                                                  ...  \n",
                            "17058  [44, 70, 1102, 2512, 2025, 1, 3672, 42, 547, 4...  \n",
                            "17059  [677, 4, 287, 5355, 15, 69, 44, 1546, 51, 4, 6...  \n",
                            "17060  [4, 230, 4169, 26, 1, 124, 3667, 2303, 365, 26...  \n",
                            "17061  [49, 136, 576, 44, 6698, 128, 35, 22, 223, 133...  \n",
                            "17062  [4, 433, 9, 30, 55, 136, 6, 110, 14, 129, 48, ...  \n",
                            "\n",
                            "[15748 rows x 4 columns]"
                        ],
                        "text/html": [
                            "<div>\n",
                            "<style scoped>\n",
                            "    .dataframe tbody tr th:only-of-type {\n",
                            "        vertical-align: middle;\n",
                            "    }\n",
                            "\n",
                            "    .dataframe tbody tr th {\n",
                            "        vertical-align: top;\n",
                            "    }\n",
                            "\n",
                            "    .dataframe thead th {\n",
                            "        text-align: right;\n",
                            "    }\n",
                            "</style>\n",
                            "<table border=\"1\" class=\"dataframe\">\n",
                            "  <thead>\n",
                            "    <tr style=\"text-align: right;\">\n",
                            "      <th></th>\n",
                            "      <th>userid</th>\n",
                            "      <th>itemid</th>\n",
                            "      <th>review</th>\n",
                            "      <th>token_idxs</th>\n",
                            "    </tr>\n",
                            "  </thead>\n",
                            "  <tbody>\n",
                            "    <tr>\n",
                            "      <th>0</th>\n",
                            "      <td>0</td>\n",
                            "      <td>10711</td>\n",
                            "      <td>extremely friendly staff , very comfortable de...</td>\n",
                            "      <td>[329, 46, 56, 7, 27, 488, 165, 7, 6, 57, 15, 21]</td>\n",
                            "    </tr>\n",
                            "    <tr>\n",
                            "      <th>3</th>\n",
                            "      <td>3</td>\n",
                            "      <td>9574</td>\n",
                            "      <td>the sandwich is ok , not great . tip - the sho...</td>\n",
                            "      <td>[4, 188, 9, 130, 7, 30, 25, 5, 671, 29, 4, 100...</td>\n",
                            "    </tr>\n",
                            "    <tr>\n",
                            "      <th>4</th>\n",
                            "      <td>4</td>\n",
                            "      <td>4562</td>\n",
                            "      <td>three fabulous locations in vegas ! my favorit...</td>\n",
                            "      <td>[587, 814, 877, 24, 296, 21, 32, 151, 105, 24,...</td>\n",
                            "    </tr>\n",
                            "    <tr>\n",
                            "      <th>5</th>\n",
                            "      <td>5</td>\n",
                            "      <td>5203</td>\n",
                            "      <td>it was very awesome seats . friendly staff to ...</td>\n",
                            "      <td>[13, 8, 27, 133, 475, 5, 46, 56, 12, 5344, 35,...</td>\n",
                            "    </tr>\n",
                            "    <tr>\n",
                            "      <th>7</th>\n",
                            "      <td>7</td>\n",
                            "      <td>8</td>\n",
                            "      <td>the name \" snooze , \" may conjure up the image...</td>\n",
                            "      <td>[4, 748, 79, 7165, 7, 79, 509, 1, 104, 4, 8421...</td>\n",
                            "    </tr>\n",
                            "    <tr>\n",
                            "      <th>...</th>\n",
                            "      <td>...</td>\n",
                            "      <td>...</td>\n",
                            "      <td>...</td>\n",
                            "      <td>...</td>\n",
                            "    </tr>\n",
                            "    <tr>\n",
                            "      <th>17058</th>\n",
                            "      <td>17058</td>\n",
                            "      <td>2325</td>\n",
                            "      <td>( also called banh mi xiu mai ) sometimes thei...</td>\n",
                            "      <td>[44, 70, 1102, 2512, 2025, 1, 3672, 42, 547, 4...</td>\n",
                            "    </tr>\n",
                            "    <tr>\n",
                            "      <th>17059</th>\n",
                            "      <td>17059</td>\n",
                            "      <td>10219</td>\n",
                            "      <td>between the yummy sounding food menu ( omg all...</td>\n",
                            "      <td>[677, 4, 287, 5355, 15, 69, 44, 1546, 51, 4, 6...</td>\n",
                            "    </tr>\n",
                            "    <tr>\n",
                            "      <th>17060</th>\n",
                            "      <td>17060</td>\n",
                            "      <td>1410</td>\n",
                            "      <td>the shrimp scampi with spaghatenni / angel hai...</td>\n",
                            "      <td>[4, 230, 4169, 26, 1, 124, 3667, 2303, 365, 26...</td>\n",
                            "    </tr>\n",
                            "    <tr>\n",
                            "      <th>17061</th>\n",
                            "      <td>17061</td>\n",
                            "      <td>1389</td>\n",
                            "      <td>really sweet bartenders ( paul : you 're aweso...</td>\n",
                            "      <td>[49, 136, 576, 44, 6698, 128, 35, 22, 223, 133...</td>\n",
                            "    </tr>\n",
                            "    <tr>\n",
                            "      <th>17062</th>\n",
                            "      <td>17062</td>\n",
                            "      <td>2065</td>\n",
                            "      <td>the filling is not too sweet and has good flav...</td>\n",
                            "      <td>[4, 433, 9, 30, 55, 136, 6, 110, 14, 129, 48, ...</td>\n",
                            "    </tr>\n",
                            "  </tbody>\n",
                            "</table>\n",
                            "<p>15748 rows × 4 columns</p>\n",
                            "</div>"
                        ]
                    },
                    "metadata": {},
                    "execution_count": 58
                }
            ],
            "metadata": {}
        },
        {
            "cell_type": "code",
            "execution_count": 23,
            "source": [
                "list(df_testset['review'])[0]"
            ],
            "outputs": [
                {
                    "output_type": "execute_result",
                    "data": {
                        "text/plain": [
                            "'extremely friendly staff , very comfortable decor , and delicious food !'"
                        ]
                    },
                    "metadata": {},
                    "execution_count": 23
                }
            ],
            "metadata": {}
        },
        {
            "cell_type": "code",
            "execution_count": 10,
            "source": [
                "yelp_file = \"/p/reviewde/data/yelp_aobo_small/yelp_aobo.pickle\"\n",
                "df_yelp_dataset = pd.read_pickle(yelp_file)"
            ],
            "outputs": [],
            "metadata": {}
        },
        {
            "cell_type": "code",
            "execution_count": 59,
            "source": [
                "df_yelp_dataset"
            ],
            "outputs": [
                {
                    "output_type": "execute_result",
                    "data": {
                        "text/plain": [
                            "         userid  itemid  rating  \\\n",
                            "0           337    6021     3.0   \n",
                            "1          9838   30281     1.0   \n",
                            "2          5255   17171     1.0   \n",
                            "3         68788    1616     4.0   \n",
                            "4         10134      76     3.0   \n",
                            "...         ...     ...     ...   \n",
                            "2111256     783   12773     5.0   \n",
                            "2111257   15575   25127     5.0   \n",
                            "2111258   12101   28024     1.0   \n",
                            "2111259    3241    9265     4.0   \n",
                            "2111260   33400    1132     3.0   \n",
                            "\n",
                            "                                                    review  \n",
                            "0        i might as well add that the price has also in...  \n",
                            "1        i 've been going for years and the food qualit...  \n",
                            "2        i could go on with the details but the gist of...  \n",
                            "3        great lunch today . staff was very helpful in ...  \n",
                            "4        mmmm ... the food was just alright . the jade ...  \n",
                            "...                                                    ...  \n",
                            "2111256  pizzas were amazing , slight char and great ta...  \n",
                            "2111257  great food aside , i really want to make a sho...  \n",
                            "2111258          parking is ok now that baseball is over .  \n",
                            "2111259  staff was super nice and everyone looked like ...  \n",
                            "2111260  pros : definitely great for the pancakes , the...  \n",
                            "\n",
                            "[2111261 rows x 4 columns]"
                        ],
                        "text/html": [
                            "<div>\n",
                            "<style scoped>\n",
                            "    .dataframe tbody tr th:only-of-type {\n",
                            "        vertical-align: middle;\n",
                            "    }\n",
                            "\n",
                            "    .dataframe tbody tr th {\n",
                            "        vertical-align: top;\n",
                            "    }\n",
                            "\n",
                            "    .dataframe thead th {\n",
                            "        text-align: right;\n",
                            "    }\n",
                            "</style>\n",
                            "<table border=\"1\" class=\"dataframe\">\n",
                            "  <thead>\n",
                            "    <tr style=\"text-align: right;\">\n",
                            "      <th></th>\n",
                            "      <th>userid</th>\n",
                            "      <th>itemid</th>\n",
                            "      <th>rating</th>\n",
                            "      <th>review</th>\n",
                            "    </tr>\n",
                            "  </thead>\n",
                            "  <tbody>\n",
                            "    <tr>\n",
                            "      <th>0</th>\n",
                            "      <td>337</td>\n",
                            "      <td>6021</td>\n",
                            "      <td>3.0</td>\n",
                            "      <td>i might as well add that the price has also in...</td>\n",
                            "    </tr>\n",
                            "    <tr>\n",
                            "      <th>1</th>\n",
                            "      <td>9838</td>\n",
                            "      <td>30281</td>\n",
                            "      <td>1.0</td>\n",
                            "      <td>i 've been going for years and the food qualit...</td>\n",
                            "    </tr>\n",
                            "    <tr>\n",
                            "      <th>2</th>\n",
                            "      <td>5255</td>\n",
                            "      <td>17171</td>\n",
                            "      <td>1.0</td>\n",
                            "      <td>i could go on with the details but the gist of...</td>\n",
                            "    </tr>\n",
                            "    <tr>\n",
                            "      <th>3</th>\n",
                            "      <td>68788</td>\n",
                            "      <td>1616</td>\n",
                            "      <td>4.0</td>\n",
                            "      <td>great lunch today . staff was very helpful in ...</td>\n",
                            "    </tr>\n",
                            "    <tr>\n",
                            "      <th>4</th>\n",
                            "      <td>10134</td>\n",
                            "      <td>76</td>\n",
                            "      <td>3.0</td>\n",
                            "      <td>mmmm ... the food was just alright . the jade ...</td>\n",
                            "    </tr>\n",
                            "    <tr>\n",
                            "      <th>...</th>\n",
                            "      <td>...</td>\n",
                            "      <td>...</td>\n",
                            "      <td>...</td>\n",
                            "      <td>...</td>\n",
                            "    </tr>\n",
                            "    <tr>\n",
                            "      <th>2111256</th>\n",
                            "      <td>783</td>\n",
                            "      <td>12773</td>\n",
                            "      <td>5.0</td>\n",
                            "      <td>pizzas were amazing , slight char and great ta...</td>\n",
                            "    </tr>\n",
                            "    <tr>\n",
                            "      <th>2111257</th>\n",
                            "      <td>15575</td>\n",
                            "      <td>25127</td>\n",
                            "      <td>5.0</td>\n",
                            "      <td>great food aside , i really want to make a sho...</td>\n",
                            "    </tr>\n",
                            "    <tr>\n",
                            "      <th>2111258</th>\n",
                            "      <td>12101</td>\n",
                            "      <td>28024</td>\n",
                            "      <td>1.0</td>\n",
                            "      <td>parking is ok now that baseball is over .</td>\n",
                            "    </tr>\n",
                            "    <tr>\n",
                            "      <th>2111259</th>\n",
                            "      <td>3241</td>\n",
                            "      <td>9265</td>\n",
                            "      <td>4.0</td>\n",
                            "      <td>staff was super nice and everyone looked like ...</td>\n",
                            "    </tr>\n",
                            "    <tr>\n",
                            "      <th>2111260</th>\n",
                            "      <td>33400</td>\n",
                            "      <td>1132</td>\n",
                            "      <td>3.0</td>\n",
                            "      <td>pros : definitely great for the pancakes , the...</td>\n",
                            "    </tr>\n",
                            "  </tbody>\n",
                            "</table>\n",
                            "<p>2111261 rows × 4 columns</p>\n",
                            "</div>"
                        ]
                    },
                    "metadata": {},
                    "execution_count": 59
                }
            ],
            "metadata": {}
        },
        {
            "cell_type": "code",
            "execution_count": 15,
            "source": [
                "print(type(df_yelp_dataset.iloc[0]['userid']))\n",
                "print(type(df_yelp_dataset.iloc[0]['itemid']))\n",
                "print(type(df_yelp_dataset.iloc[0]['rating']))\n",
                "print(type(df_yelp_dataset.iloc[0]['review']))"
            ],
            "outputs": [
                {
                    "output_type": "stream",
                    "name": "stdout",
                    "text": [
                        "<class 'numpy.int64'>\n",
                        "<class 'numpy.int64'>\n",
                        "<class 'numpy.float64'>\n",
                        "<class 'str'>\n"
                    ]
                }
            ],
            "metadata": {}
        },
        {
            "cell_type": "code",
            "execution_count": 22,
            "source": [
                "example_text = \"the staff is extremely nice and helpful and there are many options to choose from here .\"\n",
                "df_yelp_dataset.loc[(df_yelp_dataset['review']==example_text)]"
            ],
            "outputs": [
                {
                    "output_type": "execute_result",
                    "data": {
                        "text/plain": [
                            "         userid  itemid  rating  \\\n",
                            "1536942       5    9769     4.0   \n",
                            "\n",
                            "                                                    review  \n",
                            "1536942  the staff is extremely nice and helpful and th...  "
                        ],
                        "text/html": [
                            "<div>\n",
                            "<style scoped>\n",
                            "    .dataframe tbody tr th:only-of-type {\n",
                            "        vertical-align: middle;\n",
                            "    }\n",
                            "\n",
                            "    .dataframe tbody tr th {\n",
                            "        vertical-align: top;\n",
                            "    }\n",
                            "\n",
                            "    .dataframe thead th {\n",
                            "        text-align: right;\n",
                            "    }\n",
                            "</style>\n",
                            "<table border=\"1\" class=\"dataframe\">\n",
                            "  <thead>\n",
                            "    <tr style=\"text-align: right;\">\n",
                            "      <th></th>\n",
                            "      <th>userid</th>\n",
                            "      <th>itemid</th>\n",
                            "      <th>rating</th>\n",
                            "      <th>review</th>\n",
                            "    </tr>\n",
                            "  </thead>\n",
                            "  <tbody>\n",
                            "    <tr>\n",
                            "      <th>1536942</th>\n",
                            "      <td>5</td>\n",
                            "      <td>9769</td>\n",
                            "      <td>4.0</td>\n",
                            "      <td>the staff is extremely nice and helpful and th...</td>\n",
                            "    </tr>\n",
                            "  </tbody>\n",
                            "</table>\n",
                            "</div>"
                        ]
                    },
                    "metadata": {},
                    "execution_count": 22
                }
            ],
            "metadata": {}
        },
        {
            "cell_type": "code",
            "execution_count": 21,
            "source": [
                "example_text = \"great service , great location in the biltmore , nice decor and yummy food !\"\n",
                "df_yelp_dataset.loc[(df_yelp_dataset['review']==example_text)]"
            ],
            "outputs": [
                {
                    "output_type": "execute_result",
                    "data": {
                        "text/plain": [
                            "         userid  itemid  rating  \\\n",
                            "1570821       5    9761     4.0   \n",
                            "\n",
                            "                                                    review  \n",
                            "1570821  great service , great location in the biltmore...  "
                        ],
                        "text/html": [
                            "<div>\n",
                            "<style scoped>\n",
                            "    .dataframe tbody tr th:only-of-type {\n",
                            "        vertical-align: middle;\n",
                            "    }\n",
                            "\n",
                            "    .dataframe tbody tr th {\n",
                            "        vertical-align: top;\n",
                            "    }\n",
                            "\n",
                            "    .dataframe thead th {\n",
                            "        text-align: right;\n",
                            "    }\n",
                            "</style>\n",
                            "<table border=\"1\" class=\"dataframe\">\n",
                            "  <thead>\n",
                            "    <tr style=\"text-align: right;\">\n",
                            "      <th></th>\n",
                            "      <th>userid</th>\n",
                            "      <th>itemid</th>\n",
                            "      <th>rating</th>\n",
                            "      <th>review</th>\n",
                            "    </tr>\n",
                            "  </thead>\n",
                            "  <tbody>\n",
                            "    <tr>\n",
                            "      <th>1570821</th>\n",
                            "      <td>5</td>\n",
                            "      <td>9761</td>\n",
                            "      <td>4.0</td>\n",
                            "      <td>great service , great location in the biltmore...</td>\n",
                            "    </tr>\n",
                            "  </tbody>\n",
                            "</table>\n",
                            "</div>"
                        ]
                    },
                    "metadata": {},
                    "execution_count": 21
                }
            ],
            "metadata": {}
        },
        {
            "cell_type": "code",
            "execution_count": 24,
            "source": [
                "example_text = \"extremely friendly staff , very comfortable decor , and delicious food !\"\n",
                "df_yelp_dataset.loc[(df_yelp_dataset['review']==example_text)]"
            ],
            "outputs": [
                {
                    "output_type": "execute_result",
                    "data": {
                        "text/plain": [
                            "         userid  itemid  rating  \\\n",
                            "1064381       5   13445     4.0   \n",
                            "\n",
                            "                                                    review  \n",
                            "1064381  extremely friendly staff , very comfortable de...  "
                        ],
                        "text/html": [
                            "<div>\n",
                            "<style scoped>\n",
                            "    .dataframe tbody tr th:only-of-type {\n",
                            "        vertical-align: middle;\n",
                            "    }\n",
                            "\n",
                            "    .dataframe tbody tr th {\n",
                            "        vertical-align: top;\n",
                            "    }\n",
                            "\n",
                            "    .dataframe thead th {\n",
                            "        text-align: right;\n",
                            "    }\n",
                            "</style>\n",
                            "<table border=\"1\" class=\"dataframe\">\n",
                            "  <thead>\n",
                            "    <tr style=\"text-align: right;\">\n",
                            "      <th></th>\n",
                            "      <th>userid</th>\n",
                            "      <th>itemid</th>\n",
                            "      <th>rating</th>\n",
                            "      <th>review</th>\n",
                            "    </tr>\n",
                            "  </thead>\n",
                            "  <tbody>\n",
                            "    <tr>\n",
                            "      <th>1064381</th>\n",
                            "      <td>5</td>\n",
                            "      <td>13445</td>\n",
                            "      <td>4.0</td>\n",
                            "      <td>extremely friendly staff , very comfortable de...</td>\n",
                            "    </tr>\n",
                            "  </tbody>\n",
                            "</table>\n",
                            "</div>"
                        ]
                    },
                    "metadata": {},
                    "execution_count": 24
                }
            ],
            "metadata": {}
        },
        {
            "cell_type": "code",
            "execution_count": 25,
            "source": [
                "df_yelp_dataset['rating'].unique()"
            ],
            "outputs": [
                {
                    "output_type": "execute_result",
                    "data": {
                        "text/plain": [
                            "array([3., 1., 4., 5., 2.])"
                        ]
                    },
                    "metadata": {},
                    "execution_count": 25
                }
            ],
            "metadata": {}
        },
        {
            "cell_type": "code",
            "execution_count": 37,
            "source": [
                "df_trainset.shape"
            ],
            "outputs": [
                {
                    "output_type": "execute_result",
                    "data": {
                        "text/plain": [
                            "(677027, 5)"
                        ]
                    },
                    "metadata": {},
                    "execution_count": 37
                }
            ],
            "metadata": {}
        },
        {
            "cell_type": "code",
            "execution_count": 27,
            "source": [
                "# Add new column for train/valid/test yelp-small dataset\n",
                "df_trainset.insert(df_trainset.shape[1], 'rating', 0.0)\n",
                "df_validset.insert(df_validset.shape[1], 'rating', 0.0)\n",
                "df_testset.insert(df_testset.shape[1], 'rating', 0.0)"
            ],
            "outputs": [],
            "metadata": {}
        },
        {
            "cell_type": "code",
            "execution_count": 49,
            "source": [
                "# Loop Through All rows in the train-set\n",
                "cnt_num_review_with_multi_matching = 0\n",
                "for idx in df_trainset.index:\n",
                "    cur_review_text = df_trainset.loc[idx, 'review']\n",
                "    rating_list = list(df_yelp_dataset.loc[(df_yelp_dataset['review']==cur_review_text)]['rating'])\n",
                "    # try:\n",
                "    #     assert len(rating_list) == 1\n",
                "    # except:\n",
                "    #     print(rating_list)\n",
                "    #     print(df_yelp_dataset.loc[(df_yelp_dataset['review']==cur_review_text)])\n",
                "    #     break\n",
                "    assert len(rating_list) >= 1\n",
                "    if len(rating_list) > 1:\n",
                "        cnt_num_review_with_multi_matching += 1\n",
                "    df_trainset.loc[idx, 'rating'] = rating_list[0]\n",
                "    if idx % 20000 == 0:\n",
                "        print(\"{} lines\".format(idx+1))\n"
            ],
            "outputs": [
                {
                    "output_type": "stream",
                    "name": "stdout",
                    "text": [
                        "1 lines\n"
                    ]
                },
                {
                    "output_type": "error",
                    "ename": "KeyboardInterrupt",
                    "evalue": "",
                    "traceback": [
                        "\u001b[0;31m---------------------------------------------------------------------------\u001b[0m",
                        "\u001b[0;31mKeyboardInterrupt\u001b[0m                         Traceback (most recent call last)",
                        "\u001b[0;32m<ipython-input-49-92f9bff8c975>\u001b[0m in \u001b[0;36m<module>\u001b[0;34m\u001b[0m\n\u001b[1;32m      3\u001b[0m \u001b[0;32mfor\u001b[0m \u001b[0midx\u001b[0m \u001b[0;32min\u001b[0m \u001b[0mdf_trainset\u001b[0m\u001b[0;34m.\u001b[0m\u001b[0mindex\u001b[0m\u001b[0;34m:\u001b[0m\u001b[0;34m\u001b[0m\u001b[0;34m\u001b[0m\u001b[0m\n\u001b[1;32m      4\u001b[0m     \u001b[0mcur_review_text\u001b[0m \u001b[0;34m=\u001b[0m \u001b[0mdf_trainset\u001b[0m\u001b[0;34m.\u001b[0m\u001b[0mloc\u001b[0m\u001b[0;34m[\u001b[0m\u001b[0midx\u001b[0m\u001b[0;34m,\u001b[0m \u001b[0;34m'review'\u001b[0m\u001b[0;34m]\u001b[0m\u001b[0;34m\u001b[0m\u001b[0;34m\u001b[0m\u001b[0m\n\u001b[0;32m----> 5\u001b[0;31m     \u001b[0mrating_list\u001b[0m \u001b[0;34m=\u001b[0m \u001b[0mlist\u001b[0m\u001b[0;34m(\u001b[0m\u001b[0mdf_yelp_dataset\u001b[0m\u001b[0;34m.\u001b[0m\u001b[0mloc\u001b[0m\u001b[0;34m[\u001b[0m\u001b[0;34m(\u001b[0m\u001b[0mdf_yelp_dataset\u001b[0m\u001b[0;34m[\u001b[0m\u001b[0;34m'review'\u001b[0m\u001b[0;34m]\u001b[0m\u001b[0;34m==\u001b[0m\u001b[0mcur_review_text\u001b[0m\u001b[0;34m)\u001b[0m\u001b[0;34m]\u001b[0m\u001b[0;34m[\u001b[0m\u001b[0;34m'rating'\u001b[0m\u001b[0;34m]\u001b[0m\u001b[0;34m)\u001b[0m\u001b[0;34m\u001b[0m\u001b[0;34m\u001b[0m\u001b[0m\n\u001b[0m\u001b[1;32m      6\u001b[0m     \u001b[0;31m# try:\u001b[0m\u001b[0;34m\u001b[0m\u001b[0;34m\u001b[0m\u001b[0;34m\u001b[0m\u001b[0m\n\u001b[1;32m      7\u001b[0m     \u001b[0;31m#     assert len(rating_list) == 1\u001b[0m\u001b[0;34m\u001b[0m\u001b[0;34m\u001b[0m\u001b[0;34m\u001b[0m\u001b[0m\n",
                        "\u001b[0;32m~/.local/lib/python3.7/site-packages/pandas/core/ops/common.py\u001b[0m in \u001b[0;36mnew_method\u001b[0;34m(self, other)\u001b[0m\n\u001b[1;32m     63\u001b[0m         \u001b[0mother\u001b[0m \u001b[0;34m=\u001b[0m \u001b[0mitem_from_zerodim\u001b[0m\u001b[0;34m(\u001b[0m\u001b[0mother\u001b[0m\u001b[0;34m)\u001b[0m\u001b[0;34m\u001b[0m\u001b[0;34m\u001b[0m\u001b[0m\n\u001b[1;32m     64\u001b[0m \u001b[0;34m\u001b[0m\u001b[0m\n\u001b[0;32m---> 65\u001b[0;31m         \u001b[0;32mreturn\u001b[0m \u001b[0mmethod\u001b[0m\u001b[0;34m(\u001b[0m\u001b[0mself\u001b[0m\u001b[0;34m,\u001b[0m \u001b[0mother\u001b[0m\u001b[0;34m)\u001b[0m\u001b[0;34m\u001b[0m\u001b[0;34m\u001b[0m\u001b[0m\n\u001b[0m\u001b[1;32m     66\u001b[0m \u001b[0;34m\u001b[0m\u001b[0m\n\u001b[1;32m     67\u001b[0m     \u001b[0;32mreturn\u001b[0m \u001b[0mnew_method\u001b[0m\u001b[0;34m\u001b[0m\u001b[0;34m\u001b[0m\u001b[0m\n",
                        "\u001b[0;32m~/.local/lib/python3.7/site-packages/pandas/core/arraylike.py\u001b[0m in \u001b[0;36m__eq__\u001b[0;34m(self, other)\u001b[0m\n\u001b[1;32m     27\u001b[0m     \u001b[0;34m@\u001b[0m\u001b[0munpack_zerodim_and_defer\u001b[0m\u001b[0;34m(\u001b[0m\u001b[0;34m\"__eq__\"\u001b[0m\u001b[0;34m)\u001b[0m\u001b[0;34m\u001b[0m\u001b[0;34m\u001b[0m\u001b[0m\n\u001b[1;32m     28\u001b[0m     \u001b[0;32mdef\u001b[0m \u001b[0m__eq__\u001b[0m\u001b[0;34m(\u001b[0m\u001b[0mself\u001b[0m\u001b[0;34m,\u001b[0m \u001b[0mother\u001b[0m\u001b[0;34m)\u001b[0m\u001b[0;34m:\u001b[0m\u001b[0;34m\u001b[0m\u001b[0;34m\u001b[0m\u001b[0m\n\u001b[0;32m---> 29\u001b[0;31m         \u001b[0;32mreturn\u001b[0m \u001b[0mself\u001b[0m\u001b[0;34m.\u001b[0m\u001b[0m_cmp_method\u001b[0m\u001b[0;34m(\u001b[0m\u001b[0mother\u001b[0m\u001b[0;34m,\u001b[0m \u001b[0moperator\u001b[0m\u001b[0;34m.\u001b[0m\u001b[0meq\u001b[0m\u001b[0;34m)\u001b[0m\u001b[0;34m\u001b[0m\u001b[0;34m\u001b[0m\u001b[0m\n\u001b[0m\u001b[1;32m     30\u001b[0m \u001b[0;34m\u001b[0m\u001b[0m\n\u001b[1;32m     31\u001b[0m     \u001b[0;34m@\u001b[0m\u001b[0munpack_zerodim_and_defer\u001b[0m\u001b[0;34m(\u001b[0m\u001b[0;34m\"__ne__\"\u001b[0m\u001b[0;34m)\u001b[0m\u001b[0;34m\u001b[0m\u001b[0;34m\u001b[0m\u001b[0m\n",
                        "\u001b[0;32m~/.local/lib/python3.7/site-packages/pandas/core/series.py\u001b[0m in \u001b[0;36m_cmp_method\u001b[0;34m(self, other, op)\u001b[0m\n\u001b[1;32m   4976\u001b[0m         \u001b[0mrvalues\u001b[0m \u001b[0;34m=\u001b[0m \u001b[0mextract_array\u001b[0m\u001b[0;34m(\u001b[0m\u001b[0mother\u001b[0m\u001b[0;34m,\u001b[0m \u001b[0mextract_numpy\u001b[0m\u001b[0;34m=\u001b[0m\u001b[0;32mTrue\u001b[0m\u001b[0;34m)\u001b[0m\u001b[0;34m\u001b[0m\u001b[0;34m\u001b[0m\u001b[0m\n\u001b[1;32m   4977\u001b[0m \u001b[0;34m\u001b[0m\u001b[0m\n\u001b[0;32m-> 4978\u001b[0;31m         \u001b[0mres_values\u001b[0m \u001b[0;34m=\u001b[0m \u001b[0mops\u001b[0m\u001b[0;34m.\u001b[0m\u001b[0mcomparison_op\u001b[0m\u001b[0;34m(\u001b[0m\u001b[0mlvalues\u001b[0m\u001b[0;34m,\u001b[0m \u001b[0mrvalues\u001b[0m\u001b[0;34m,\u001b[0m \u001b[0mop\u001b[0m\u001b[0;34m)\u001b[0m\u001b[0;34m\u001b[0m\u001b[0;34m\u001b[0m\u001b[0m\n\u001b[0m\u001b[1;32m   4979\u001b[0m \u001b[0;34m\u001b[0m\u001b[0m\n\u001b[1;32m   4980\u001b[0m         \u001b[0;32mreturn\u001b[0m \u001b[0mself\u001b[0m\u001b[0;34m.\u001b[0m\u001b[0m_construct_result\u001b[0m\u001b[0;34m(\u001b[0m\u001b[0mres_values\u001b[0m\u001b[0;34m,\u001b[0m \u001b[0mname\u001b[0m\u001b[0;34m=\u001b[0m\u001b[0mres_name\u001b[0m\u001b[0;34m)\u001b[0m\u001b[0;34m\u001b[0m\u001b[0;34m\u001b[0m\u001b[0m\n",
                        "\u001b[0;32m~/.local/lib/python3.7/site-packages/pandas/core/ops/array_ops.py\u001b[0m in \u001b[0;36mcomparison_op\u001b[0;34m(left, right, op)\u001b[0m\n\u001b[1;32m    241\u001b[0m \u001b[0;34m\u001b[0m\u001b[0m\n\u001b[1;32m    242\u001b[0m     \u001b[0;32melif\u001b[0m \u001b[0mis_object_dtype\u001b[0m\u001b[0;34m(\u001b[0m\u001b[0mlvalues\u001b[0m\u001b[0;34m.\u001b[0m\u001b[0mdtype\u001b[0m\u001b[0;34m)\u001b[0m\u001b[0;34m:\u001b[0m\u001b[0;34m\u001b[0m\u001b[0;34m\u001b[0m\u001b[0m\n\u001b[0;32m--> 243\u001b[0;31m         \u001b[0mres_values\u001b[0m \u001b[0;34m=\u001b[0m \u001b[0mcomp_method_OBJECT_ARRAY\u001b[0m\u001b[0;34m(\u001b[0m\u001b[0mop\u001b[0m\u001b[0;34m,\u001b[0m \u001b[0mlvalues\u001b[0m\u001b[0;34m,\u001b[0m \u001b[0mrvalues\u001b[0m\u001b[0;34m)\u001b[0m\u001b[0;34m\u001b[0m\u001b[0;34m\u001b[0m\u001b[0m\n\u001b[0m\u001b[1;32m    244\u001b[0m \u001b[0;34m\u001b[0m\u001b[0m\n\u001b[1;32m    245\u001b[0m     \u001b[0;32melse\u001b[0m\u001b[0;34m:\u001b[0m\u001b[0;34m\u001b[0m\u001b[0;34m\u001b[0m\u001b[0m\n",
                        "\u001b[0;32m~/.local/lib/python3.7/site-packages/pandas/core/ops/array_ops.py\u001b[0m in \u001b[0;36mcomp_method_OBJECT_ARRAY\u001b[0;34m(op, x, y)\u001b[0m\n\u001b[1;32m     53\u001b[0m         \u001b[0mresult\u001b[0m \u001b[0;34m=\u001b[0m \u001b[0mlibops\u001b[0m\u001b[0;34m.\u001b[0m\u001b[0mvec_compare\u001b[0m\u001b[0;34m(\u001b[0m\u001b[0mx\u001b[0m\u001b[0;34m.\u001b[0m\u001b[0mravel\u001b[0m\u001b[0;34m(\u001b[0m\u001b[0;34m)\u001b[0m\u001b[0;34m,\u001b[0m \u001b[0my\u001b[0m\u001b[0;34m.\u001b[0m\u001b[0mravel\u001b[0m\u001b[0;34m(\u001b[0m\u001b[0;34m)\u001b[0m\u001b[0;34m,\u001b[0m \u001b[0mop\u001b[0m\u001b[0;34m)\u001b[0m\u001b[0;34m\u001b[0m\u001b[0;34m\u001b[0m\u001b[0m\n\u001b[1;32m     54\u001b[0m     \u001b[0;32melse\u001b[0m\u001b[0;34m:\u001b[0m\u001b[0;34m\u001b[0m\u001b[0;34m\u001b[0m\u001b[0m\n\u001b[0;32m---> 55\u001b[0;31m         \u001b[0mresult\u001b[0m \u001b[0;34m=\u001b[0m \u001b[0mlibops\u001b[0m\u001b[0;34m.\u001b[0m\u001b[0mscalar_compare\u001b[0m\u001b[0;34m(\u001b[0m\u001b[0mx\u001b[0m\u001b[0;34m.\u001b[0m\u001b[0mravel\u001b[0m\u001b[0;34m(\u001b[0m\u001b[0;34m)\u001b[0m\u001b[0;34m,\u001b[0m \u001b[0my\u001b[0m\u001b[0;34m,\u001b[0m \u001b[0mop\u001b[0m\u001b[0;34m)\u001b[0m\u001b[0;34m\u001b[0m\u001b[0;34m\u001b[0m\u001b[0m\n\u001b[0m\u001b[1;32m     56\u001b[0m     \u001b[0;32mreturn\u001b[0m \u001b[0mresult\u001b[0m\u001b[0;34m.\u001b[0m\u001b[0mreshape\u001b[0m\u001b[0;34m(\u001b[0m\u001b[0mx\u001b[0m\u001b[0;34m.\u001b[0m\u001b[0mshape\u001b[0m\u001b[0;34m)\u001b[0m\u001b[0;34m\u001b[0m\u001b[0;34m\u001b[0m\u001b[0m\n\u001b[1;32m     57\u001b[0m \u001b[0;34m\u001b[0m\u001b[0m\n",
                        "\u001b[0;31mKeyboardInterrupt\u001b[0m: "
                    ]
                }
            ],
            "metadata": {}
        },
        {
            "cell_type": "code",
            "execution_count": 50,
            "source": [
                "cnt_num_review_with_multi_matching"
            ],
            "outputs": [
                {
                    "output_type": "execute_result",
                    "data": {
                        "text/plain": [
                            "21"
                        ]
                    },
                    "metadata": {},
                    "execution_count": 50
                }
            ],
            "metadata": {}
        },
        {
            "cell_type": "code",
            "execution_count": 51,
            "source": [
                "idx"
            ],
            "outputs": [
                {
                    "output_type": "execute_result",
                    "data": {
                        "text/plain": [
                            "2986"
                        ]
                    },
                    "metadata": {},
                    "execution_count": 51
                }
            ],
            "metadata": {}
        },
        {
            "cell_type": "code",
            "execution_count": null,
            "source": [
                "for idx in df_validset.index:\n",
                "    cur_review_text = df_validset.loc[idx, 'review']\n",
                "    rating_list = list(df_yelp_dataset.loc[(df_yelp_dataset['review']==cur_review_text)]['rating'])\n",
                "    assert len(rating_list) == 1\n",
                "    df_validset.loc[idx, 'rating'] = rating_list[0]\n",
                "    if idx % 2000 == 0:\n",
                "        print(\"{} lines\".format(idx+1))"
            ],
            "outputs": [],
            "metadata": {}
        },
        {
            "cell_type": "code",
            "execution_count": 61,
            "source": [
                "import json\n",
                "# write\n",
                "trainset_output_file = \"/u/pw7nc/experiments/Dataset/yelp/train.json\"\n",
                "validset_output_file = \"/u/pw7nc/experiments/Dataset/yelp/valid.json\"\n",
                "testset_output_file = \"/u/pw7nc/experiments/Dataset/yelp/test.json\"\n",
                "\n",
                "with open(trainset_output_file, 'w') as f:\n",
                "    for idx in df_trainset.index:\n",
                "        current_dict = dict()\n",
                "        user_id = df_trainset.loc[idx, 'userid']\n",
                "        item_id = df_trainset.loc[idx, 'itemid']\n",
                "        review_text = df_trainset.loc[idx, 'review']\n",
                "        current_dict['user'] = int(user_id)\n",
                "        current_dict['item'] = int(item_id)\n",
                "        current_dict['review'] = review_text\n",
                "        json.dump(current_dict, f)\n",
                "        f.write(\"\\n\")\n",
                "\n"
            ],
            "outputs": [],
            "metadata": {}
        },
        {
            "cell_type": "code",
            "execution_count": 62,
            "source": [
                "with open(validset_output_file, 'w') as f:\n",
                "    for idx in df_validset.index:\n",
                "        current_dict = dict()\n",
                "        user_id = df_validset.loc[idx, 'userid']\n",
                "        item_id = df_validset.loc[idx, 'itemid']\n",
                "        review_text = df_validset.loc[idx, 'review']\n",
                "        current_dict['user'] = int(user_id)\n",
                "        current_dict['item'] = int(item_id)\n",
                "        current_dict['review'] = review_text\n",
                "        json.dump(current_dict, f)\n",
                "        f.write(\"\\n\")"
            ],
            "outputs": [],
            "metadata": {}
        },
        {
            "cell_type": "code",
            "execution_count": 63,
            "source": [
                "with open(testset_output_file, 'w') as f:\n",
                "    for idx in df_testset.index:\n",
                "        current_dict = dict()\n",
                "        user_id = df_testset.loc[idx, 'userid']\n",
                "        item_id = df_testset.loc[idx, 'itemid']\n",
                "        review_text = df_testset.loc[idx, 'review']\n",
                "        current_dict['user'] = int(user_id)\n",
                "        current_dict['item'] = int(item_id)\n",
                "        current_dict['review'] = review_text\n",
                "        json.dump(current_dict, f)\n",
                "        f.write(\"\\n\")"
            ],
            "outputs": [],
            "metadata": {}
        },
        {
            "cell_type": "code",
            "execution_count": null,
            "source": [],
            "outputs": [],
            "metadata": {}
        }
    ],
    "metadata": {
        "orig_nbformat": 4,
        "language_info": {
            "name": "python"
        }
    },
    "nbformat": 4,
    "nbformat_minor": 2
}