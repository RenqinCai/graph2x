{
    "cells": [
        {
            "cell_type": "code",
            "execution_count": 1,
            "source": [
                "!which python"
            ],
            "outputs": [
                {
                    "output_type": "stream",
                    "name": "stdout",
                    "text": [
                        "/u/pw7nc/anaconda3/bin/python\n"
                    ]
                }
            ],
            "metadata": {}
        },
        {
            "cell_type": "code",
            "execution_count": 2,
            "source": [
                "import gurobipy as gp\n",
                "from gurobipy import GRB\n",
                "import numpy as np\n",
                "import scipy.sparse as sp"
            ],
            "outputs": [],
            "metadata": {}
        },
        {
            "cell_type": "code",
            "execution_count": 3,
            "source": [
                "# Create a new model\n",
                "m = gp.Model(\"graph2x_ilp_quad\")\n",
                "m.Params.LogToConsole = 0"
            ],
            "outputs": [],
            "metadata": {}
        },
        {
            "cell_type": "code",
            "execution_count": 4,
            "source": [
                "# Create variables\n",
                "W = m.addMVar(shape=5, vtype=GRB.BINARY, name=\"W\")"
            ],
            "outputs": [],
            "metadata": {}
        },
        {
            "cell_type": "code",
            "execution_count": 5,
            "source": [
                "W"
            ],
            "outputs": [
                {
                    "output_type": "execute_result",
                    "data": {
                        "text/plain": [
                            "<(5,) matrix variable>"
                        ]
                    },
                    "metadata": {},
                    "execution_count": 5
                }
            ],
            "metadata": {}
        },
        {
            "cell_type": "code",
            "execution_count": 6,
            "source": [
                "m"
            ],
            "outputs": [
                {
                    "output_type": "execute_result",
                    "data": {
                        "text/plain": [
                            "<gurobi.Model Continuous instance graph2x_ilp_quad: 0 constrs, 0 vars, Parameter changes: LogToConsole=0>"
                        ]
                    },
                    "metadata": {},
                    "execution_count": 6
                }
            ],
            "metadata": {}
        },
        {
            "cell_type": "code",
            "execution_count": 7,
            "source": [
                "sim_scores = np.array(\n",
                "    [\n",
                "        [1.0, 0.16, 0.2, 0.3, 0.5],\n",
                "        [0.16, 1.0, 0.7, 0.4, 0.2],\n",
                "        [0.2, 0.7, 1.0, 0.9, 0.25],\n",
                "        [0.3, 0.4, 0.9, 1.0, 0.12],\n",
                "        [0.5, 0.2, 0.25, 0.12, 1.0]\n",
                "    ]\n",
                ")"
            ],
            "outputs": [],
            "metadata": {}
        },
        {
            "cell_type": "code",
            "execution_count": 8,
            "source": [
                "sim_scores"
            ],
            "outputs": [
                {
                    "output_type": "execute_result",
                    "data": {
                        "text/plain": [
                            "array([[1.  , 0.16, 0.2 , 0.3 , 0.5 ],\n",
                            "       [0.16, 1.  , 0.7 , 0.4 , 0.2 ],\n",
                            "       [0.2 , 0.7 , 1.  , 0.9 , 0.25],\n",
                            "       [0.3 , 0.4 , 0.9 , 1.  , 0.12],\n",
                            "       [0.5 , 0.2 , 0.25, 0.12, 1.  ]])"
                        ]
                    },
                    "metadata": {},
                    "execution_count": 8
                }
            ],
            "metadata": {}
        },
        {
            "cell_type": "code",
            "execution_count": 9,
            "source": [
                "sim_scores_upper = np.triu(sim_scores, 1)"
            ],
            "outputs": [],
            "metadata": {}
        },
        {
            "cell_type": "code",
            "execution_count": 10,
            "source": [
                "sim_scores_upper"
            ],
            "outputs": [
                {
                    "output_type": "execute_result",
                    "data": {
                        "text/plain": [
                            "array([[0.  , 0.16, 0.2 , 0.3 , 0.5 ],\n",
                            "       [0.  , 0.  , 0.7 , 0.4 , 0.2 ],\n",
                            "       [0.  , 0.  , 0.  , 0.9 , 0.25],\n",
                            "       [0.  , 0.  , 0.  , 0.  , 0.12],\n",
                            "       [0.  , 0.  , 0.  , 0.  , 0.  ]])"
                        ]
                    },
                    "metadata": {},
                    "execution_count": 10
                }
            ],
            "metadata": {}
        },
        {
            "cell_type": "code",
            "execution_count": 11,
            "source": [
                "pred_scores = np.array(\n",
                "    [0.8, 0.6, 0.5, 0.2, 0.01]\n",
                ")"
            ],
            "outputs": [],
            "metadata": {}
        },
        {
            "cell_type": "code",
            "execution_count": 12,
            "source": [
                "pred_scores"
            ],
            "outputs": [
                {
                    "output_type": "execute_result",
                    "data": {
                        "text/plain": [
                            "array([0.8 , 0.6 , 0.5 , 0.2 , 0.01])"
                        ]
                    },
                    "metadata": {},
                    "execution_count": 12
                }
            ],
            "metadata": {}
        },
        {
            "cell_type": "code",
            "execution_count": 13,
            "source": [
                "alpha = 1.0\n",
                "\n",
                "# Option 1: Use List Comprehension\n",
                "# m.setObjective(\n",
                "#     pred_scores @ x - sum(x[i] @ x[j] * sim_scores[i][j] for i in range(5) for j in range(i+1, 5)),\n",
                "#     GRB.MAXIMIZE\n",
                "# )\n",
                "\n",
                "# Option 2: Use Matrix matmul. Note, the sim_score should only contain the upper triangle matrix\n",
                "m.setObjective(\n",
                "    (pred_scores @ W) - alpha * (W @ sim_scores_upper @ W),\n",
                "    GRB.MAXIMIZE\n",
                ")"
            ],
            "outputs": [],
            "metadata": {}
        },
        {
            "cell_type": "code",
            "execution_count": 14,
            "source": [
                "np.ones(5)"
            ],
            "outputs": [
                {
                    "output_type": "execute_result",
                    "data": {
                        "text/plain": [
                            "array([1., 1., 1., 1., 1.])"
                        ]
                    },
                    "metadata": {},
                    "execution_count": 14
                }
            ],
            "metadata": {}
        },
        {
            "cell_type": "code",
            "execution_count": 15,
            "source": [
                "N = 3\n",
                "ones = np.ones(5)\n",
                "m.addConstr(ones @ W == N, name=\"c\")"
            ],
            "outputs": [
                {
                    "output_type": "execute_result",
                    "data": {
                        "text/plain": [
                            "<(1,) matrix constraint>"
                        ]
                    },
                    "metadata": {},
                    "execution_count": 15
                }
            ],
            "metadata": {}
        },
        {
            "cell_type": "code",
            "execution_count": 16,
            "source": [
                "m"
            ],
            "outputs": [
                {
                    "output_type": "execute_result",
                    "data": {
                        "text/plain": [
                            "<gurobi.Model Continuous instance graph2x_ilp_quad: 0 constrs, 0 vars, Parameter changes: LogToConsole=0>"
                        ]
                    },
                    "metadata": {},
                    "execution_count": 16
                }
            ],
            "metadata": {}
        },
        {
            "cell_type": "code",
            "execution_count": 17,
            "source": [
                "# Optimize model\n",
                "m.optimize()"
            ],
            "outputs": [],
            "metadata": {}
        },
        {
            "cell_type": "code",
            "execution_count": 18,
            "source": [
                "m"
            ],
            "outputs": [
                {
                    "output_type": "execute_result",
                    "data": {
                        "text/plain": [
                            "<gurobi.Model MIP instance graph2x_ilp_quad: 1 constrs, 5 vars, Parameter changes: LogToConsole=0>"
                        ]
                    },
                    "metadata": {},
                    "execution_count": 18
                }
            ],
            "metadata": {}
        },
        {
            "cell_type": "code",
            "execution_count": 19,
            "source": [
                "print(W.X)\n",
                "print('Obj: %g' % m.objVal)"
            ],
            "outputs": [
                {
                    "output_type": "stream",
                    "name": "stdout",
                    "text": [
                        "[ 1.  1.  1. -0. -0.]\n",
                        "Obj: 0.84\n"
                    ]
                }
            ],
            "metadata": {}
        },
        {
            "cell_type": "code",
            "execution_count": 20,
            "source": [
                "m"
            ],
            "outputs": [
                {
                    "output_type": "execute_result",
                    "data": {
                        "text/plain": [
                            "<gurobi.Model MIP instance graph2x_ilp_quad: 1 constrs, 5 vars, Parameter changes: LogToConsole=0>"
                        ]
                    },
                    "metadata": {},
                    "execution_count": 20
                }
            ],
            "metadata": {}
        },
        {
            "cell_type": "code",
            "execution_count": 21,
            "source": [
                "m.dispose()"
            ],
            "outputs": [],
            "metadata": {}
        },
        {
            "cell_type": "code",
            "execution_count": null,
            "source": [],
            "outputs": [],
            "metadata": {}
        }
    ],
    "metadata": {
        "orig_nbformat": 4,
        "language_info": {
            "name": "python",
            "version": "3.7.3",
            "mimetype": "text/x-python",
            "codemirror_mode": {
                "name": "ipython",
                "version": 3
            },
            "pygments_lexer": "ipython3",
            "nbconvert_exporter": "python",
            "file_extension": ".py"
        },
        "kernelspec": {
            "name": "python3",
            "display_name": "Python 3.7.3 64-bit ('base': conda)"
        },
        "interpreter": {
            "hash": "73d0647c863cb9ce92fb50b3911519dc6558e38bcfd5798aa86981c2dac43fdf"
        }
    },
    "nbformat": 4,
    "nbformat_minor": 2
}