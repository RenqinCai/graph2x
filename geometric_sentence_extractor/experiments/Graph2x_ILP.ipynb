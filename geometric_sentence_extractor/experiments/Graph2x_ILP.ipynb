{
    "cells": [
        {
            "cell_type": "code",
            "execution_count": 1,
            "source": [
                "!which python"
            ],
            "outputs": [
                {
                    "output_type": "stream",
                    "name": "stdout",
                    "text": [
                        "/u/pw7nc/anaconda3/bin/python\n"
                    ]
                }
            ],
            "metadata": {}
        },
        {
            "cell_type": "code",
            "execution_count": 2,
            "source": [
                "import gurobipy as gp\n",
                "from gurobipy import GRB\n",
                "import numpy as np\n",
                "import scipy.sparse as sp"
            ],
            "outputs": [],
            "metadata": {}
        },
        {
            "cell_type": "code",
            "execution_count": 3,
            "source": [
                "# Create a new model\n",
                "m = gp.Model(\"graph2x_ilp\")\n",
                "m.Params.LogToConsole = 0"
            ],
            "outputs": [],
            "metadata": {}
        },
        {
            "cell_type": "code",
            "execution_count": 4,
            "source": [
                "# Create variables\n",
                "X = m.addMVar(shape=5, vtype=GRB.BINARY, name=\"X\")"
            ],
            "outputs": [],
            "metadata": {}
        },
        {
            "cell_type": "code",
            "execution_count": 5,
            "source": [
                "Y = m.addMVar(shape=(5,5), vtype=GRB.BINARY, name=\"Y\")"
            ],
            "outputs": [],
            "metadata": {}
        },
        {
            "cell_type": "code",
            "execution_count": 6,
            "source": [
                "X"
            ],
            "outputs": [
                {
                    "output_type": "execute_result",
                    "data": {
                        "text/plain": [
                            "<(5,) matrix variable>"
                        ]
                    },
                    "metadata": {},
                    "execution_count": 6
                }
            ],
            "metadata": {}
        },
        {
            "cell_type": "code",
            "execution_count": 7,
            "source": [
                "Y"
            ],
            "outputs": [
                {
                    "output_type": "execute_result",
                    "data": {
                        "text/plain": [
                            "<(5, 5) matrix variable>"
                        ]
                    },
                    "metadata": {},
                    "execution_count": 7
                }
            ],
            "metadata": {}
        },
        {
            "cell_type": "code",
            "execution_count": 8,
            "source": [
                "X[0]"
            ],
            "outputs": [
                {
                    "output_type": "execute_result",
                    "data": {
                        "text/plain": [
                            "<(1,) matrix variable>"
                        ]
                    },
                    "metadata": {},
                    "execution_count": 8
                }
            ],
            "metadata": {}
        },
        {
            "cell_type": "code",
            "execution_count": 9,
            "source": [
                "Y[0][0]"
            ],
            "outputs": [
                {
                    "output_type": "execute_result",
                    "data": {
                        "text/plain": [
                            "<(1,) matrix variable>"
                        ]
                    },
                    "metadata": {},
                    "execution_count": 9
                }
            ],
            "metadata": {}
        },
        {
            "cell_type": "code",
            "execution_count": 10,
            "source": [
                "m"
            ],
            "outputs": [
                {
                    "output_type": "execute_result",
                    "data": {
                        "text/plain": [
                            "<gurobi.Model Continuous instance graph2x_ilp: 0 constrs, 0 vars, Parameter changes: LogToConsole=0>"
                        ]
                    },
                    "metadata": {},
                    "execution_count": 10
                }
            ],
            "metadata": {}
        },
        {
            "cell_type": "code",
            "execution_count": 11,
            "source": [
                "sim_scores = np.array(\n",
                "    [\n",
                "        [1.0, 0.16, 0.2, 0.3, 0.5],\n",
                "        [0.16, 1.0, 0.7, 0.4, 0.2],\n",
                "        [0.2, 0.7, 1.0, 0.9, 0.25],\n",
                "        [0.3, 0.4, 0.9, 1.0, 0.12],\n",
                "        [0.5, 0.2, 0.25, 0.12, 1.0]\n",
                "    ]\n",
                ")"
            ],
            "outputs": [],
            "metadata": {}
        },
        {
            "cell_type": "code",
            "execution_count": 12,
            "source": [
                "sim_scores"
            ],
            "outputs": [
                {
                    "output_type": "execute_result",
                    "data": {
                        "text/plain": [
                            "array([[1.  , 0.16, 0.2 , 0.3 , 0.5 ],\n",
                            "       [0.16, 1.  , 0.7 , 0.4 , 0.2 ],\n",
                            "       [0.2 , 0.7 , 1.  , 0.9 , 0.25],\n",
                            "       [0.3 , 0.4 , 0.9 , 1.  , 0.12],\n",
                            "       [0.5 , 0.2 , 0.25, 0.12, 1.  ]])"
                        ]
                    },
                    "metadata": {},
                    "execution_count": 12
                }
            ],
            "metadata": {}
        },
        {
            "cell_type": "code",
            "execution_count": 13,
            "source": [
                "sim_scores_upper = np.triu(sim_scores, 1)"
            ],
            "outputs": [],
            "metadata": {}
        },
        {
            "cell_type": "code",
            "execution_count": 14,
            "source": [
                "sim_scores_upper"
            ],
            "outputs": [
                {
                    "output_type": "execute_result",
                    "data": {
                        "text/plain": [
                            "array([[0.  , 0.16, 0.2 , 0.3 , 0.5 ],\n",
                            "       [0.  , 0.  , 0.7 , 0.4 , 0.2 ],\n",
                            "       [0.  , 0.  , 0.  , 0.9 , 0.25],\n",
                            "       [0.  , 0.  , 0.  , 0.  , 0.12],\n",
                            "       [0.  , 0.  , 0.  , 0.  , 0.  ]])"
                        ]
                    },
                    "metadata": {},
                    "execution_count": 14
                }
            ],
            "metadata": {}
        },
        {
            "cell_type": "code",
            "execution_count": 15,
            "source": [
                "pred_scores = np.array(\n",
                "    [0.8, 0.6, 0.5, 0.2, 0.01]\n",
                ")"
            ],
            "outputs": [],
            "metadata": {}
        },
        {
            "cell_type": "code",
            "execution_count": 16,
            "source": [
                "pred_scores"
            ],
            "outputs": [
                {
                    "output_type": "execute_result",
                    "data": {
                        "text/plain": [
                            "array([0.8 , 0.6 , 0.5 , 0.2 , 0.01])"
                        ]
                    },
                    "metadata": {},
                    "execution_count": 16
                }
            ],
            "metadata": {}
        },
        {
            "cell_type": "code",
            "execution_count": 17,
            "source": [
                "alpha = 0.5\n",
                "\n",
                "# Option 1: Use List Comprehension\n",
                "m.setObjective(\n",
                "    pred_scores @ X - alpha * sum(Y[i][j] * sim_scores[i][j] for i in range(5) for j in range(i+1, 5)),\n",
                "    GRB.MAXIMIZE\n",
                ")\n",
                "\n",
                "# # Option 2: Use Matrix matmul. Note, the sim_score should only contain the upper triangle matrix\n",
                "# m.setObjective(\n",
                "#     (pred_scores @ X) - alpha * (X @ sim_scores_upper @ X),\n",
                "#     GRB.MAXIMIZE\n",
                "# )"
            ],
            "outputs": [],
            "metadata": {}
        },
        {
            "cell_type": "code",
            "execution_count": 18,
            "source": [
                "np.ones(5)"
            ],
            "outputs": [
                {
                    "output_type": "execute_result",
                    "data": {
                        "text/plain": [
                            "array([1., 1., 1., 1., 1.])"
                        ]
                    },
                    "metadata": {},
                    "execution_count": 18
                }
            ],
            "metadata": {}
        },
        {
            "cell_type": "code",
            "execution_count": 19,
            "source": [
                "# In this toy example, let's try to select 3 sentences\n",
                "N_num = 3\n",
                "ones = np.ones(5)\n",
                "m.addConstr(ones @ X == N_num, name=\"c\")"
            ],
            "outputs": [
                {
                    "output_type": "execute_result",
                    "data": {
                        "text/plain": [
                            "<(1,) matrix constraint>"
                        ]
                    },
                    "metadata": {},
                    "execution_count": 19
                }
            ],
            "metadata": {}
        },
        {
            "cell_type": "code",
            "execution_count": 20,
            "source": [
                "# Add the inequality constraints\n",
                "# https://www.gurobi.com/documentation/9.1/refman/py_model_addconstrs.html\n",
                "m.addConstrs(\n",
                "    ((X[i] + X[j]) <= (Y[i][j] + 1) for i in range(5) for j in range(i+1, 5)), name='c1'\n",
                ")"
            ],
            "outputs": [
                {
                    "output_type": "execute_result",
                    "data": {
                        "text/plain": [
                            "{(0, 1): <(1,) matrix constraint *awaiting model update*>,\n",
                            " (0, 2): <(1,) matrix constraint *awaiting model update*>,\n",
                            " (0, 3): <(1,) matrix constraint *awaiting model update*>,\n",
                            " (0, 4): <(1,) matrix constraint *awaiting model update*>,\n",
                            " (1, 2): <(1,) matrix constraint *awaiting model update*>,\n",
                            " (1, 3): <(1,) matrix constraint *awaiting model update*>,\n",
                            " (1, 4): <(1,) matrix constraint *awaiting model update*>,\n",
                            " (2, 3): <(1,) matrix constraint *awaiting model update*>,\n",
                            " (2, 4): <(1,) matrix constraint *awaiting model update*>,\n",
                            " (3, 4): <(1,) matrix constraint *awaiting model update*>}"
                        ]
                    },
                    "metadata": {},
                    "execution_count": 20
                }
            ],
            "metadata": {}
        },
        {
            "cell_type": "code",
            "execution_count": 21,
            "source": [
                "# Add the sum constraint of Y\n",
                "E_num = N_num * (N_num - 1) / 2\n",
                "m.addConstr(\n",
                "    sum(Y[i][j] for i in range(5) for j in range(i+1, 5)) == E_num, name=\"c2\"\n",
                ")"
            ],
            "outputs": [
                {
                    "output_type": "execute_result",
                    "data": {
                        "text/plain": [
                            "<(1,) matrix constraint *awaiting model update*>"
                        ]
                    },
                    "metadata": {},
                    "execution_count": 21
                }
            ],
            "metadata": {}
        },
        {
            "cell_type": "code",
            "execution_count": 22,
            "source": [
                "m"
            ],
            "outputs": [
                {
                    "output_type": "execute_result",
                    "data": {
                        "text/plain": [
                            "<gurobi.Model Continuous instance graph2x_ilp: 0 constrs, 0 vars, Parameter changes: LogToConsole=0>"
                        ]
                    },
                    "metadata": {},
                    "execution_count": 22
                }
            ],
            "metadata": {}
        },
        {
            "cell_type": "code",
            "execution_count": 23,
            "source": [
                "# Optimize model\n",
                "m.optimize()"
            ],
            "outputs": [],
            "metadata": {}
        },
        {
            "cell_type": "code",
            "execution_count": 24,
            "source": [
                "m"
            ],
            "outputs": [
                {
                    "output_type": "execute_result",
                    "data": {
                        "text/plain": [
                            "<gurobi.Model MIP instance graph2x_ilp: 12 constrs, 30 vars, Parameter changes: LogToConsole=0>"
                        ]
                    },
                    "metadata": {},
                    "execution_count": 24
                }
            ],
            "metadata": {}
        },
        {
            "cell_type": "code",
            "execution_count": 25,
            "source": [
                "print(X.X)\n",
                "print(Y.X)\n",
                "print('Obj: %g' % m.objVal)"
            ],
            "outputs": [
                {
                    "output_type": "stream",
                    "name": "stdout",
                    "text": [
                        "[ 1.  1.  1. -0. -0.]\n",
                        "[[ 0.  1.  1.  0.  0.]\n",
                        " [ 0.  0.  1. -0. -0.]\n",
                        " [ 0.  0.  0. -0. -0.]\n",
                        " [ 0.  0.  0.  0. -0.]\n",
                        " [ 0.  0.  0.  0.  0.]]\n",
                        "Obj: 1.37\n"
                    ]
                }
            ],
            "metadata": {}
        },
        {
            "cell_type": "code",
            "execution_count": 26,
            "source": [
                "m"
            ],
            "outputs": [
                {
                    "output_type": "execute_result",
                    "data": {
                        "text/plain": [
                            "<gurobi.Model MIP instance graph2x_ilp: 12 constrs, 30 vars, Parameter changes: LogToConsole=0>"
                        ]
                    },
                    "metadata": {},
                    "execution_count": 26
                }
            ],
            "metadata": {}
        },
        {
            "cell_type": "code",
            "execution_count": 52,
            "source": [
                "m.dispose()"
            ],
            "outputs": [],
            "metadata": {}
        },
        {
            "cell_type": "code",
            "execution_count": 27,
            "source": [
                "Y.X"
            ],
            "outputs": [
                {
                    "output_type": "execute_result",
                    "data": {
                        "text/plain": [
                            "array([[ 0.,  1.,  1.,  0.,  0.],\n",
                            "       [ 0.,  0.,  1., -0., -0.],\n",
                            "       [ 0.,  0.,  0., -0., -0.],\n",
                            "       [ 0.,  0.,  0.,  0., -0.],\n",
                            "       [ 0.,  0.,  0.,  0.,  0.]])"
                        ]
                    },
                    "metadata": {},
                    "execution_count": 27
                }
            ],
            "metadata": {}
        },
        {
            "cell_type": "code",
            "execution_count": 28,
            "source": [
                "Y.X[0][1] == 1.0"
            ],
            "outputs": [
                {
                    "output_type": "execute_result",
                    "data": {
                        "text/plain": [
                            "True"
                        ]
                    },
                    "metadata": {},
                    "execution_count": 28
                }
            ],
            "metadata": {}
        },
        {
            "cell_type": "code",
            "execution_count": 29,
            "source": [
                "Y.X[1][3] == 0.0"
            ],
            "outputs": [
                {
                    "output_type": "execute_result",
                    "data": {
                        "text/plain": [
                            "True"
                        ]
                    },
                    "metadata": {},
                    "execution_count": 29
                }
            ],
            "metadata": {}
        },
        {
            "cell_type": "code",
            "execution_count": 30,
            "source": [
                "Y.X[1][4] == 0.0"
            ],
            "outputs": [
                {
                    "output_type": "execute_result",
                    "data": {
                        "text/plain": [
                            "True"
                        ]
                    },
                    "metadata": {},
                    "execution_count": 30
                }
            ],
            "metadata": {}
        },
        {
            "cell_type": "code",
            "execution_count": null,
            "source": [],
            "outputs": [],
            "metadata": {}
        }
    ],
    "metadata": {
        "orig_nbformat": 4,
        "language_info": {
            "name": "python",
            "version": "3.7.3",
            "mimetype": "text/x-python",
            "codemirror_mode": {
                "name": "ipython",
                "version": 3
            },
            "pygments_lexer": "ipython3",
            "nbconvert_exporter": "python",
            "file_extension": ".py"
        },
        "kernelspec": {
            "name": "python3",
            "display_name": "Python 3.7.3 64-bit ('base': conda)"
        },
        "interpreter": {
            "hash": "73d0647c863cb9ce92fb50b3911519dc6558e38bcfd5798aa86981c2dac43fdf"
        }
    },
    "nbformat": 4,
    "nbformat_minor": 2
}